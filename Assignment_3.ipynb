{
 "cells": [
  {
   "cell_type": "markdown",
   "id": "08f60860",
   "metadata": {},
   "source": [
    "Q1)The time required for servicing transmissions is normally distributed with μ = 45 minutes and σ = 8 minutes. The service manager plans to have work begin on the transmission of a customer’s car 10 minutes after the car is dropped off and the customer is told that the car will be ready within 1 hour from drop-off. What is the probability that the service manager cannot meet his commitment? \n"
   ]
  },
  {
   "cell_type": "code",
   "execution_count": 12,
   "id": "8aeec9ad",
   "metadata": {},
   "outputs": [
    {
     "data": {
      "text/plain": [
       "0.26598552904870054"
      ]
     },
     "execution_count": 12,
     "metadata": {},
     "output_type": "execute_result"
    }
   ],
   "source": [
    "from scipy.stats import norm\n",
    "mean=45\n",
    "standard_deviation=8\n",
    "n=norm(mean,standard_deviation)\n",
    "1-n.cdf(49.999999999999999999)\n"
   ]
  },
  {
   "cell_type": "markdown",
   "id": "34fb75a6",
   "metadata": {},
   "source": [
    "Q2)The current age (in years) of 400 clerical employees at an insurance claims processing center is normally distributed with mean μ = 38 and Standard deviation σ =6. For each statement below, please specify True/False. If false, briefly explain why.\n",
    "\n",
    "A)More employees at the processing center are older than 44 than between 38 and 44. Ans:- False\n",
    "\n",
    "B)A training program for employees under the age of 30 at the center would be expected to attract about 36 employees.\n",
    "Ans:- True\n"
   ]
  },
  {
   "cell_type": "code",
   "execution_count": 26,
   "id": "11094786",
   "metadata": {},
   "outputs": [
    {
     "name": "stdout",
     "output_type": "stream",
     "text": [
      "0.3413447460685429\n"
     ]
    }
   ],
   "source": [
    "mean=38\n",
    "standard_deviation=6\n",
    "n=norm(mean,standard_deviation)\n",
    "a=n.cdf(44)-n.cdf(38)#Difference between 38 and 44\n",
    "print(a)"
   ]
  },
  {
   "cell_type": "code",
   "execution_count": 27,
   "id": "6fb63282",
   "metadata": {},
   "outputs": [
    {
     "name": "stdout",
     "output_type": "stream",
     "text": [
      "0.15865525393145707\n"
     ]
    }
   ],
   "source": [
    "b=1-n.cdf(44)#Older than 44\n",
    "print(b)"
   ]
  },
  {
   "cell_type": "code",
   "execution_count": 29,
   "id": "86c818a8",
   "metadata": {},
   "outputs": [
    {
     "name": "stdout",
     "output_type": "stream",
     "text": [
      "False\n"
     ]
    }
   ],
   "source": [
    "if b > a:\n",
    "    print(\"True\")\n",
    "else:\n",
    "    print(\"False\")"
   ]
  },
  {
   "cell_type": "markdown",
   "id": "20d62a15",
   "metadata": {},
   "source": [
    "A)While comparing to employees which are older than 44 than between 38 and 44, Employees which are in between 38 and 44 are more. So, the given statement is False."
   ]
  },
  {
   "cell_type": "code",
   "execution_count": 23,
   "id": "624fe553",
   "metadata": {},
   "outputs": [
    {
     "name": "stdout",
     "output_type": "stream",
     "text": [
      "A training program for employees under the age of 30 at the center would be expected to attract about 36 employees is True.\n",
      " 36.484487890347154\n"
     ]
    }
   ],
   "source": [
    "K=n.cdf(30)\n",
    "print(\"A training program for employees under the age of 30 at the center would be expected to attract about 36 employees is True.\\n\",K*400)"
   ]
  },
  {
   "cell_type": "markdown",
   "id": "646b08a0",
   "metadata": {},
   "source": [
    "Q4)Let X ~ N(100, 20^2). Find two values, a and b, symmetric about the mean, such that the probability of the random variable taking a value between them is 0.99. \n"
   ]
  },
  {
   "cell_type": "code",
   "execution_count": 1,
   "id": "3fcc3dfa",
   "metadata": {},
   "outputs": [
    {
     "data": {
      "text/plain": [
       "(48.48341392902199, 151.516586070978)"
      ]
     },
     "execution_count": 1,
     "metadata": {},
     "output_type": "execute_result"
    }
   ],
   "source": [
    "mean=100\n",
    "standard_deviation=20\n",
    "from scipy.stats import norm\n",
    "norm.interval(0.99, loc=mean,scale=standard_deviation)"
   ]
  },
  {
   "cell_type": "raw",
   "id": "1783935f",
   "metadata": {},
   "source": [
    "Q5)Consider a company that has two different divisions. The annual profits from the two divisions are independent and have distributions Profit1 ~ N(5, 3^2) and Profit2 ~ N(7, 4^2) respectively. Both the profits are in $ Million.\n",
    "Answer the following questions about the total profit of the company in Rupees. Assume that $1 = Rs. 45\n",
    "\n",
    "\n",
    "A)Specify a Rupee range (centered on the mean) such that it contains 95% probability for the annual profit of the company.\n",
    "B)Specify the 5th percentile of profit (in Rupees) for the company\n",
    "C)Which of the two divisions has a larger probability of making a loss in a given year?\n"
   ]
  },
  {
   "cell_type": "code",
   "execution_count": 9,
   "id": "896b98ac",
   "metadata": {},
   "outputs": [
    {
     "name": "stdout",
     "output_type": "stream",
     "text": [
      "Mean from  Profit1 is in rupees is:  225\n",
      "Mean from  Profit2 is in rupees is:  315\n",
      "Total Mean from Profit1 and Profit2 is in rupees is:  540\n",
      "Standard deviation from Profit1 is in rupees is :  135\n",
      "Standard deviation from Profit2 is in rupees is :  180\n",
      "Total Standard deviation from profit1 and profit2 is in rupees is:  190.91883092036784\n"
     ]
    }
   ],
   "source": [
    "#given\n",
    "# Profit1=N(5,3^2)\n",
    "# Profit2=N(7,4^2)\n",
    "import numpy as np\n",
    "from scipy.stats import norm\n",
    "Mean1=5*45#to get $ in Rupees we have to multiply with 45\n",
    "Standard_deviation1=3*45#to get $ in Rupees we have to multiply with 45\n",
    "Mean2=7*45#to get $ in Rupees we have to multiply with 45\n",
    "Standard_deviation2=4*45#to get $ in Rupees we have to multiply with 45\n",
    "total_mean=Mean1+Mean2\n",
    "total_standard_deviation=np.sqrt(pow(Standard_deviation1,2)+pow(Standard_deviation1,2))\n",
    "print(\"Mean from  Profit1 is in rupees is: \", Mean1)\n",
    "print(\"Mean from  Profit2 is in rupees is: \", Mean2)\n",
    "print(\"Total Mean from Profit1 and Profit2 is in rupees is: \",total_mean)\n",
    "print(\"Standard deviation from Profit1 is in rupees is : \", Standard_deviation1)\n",
    "print(\"Standard deviation from Profit2 is in rupees is : \", Standard_deviation2)\n",
    "print(\"Total Standard deviation from profit1 and profit2 is in rupees is: \", total_standard_deviation)"
   ]
  },
  {
   "cell_type": "markdown",
   "id": "75f1cab2",
   "metadata": {},
   "source": [
    "A)Specify a Rupee range (centered on the mean) such that it contains 95% probability for the annual profit of the company."
   ]
  },
  {
   "cell_type": "code",
   "execution_count": 14,
   "id": "bac98900",
   "metadata": {},
   "outputs": [
    {
     "name": "stdout",
     "output_type": "stream",
     "text": [
      "Rupee range such that it contains 95% probability for the annual profit of the company is : (165.80596742558697, 914.1940325744131)\n"
     ]
    }
   ],
   "source": [
    "n=norm.interval(0.95, loc=total_mean, scale=total_standard_deviation)\n",
    "print(\"Rupee range such that it contains 95% probability for the annual profit of the company is :\",n)"
   ]
  },
  {
   "cell_type": "markdown",
   "id": "948f72f7",
   "metadata": {},
   "source": [
    "B)Specify the 5th percentile of profit (in Rupees) for the company"
   ]
  },
  {
   "cell_type": "code",
   "execution_count": 16,
   "id": "fae21d4c",
   "metadata": {},
   "outputs": [
    {
     "name": "stdout",
     "output_type": "stream",
     "text": [
      "5th percentile of profit (in rupees ) for the company is :  203.22537068302827\n"
     ]
    }
   ],
   "source": [
    "p=np.percentile(n,5)\n",
    "print(\"5th percentile of profit (in rupees ) for the company is : \",p)"
   ]
  },
  {
   "cell_type": "markdown",
   "id": "f0907bbb",
   "metadata": {},
   "source": [
    "C)Which of the two divisions has a larger probability of making a loss in a given year?\n"
   ]
  },
  {
   "cell_type": "code",
   "execution_count": 22,
   "id": "f4b4fdef",
   "metadata": {},
   "outputs": [
    {
     "name": "stdout",
     "output_type": "stream",
     "text": [
      "Probability of loss for Profit1 is : 0.0477903522728147\n",
      "Probability of loss for Profit2 is : 0.040059156863817086\n",
      "Profit1 has a larger probability of making a loss in a given year is  :  0.0477903522728147\n"
     ]
    }
   ],
   "source": [
    "# we are calculating this data in rupees not in $ \n",
    "probability1=norm.cdf(0, loc=Mean1, scale=Standard_deviation1)\n",
    "probability2=norm.cdf(0, loc=Mean2, scale=Standard_deviation2)\n",
    "print(\"Probability of loss for Profit1 is :\", probability1)\n",
    "print(\"Probability of loss for Profit2 is :\", probability2)\n",
    "if probability1 > probability2:\n",
    "    print('Profit1 has a larger probability of making a loss in a given year is  : ',probability1)\n",
    "else:\n",
    "    print('Profit2 has a larger probability of making a loss in a given year is  : ',probability2)"
   ]
  },
  {
   "cell_type": "code",
   "execution_count": null,
   "id": "3b1575b3",
   "metadata": {},
   "outputs": [],
   "source": []
  }
 ],
 "metadata": {
  "kernelspec": {
   "display_name": "Python 3 (ipykernel)",
   "language": "python",
   "name": "python3"
  },
  "language_info": {
   "codemirror_mode": {
    "name": "ipython",
    "version": 3
   },
   "file_extension": ".py",
   "mimetype": "text/x-python",
   "name": "python",
   "nbconvert_exporter": "python",
   "pygments_lexer": "ipython3",
   "version": "3.9.13"
  }
 },
 "nbformat": 4,
 "nbformat_minor": 5
}
