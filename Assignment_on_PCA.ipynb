{
 "cells": [
  {
   "cell_type": "markdown",
   "id": "6b2999f1",
   "metadata": {},
   "source": [
    "Perform Principal component analysis and perform clustering using first \n",
    "3 principal component scores (both heirarchial and k mean clustering(scree plot or elbow curve) and obtain \n",
    "optimum number of clusters and check whether we have obtained same number of clusters with the original data \n",
    "(class column we have ignored at the begining who shows it has 3 clusters)df\n"
   ]
  },
  {
   "cell_type": "code",
   "execution_count": 1,
   "id": "da001eff",
   "metadata": {},
   "outputs": [
    {
     "data": {
      "text/html": [
       "<div>\n",
       "<style scoped>\n",
       "    .dataframe tbody tr th:only-of-type {\n",
       "        vertical-align: middle;\n",
       "    }\n",
       "\n",
       "    .dataframe tbody tr th {\n",
       "        vertical-align: top;\n",
       "    }\n",
       "\n",
       "    .dataframe thead th {\n",
       "        text-align: right;\n",
       "    }\n",
       "</style>\n",
       "<table border=\"1\" class=\"dataframe\">\n",
       "  <thead>\n",
       "    <tr style=\"text-align: right;\">\n",
       "      <th></th>\n",
       "      <th>Type</th>\n",
       "      <th>Alcohol</th>\n",
       "      <th>Malic</th>\n",
       "      <th>Ash</th>\n",
       "      <th>Alcalinity</th>\n",
       "      <th>Magnesium</th>\n",
       "      <th>Phenols</th>\n",
       "      <th>Flavanoids</th>\n",
       "      <th>Nonflavanoids</th>\n",
       "      <th>Proanthocyanins</th>\n",
       "      <th>Color</th>\n",
       "      <th>Hue</th>\n",
       "      <th>Dilution</th>\n",
       "      <th>Proline</th>\n",
       "    </tr>\n",
       "  </thead>\n",
       "  <tbody>\n",
       "    <tr>\n",
       "      <th>0</th>\n",
       "      <td>1</td>\n",
       "      <td>14.23</td>\n",
       "      <td>1.71</td>\n",
       "      <td>2.43</td>\n",
       "      <td>15.6</td>\n",
       "      <td>127</td>\n",
       "      <td>2.80</td>\n",
       "      <td>3.06</td>\n",
       "      <td>0.28</td>\n",
       "      <td>2.29</td>\n",
       "      <td>5.64</td>\n",
       "      <td>1.04</td>\n",
       "      <td>3.92</td>\n",
       "      <td>1065</td>\n",
       "    </tr>\n",
       "    <tr>\n",
       "      <th>1</th>\n",
       "      <td>1</td>\n",
       "      <td>13.20</td>\n",
       "      <td>1.78</td>\n",
       "      <td>2.14</td>\n",
       "      <td>11.2</td>\n",
       "      <td>100</td>\n",
       "      <td>2.65</td>\n",
       "      <td>2.76</td>\n",
       "      <td>0.26</td>\n",
       "      <td>1.28</td>\n",
       "      <td>4.38</td>\n",
       "      <td>1.05</td>\n",
       "      <td>3.40</td>\n",
       "      <td>1050</td>\n",
       "    </tr>\n",
       "    <tr>\n",
       "      <th>2</th>\n",
       "      <td>1</td>\n",
       "      <td>13.16</td>\n",
       "      <td>2.36</td>\n",
       "      <td>2.67</td>\n",
       "      <td>18.6</td>\n",
       "      <td>101</td>\n",
       "      <td>2.80</td>\n",
       "      <td>3.24</td>\n",
       "      <td>0.30</td>\n",
       "      <td>2.81</td>\n",
       "      <td>5.68</td>\n",
       "      <td>1.03</td>\n",
       "      <td>3.17</td>\n",
       "      <td>1185</td>\n",
       "    </tr>\n",
       "    <tr>\n",
       "      <th>3</th>\n",
       "      <td>1</td>\n",
       "      <td>14.37</td>\n",
       "      <td>1.95</td>\n",
       "      <td>2.50</td>\n",
       "      <td>16.8</td>\n",
       "      <td>113</td>\n",
       "      <td>3.85</td>\n",
       "      <td>3.49</td>\n",
       "      <td>0.24</td>\n",
       "      <td>2.18</td>\n",
       "      <td>7.80</td>\n",
       "      <td>0.86</td>\n",
       "      <td>3.45</td>\n",
       "      <td>1480</td>\n",
       "    </tr>\n",
       "    <tr>\n",
       "      <th>4</th>\n",
       "      <td>1</td>\n",
       "      <td>13.24</td>\n",
       "      <td>2.59</td>\n",
       "      <td>2.87</td>\n",
       "      <td>21.0</td>\n",
       "      <td>118</td>\n",
       "      <td>2.80</td>\n",
       "      <td>2.69</td>\n",
       "      <td>0.39</td>\n",
       "      <td>1.82</td>\n",
       "      <td>4.32</td>\n",
       "      <td>1.04</td>\n",
       "      <td>2.93</td>\n",
       "      <td>735</td>\n",
       "    </tr>\n",
       "    <tr>\n",
       "      <th>...</th>\n",
       "      <td>...</td>\n",
       "      <td>...</td>\n",
       "      <td>...</td>\n",
       "      <td>...</td>\n",
       "      <td>...</td>\n",
       "      <td>...</td>\n",
       "      <td>...</td>\n",
       "      <td>...</td>\n",
       "      <td>...</td>\n",
       "      <td>...</td>\n",
       "      <td>...</td>\n",
       "      <td>...</td>\n",
       "      <td>...</td>\n",
       "      <td>...</td>\n",
       "    </tr>\n",
       "    <tr>\n",
       "      <th>173</th>\n",
       "      <td>3</td>\n",
       "      <td>13.71</td>\n",
       "      <td>5.65</td>\n",
       "      <td>2.45</td>\n",
       "      <td>20.5</td>\n",
       "      <td>95</td>\n",
       "      <td>1.68</td>\n",
       "      <td>0.61</td>\n",
       "      <td>0.52</td>\n",
       "      <td>1.06</td>\n",
       "      <td>7.70</td>\n",
       "      <td>0.64</td>\n",
       "      <td>1.74</td>\n",
       "      <td>740</td>\n",
       "    </tr>\n",
       "    <tr>\n",
       "      <th>174</th>\n",
       "      <td>3</td>\n",
       "      <td>13.40</td>\n",
       "      <td>3.91</td>\n",
       "      <td>2.48</td>\n",
       "      <td>23.0</td>\n",
       "      <td>102</td>\n",
       "      <td>1.80</td>\n",
       "      <td>0.75</td>\n",
       "      <td>0.43</td>\n",
       "      <td>1.41</td>\n",
       "      <td>7.30</td>\n",
       "      <td>0.70</td>\n",
       "      <td>1.56</td>\n",
       "      <td>750</td>\n",
       "    </tr>\n",
       "    <tr>\n",
       "      <th>175</th>\n",
       "      <td>3</td>\n",
       "      <td>13.27</td>\n",
       "      <td>4.28</td>\n",
       "      <td>2.26</td>\n",
       "      <td>20.0</td>\n",
       "      <td>120</td>\n",
       "      <td>1.59</td>\n",
       "      <td>0.69</td>\n",
       "      <td>0.43</td>\n",
       "      <td>1.35</td>\n",
       "      <td>10.20</td>\n",
       "      <td>0.59</td>\n",
       "      <td>1.56</td>\n",
       "      <td>835</td>\n",
       "    </tr>\n",
       "    <tr>\n",
       "      <th>176</th>\n",
       "      <td>3</td>\n",
       "      <td>13.17</td>\n",
       "      <td>2.59</td>\n",
       "      <td>2.37</td>\n",
       "      <td>20.0</td>\n",
       "      <td>120</td>\n",
       "      <td>1.65</td>\n",
       "      <td>0.68</td>\n",
       "      <td>0.53</td>\n",
       "      <td>1.46</td>\n",
       "      <td>9.30</td>\n",
       "      <td>0.60</td>\n",
       "      <td>1.62</td>\n",
       "      <td>840</td>\n",
       "    </tr>\n",
       "    <tr>\n",
       "      <th>177</th>\n",
       "      <td>3</td>\n",
       "      <td>14.13</td>\n",
       "      <td>4.10</td>\n",
       "      <td>2.74</td>\n",
       "      <td>24.5</td>\n",
       "      <td>96</td>\n",
       "      <td>2.05</td>\n",
       "      <td>0.76</td>\n",
       "      <td>0.56</td>\n",
       "      <td>1.35</td>\n",
       "      <td>9.20</td>\n",
       "      <td>0.61</td>\n",
       "      <td>1.60</td>\n",
       "      <td>560</td>\n",
       "    </tr>\n",
       "  </tbody>\n",
       "</table>\n",
       "<p>178 rows × 14 columns</p>\n",
       "</div>"
      ],
      "text/plain": [
       "     Type  Alcohol  Malic   Ash  Alcalinity  Magnesium  Phenols  Flavanoids  \\\n",
       "0       1    14.23   1.71  2.43        15.6        127     2.80        3.06   \n",
       "1       1    13.20   1.78  2.14        11.2        100     2.65        2.76   \n",
       "2       1    13.16   2.36  2.67        18.6        101     2.80        3.24   \n",
       "3       1    14.37   1.95  2.50        16.8        113     3.85        3.49   \n",
       "4       1    13.24   2.59  2.87        21.0        118     2.80        2.69   \n",
       "..    ...      ...    ...   ...         ...        ...      ...         ...   \n",
       "173     3    13.71   5.65  2.45        20.5         95     1.68        0.61   \n",
       "174     3    13.40   3.91  2.48        23.0        102     1.80        0.75   \n",
       "175     3    13.27   4.28  2.26        20.0        120     1.59        0.69   \n",
       "176     3    13.17   2.59  2.37        20.0        120     1.65        0.68   \n",
       "177     3    14.13   4.10  2.74        24.5         96     2.05        0.76   \n",
       "\n",
       "     Nonflavanoids  Proanthocyanins  Color   Hue  Dilution  Proline  \n",
       "0             0.28             2.29   5.64  1.04      3.92     1065  \n",
       "1             0.26             1.28   4.38  1.05      3.40     1050  \n",
       "2             0.30             2.81   5.68  1.03      3.17     1185  \n",
       "3             0.24             2.18   7.80  0.86      3.45     1480  \n",
       "4             0.39             1.82   4.32  1.04      2.93      735  \n",
       "..             ...              ...    ...   ...       ...      ...  \n",
       "173           0.52             1.06   7.70  0.64      1.74      740  \n",
       "174           0.43             1.41   7.30  0.70      1.56      750  \n",
       "175           0.43             1.35  10.20  0.59      1.56      835  \n",
       "176           0.53             1.46   9.30  0.60      1.62      840  \n",
       "177           0.56             1.35   9.20  0.61      1.60      560  \n",
       "\n",
       "[178 rows x 14 columns]"
      ]
     },
     "execution_count": 1,
     "metadata": {},
     "output_type": "execute_result"
    }
   ],
   "source": [
    "import pandas as pd\n",
    "import numpy as np\n",
    "df=pd.read_csv('wine.csv')\n",
    "df"
   ]
  },
  {
   "cell_type": "code",
   "execution_count": 2,
   "id": "83b23394",
   "metadata": {},
   "outputs": [
    {
     "data": {
      "text/plain": [
       "Type                   0.600679\n",
       "Alcohol                0.659062\n",
       "Malic                  1.248015\n",
       "Ash                    0.075265\n",
       "Alcalinity            11.152686\n",
       "Magnesium            203.989335\n",
       "Phenols                0.391690\n",
       "Flavanoids             0.997719\n",
       "Nonflavanoids          0.015489\n",
       "Proanthocyanins        0.327595\n",
       "Color                  5.374449\n",
       "Hue                    0.052245\n",
       "Dilution               0.504086\n",
       "Proline            99166.717355\n",
       "dtype: float64"
      ]
     },
     "execution_count": 2,
     "metadata": {},
     "output_type": "execute_result"
    }
   ],
   "source": [
    "df.var()"
   ]
  },
  {
   "cell_type": "code",
   "execution_count": 3,
   "id": "6d44158a",
   "metadata": {},
   "outputs": [
    {
     "data": {
      "text/plain": [
       "(178, 14)"
      ]
     },
     "execution_count": 3,
     "metadata": {},
     "output_type": "execute_result"
    }
   ],
   "source": [
    "df.shape"
   ]
  },
  {
   "cell_type": "code",
   "execution_count": 4,
   "id": "fd14d7db",
   "metadata": {},
   "outputs": [
    {
     "data": {
      "text/html": [
       "<div>\n",
       "<style scoped>\n",
       "    .dataframe tbody tr th:only-of-type {\n",
       "        vertical-align: middle;\n",
       "    }\n",
       "\n",
       "    .dataframe tbody tr th {\n",
       "        vertical-align: top;\n",
       "    }\n",
       "\n",
       "    .dataframe thead th {\n",
       "        text-align: right;\n",
       "    }\n",
       "</style>\n",
       "<table border=\"1\" class=\"dataframe\">\n",
       "  <thead>\n",
       "    <tr style=\"text-align: right;\">\n",
       "      <th></th>\n",
       "      <th>Type</th>\n",
       "      <th>Alcohol</th>\n",
       "      <th>Malic</th>\n",
       "      <th>Ash</th>\n",
       "      <th>Alcalinity</th>\n",
       "      <th>Magnesium</th>\n",
       "      <th>Phenols</th>\n",
       "      <th>Flavanoids</th>\n",
       "      <th>Nonflavanoids</th>\n",
       "      <th>Proanthocyanins</th>\n",
       "      <th>Color</th>\n",
       "      <th>Hue</th>\n",
       "      <th>Dilution</th>\n",
       "      <th>Proline</th>\n",
       "    </tr>\n",
       "  </thead>\n",
       "  <tbody>\n",
       "    <tr>\n",
       "      <th>Type</th>\n",
       "      <td>1.000000</td>\n",
       "      <td>-0.328222</td>\n",
       "      <td>0.437776</td>\n",
       "      <td>-0.049643</td>\n",
       "      <td>0.517859</td>\n",
       "      <td>-0.209179</td>\n",
       "      <td>-0.719163</td>\n",
       "      <td>-0.847498</td>\n",
       "      <td>0.489109</td>\n",
       "      <td>-0.499130</td>\n",
       "      <td>0.265668</td>\n",
       "      <td>-0.617369</td>\n",
       "      <td>-0.788230</td>\n",
       "      <td>-0.633717</td>\n",
       "    </tr>\n",
       "    <tr>\n",
       "      <th>Alcohol</th>\n",
       "      <td>-0.328222</td>\n",
       "      <td>1.000000</td>\n",
       "      <td>0.094397</td>\n",
       "      <td>0.211545</td>\n",
       "      <td>-0.310235</td>\n",
       "      <td>0.270798</td>\n",
       "      <td>0.289101</td>\n",
       "      <td>0.236815</td>\n",
       "      <td>-0.155929</td>\n",
       "      <td>0.136698</td>\n",
       "      <td>0.546364</td>\n",
       "      <td>-0.071747</td>\n",
       "      <td>0.072343</td>\n",
       "      <td>0.643720</td>\n",
       "    </tr>\n",
       "    <tr>\n",
       "      <th>Malic</th>\n",
       "      <td>0.437776</td>\n",
       "      <td>0.094397</td>\n",
       "      <td>1.000000</td>\n",
       "      <td>0.164045</td>\n",
       "      <td>0.288500</td>\n",
       "      <td>-0.054575</td>\n",
       "      <td>-0.335167</td>\n",
       "      <td>-0.411007</td>\n",
       "      <td>0.292977</td>\n",
       "      <td>-0.220746</td>\n",
       "      <td>0.248985</td>\n",
       "      <td>-0.561296</td>\n",
       "      <td>-0.368710</td>\n",
       "      <td>-0.192011</td>\n",
       "    </tr>\n",
       "    <tr>\n",
       "      <th>Ash</th>\n",
       "      <td>-0.049643</td>\n",
       "      <td>0.211545</td>\n",
       "      <td>0.164045</td>\n",
       "      <td>1.000000</td>\n",
       "      <td>0.443367</td>\n",
       "      <td>0.286587</td>\n",
       "      <td>0.128980</td>\n",
       "      <td>0.115077</td>\n",
       "      <td>0.186230</td>\n",
       "      <td>0.009652</td>\n",
       "      <td>0.258887</td>\n",
       "      <td>-0.074667</td>\n",
       "      <td>0.003911</td>\n",
       "      <td>0.223626</td>\n",
       "    </tr>\n",
       "    <tr>\n",
       "      <th>Alcalinity</th>\n",
       "      <td>0.517859</td>\n",
       "      <td>-0.310235</td>\n",
       "      <td>0.288500</td>\n",
       "      <td>0.443367</td>\n",
       "      <td>1.000000</td>\n",
       "      <td>-0.083333</td>\n",
       "      <td>-0.321113</td>\n",
       "      <td>-0.351370</td>\n",
       "      <td>0.361922</td>\n",
       "      <td>-0.197327</td>\n",
       "      <td>0.018732</td>\n",
       "      <td>-0.273955</td>\n",
       "      <td>-0.276769</td>\n",
       "      <td>-0.440597</td>\n",
       "    </tr>\n",
       "    <tr>\n",
       "      <th>Magnesium</th>\n",
       "      <td>-0.209179</td>\n",
       "      <td>0.270798</td>\n",
       "      <td>-0.054575</td>\n",
       "      <td>0.286587</td>\n",
       "      <td>-0.083333</td>\n",
       "      <td>1.000000</td>\n",
       "      <td>0.214401</td>\n",
       "      <td>0.195784</td>\n",
       "      <td>-0.256294</td>\n",
       "      <td>0.236441</td>\n",
       "      <td>0.199950</td>\n",
       "      <td>0.055398</td>\n",
       "      <td>0.066004</td>\n",
       "      <td>0.393351</td>\n",
       "    </tr>\n",
       "    <tr>\n",
       "      <th>Phenols</th>\n",
       "      <td>-0.719163</td>\n",
       "      <td>0.289101</td>\n",
       "      <td>-0.335167</td>\n",
       "      <td>0.128980</td>\n",
       "      <td>-0.321113</td>\n",
       "      <td>0.214401</td>\n",
       "      <td>1.000000</td>\n",
       "      <td>0.864564</td>\n",
       "      <td>-0.449935</td>\n",
       "      <td>0.612413</td>\n",
       "      <td>-0.055136</td>\n",
       "      <td>0.433681</td>\n",
       "      <td>0.699949</td>\n",
       "      <td>0.498115</td>\n",
       "    </tr>\n",
       "    <tr>\n",
       "      <th>Flavanoids</th>\n",
       "      <td>-0.847498</td>\n",
       "      <td>0.236815</td>\n",
       "      <td>-0.411007</td>\n",
       "      <td>0.115077</td>\n",
       "      <td>-0.351370</td>\n",
       "      <td>0.195784</td>\n",
       "      <td>0.864564</td>\n",
       "      <td>1.000000</td>\n",
       "      <td>-0.537900</td>\n",
       "      <td>0.652692</td>\n",
       "      <td>-0.172379</td>\n",
       "      <td>0.543479</td>\n",
       "      <td>0.787194</td>\n",
       "      <td>0.494193</td>\n",
       "    </tr>\n",
       "    <tr>\n",
       "      <th>Nonflavanoids</th>\n",
       "      <td>0.489109</td>\n",
       "      <td>-0.155929</td>\n",
       "      <td>0.292977</td>\n",
       "      <td>0.186230</td>\n",
       "      <td>0.361922</td>\n",
       "      <td>-0.256294</td>\n",
       "      <td>-0.449935</td>\n",
       "      <td>-0.537900</td>\n",
       "      <td>1.000000</td>\n",
       "      <td>-0.365845</td>\n",
       "      <td>0.139057</td>\n",
       "      <td>-0.262640</td>\n",
       "      <td>-0.503270</td>\n",
       "      <td>-0.311385</td>\n",
       "    </tr>\n",
       "    <tr>\n",
       "      <th>Proanthocyanins</th>\n",
       "      <td>-0.499130</td>\n",
       "      <td>0.136698</td>\n",
       "      <td>-0.220746</td>\n",
       "      <td>0.009652</td>\n",
       "      <td>-0.197327</td>\n",
       "      <td>0.236441</td>\n",
       "      <td>0.612413</td>\n",
       "      <td>0.652692</td>\n",
       "      <td>-0.365845</td>\n",
       "      <td>1.000000</td>\n",
       "      <td>-0.025250</td>\n",
       "      <td>0.295544</td>\n",
       "      <td>0.519067</td>\n",
       "      <td>0.330417</td>\n",
       "    </tr>\n",
       "    <tr>\n",
       "      <th>Color</th>\n",
       "      <td>0.265668</td>\n",
       "      <td>0.546364</td>\n",
       "      <td>0.248985</td>\n",
       "      <td>0.258887</td>\n",
       "      <td>0.018732</td>\n",
       "      <td>0.199950</td>\n",
       "      <td>-0.055136</td>\n",
       "      <td>-0.172379</td>\n",
       "      <td>0.139057</td>\n",
       "      <td>-0.025250</td>\n",
       "      <td>1.000000</td>\n",
       "      <td>-0.521813</td>\n",
       "      <td>-0.428815</td>\n",
       "      <td>0.316100</td>\n",
       "    </tr>\n",
       "    <tr>\n",
       "      <th>Hue</th>\n",
       "      <td>-0.617369</td>\n",
       "      <td>-0.071747</td>\n",
       "      <td>-0.561296</td>\n",
       "      <td>-0.074667</td>\n",
       "      <td>-0.273955</td>\n",
       "      <td>0.055398</td>\n",
       "      <td>0.433681</td>\n",
       "      <td>0.543479</td>\n",
       "      <td>-0.262640</td>\n",
       "      <td>0.295544</td>\n",
       "      <td>-0.521813</td>\n",
       "      <td>1.000000</td>\n",
       "      <td>0.565468</td>\n",
       "      <td>0.236183</td>\n",
       "    </tr>\n",
       "    <tr>\n",
       "      <th>Dilution</th>\n",
       "      <td>-0.788230</td>\n",
       "      <td>0.072343</td>\n",
       "      <td>-0.368710</td>\n",
       "      <td>0.003911</td>\n",
       "      <td>-0.276769</td>\n",
       "      <td>0.066004</td>\n",
       "      <td>0.699949</td>\n",
       "      <td>0.787194</td>\n",
       "      <td>-0.503270</td>\n",
       "      <td>0.519067</td>\n",
       "      <td>-0.428815</td>\n",
       "      <td>0.565468</td>\n",
       "      <td>1.000000</td>\n",
       "      <td>0.312761</td>\n",
       "    </tr>\n",
       "    <tr>\n",
       "      <th>Proline</th>\n",
       "      <td>-0.633717</td>\n",
       "      <td>0.643720</td>\n",
       "      <td>-0.192011</td>\n",
       "      <td>0.223626</td>\n",
       "      <td>-0.440597</td>\n",
       "      <td>0.393351</td>\n",
       "      <td>0.498115</td>\n",
       "      <td>0.494193</td>\n",
       "      <td>-0.311385</td>\n",
       "      <td>0.330417</td>\n",
       "      <td>0.316100</td>\n",
       "      <td>0.236183</td>\n",
       "      <td>0.312761</td>\n",
       "      <td>1.000000</td>\n",
       "    </tr>\n",
       "  </tbody>\n",
       "</table>\n",
       "</div>"
      ],
      "text/plain": [
       "                     Type   Alcohol     Malic       Ash  Alcalinity  \\\n",
       "Type             1.000000 -0.328222  0.437776 -0.049643    0.517859   \n",
       "Alcohol         -0.328222  1.000000  0.094397  0.211545   -0.310235   \n",
       "Malic            0.437776  0.094397  1.000000  0.164045    0.288500   \n",
       "Ash             -0.049643  0.211545  0.164045  1.000000    0.443367   \n",
       "Alcalinity       0.517859 -0.310235  0.288500  0.443367    1.000000   \n",
       "Magnesium       -0.209179  0.270798 -0.054575  0.286587   -0.083333   \n",
       "Phenols         -0.719163  0.289101 -0.335167  0.128980   -0.321113   \n",
       "Flavanoids      -0.847498  0.236815 -0.411007  0.115077   -0.351370   \n",
       "Nonflavanoids    0.489109 -0.155929  0.292977  0.186230    0.361922   \n",
       "Proanthocyanins -0.499130  0.136698 -0.220746  0.009652   -0.197327   \n",
       "Color            0.265668  0.546364  0.248985  0.258887    0.018732   \n",
       "Hue             -0.617369 -0.071747 -0.561296 -0.074667   -0.273955   \n",
       "Dilution        -0.788230  0.072343 -0.368710  0.003911   -0.276769   \n",
       "Proline         -0.633717  0.643720 -0.192011  0.223626   -0.440597   \n",
       "\n",
       "                 Magnesium   Phenols  Flavanoids  Nonflavanoids  \\\n",
       "Type             -0.209179 -0.719163   -0.847498       0.489109   \n",
       "Alcohol           0.270798  0.289101    0.236815      -0.155929   \n",
       "Malic            -0.054575 -0.335167   -0.411007       0.292977   \n",
       "Ash               0.286587  0.128980    0.115077       0.186230   \n",
       "Alcalinity       -0.083333 -0.321113   -0.351370       0.361922   \n",
       "Magnesium         1.000000  0.214401    0.195784      -0.256294   \n",
       "Phenols           0.214401  1.000000    0.864564      -0.449935   \n",
       "Flavanoids        0.195784  0.864564    1.000000      -0.537900   \n",
       "Nonflavanoids    -0.256294 -0.449935   -0.537900       1.000000   \n",
       "Proanthocyanins   0.236441  0.612413    0.652692      -0.365845   \n",
       "Color             0.199950 -0.055136   -0.172379       0.139057   \n",
       "Hue               0.055398  0.433681    0.543479      -0.262640   \n",
       "Dilution          0.066004  0.699949    0.787194      -0.503270   \n",
       "Proline           0.393351  0.498115    0.494193      -0.311385   \n",
       "\n",
       "                 Proanthocyanins     Color       Hue  Dilution   Proline  \n",
       "Type                   -0.499130  0.265668 -0.617369 -0.788230 -0.633717  \n",
       "Alcohol                 0.136698  0.546364 -0.071747  0.072343  0.643720  \n",
       "Malic                  -0.220746  0.248985 -0.561296 -0.368710 -0.192011  \n",
       "Ash                     0.009652  0.258887 -0.074667  0.003911  0.223626  \n",
       "Alcalinity             -0.197327  0.018732 -0.273955 -0.276769 -0.440597  \n",
       "Magnesium               0.236441  0.199950  0.055398  0.066004  0.393351  \n",
       "Phenols                 0.612413 -0.055136  0.433681  0.699949  0.498115  \n",
       "Flavanoids              0.652692 -0.172379  0.543479  0.787194  0.494193  \n",
       "Nonflavanoids          -0.365845  0.139057 -0.262640 -0.503270 -0.311385  \n",
       "Proanthocyanins         1.000000 -0.025250  0.295544  0.519067  0.330417  \n",
       "Color                  -0.025250  1.000000 -0.521813 -0.428815  0.316100  \n",
       "Hue                     0.295544 -0.521813  1.000000  0.565468  0.236183  \n",
       "Dilution                0.519067 -0.428815  0.565468  1.000000  0.312761  \n",
       "Proline                 0.330417  0.316100  0.236183  0.312761  1.000000  "
      ]
     },
     "execution_count": 4,
     "metadata": {},
     "output_type": "execute_result"
    }
   ],
   "source": [
    "df.corr()"
   ]
  },
  {
   "cell_type": "code",
   "execution_count": 5,
   "id": "b6ad852e",
   "metadata": {},
   "outputs": [
    {
     "data": {
      "text/html": [
       "<div>\n",
       "<style scoped>\n",
       "    .dataframe tbody tr th:only-of-type {\n",
       "        vertical-align: middle;\n",
       "    }\n",
       "\n",
       "    .dataframe tbody tr th {\n",
       "        vertical-align: top;\n",
       "    }\n",
       "\n",
       "    .dataframe thead th {\n",
       "        text-align: right;\n",
       "    }\n",
       "</style>\n",
       "<table border=\"1\" class=\"dataframe\">\n",
       "  <thead>\n",
       "    <tr style=\"text-align: right;\">\n",
       "      <th></th>\n",
       "      <th>Type</th>\n",
       "      <th>Alcohol</th>\n",
       "      <th>Malic</th>\n",
       "      <th>Ash</th>\n",
       "      <th>Alcalinity</th>\n",
       "      <th>Magnesium</th>\n",
       "      <th>Phenols</th>\n",
       "      <th>Flavanoids</th>\n",
       "      <th>Nonflavanoids</th>\n",
       "      <th>Proanthocyanins</th>\n",
       "      <th>Color</th>\n",
       "      <th>Hue</th>\n",
       "      <th>Dilution</th>\n",
       "      <th>Proline</th>\n",
       "    </tr>\n",
       "  </thead>\n",
       "  <tbody>\n",
       "    <tr>\n",
       "      <th>count</th>\n",
       "      <td>178.000000</td>\n",
       "      <td>178.000000</td>\n",
       "      <td>178.000000</td>\n",
       "      <td>178.000000</td>\n",
       "      <td>178.000000</td>\n",
       "      <td>178.000000</td>\n",
       "      <td>178.000000</td>\n",
       "      <td>178.000000</td>\n",
       "      <td>178.000000</td>\n",
       "      <td>178.000000</td>\n",
       "      <td>178.000000</td>\n",
       "      <td>178.000000</td>\n",
       "      <td>178.000000</td>\n",
       "      <td>178.000000</td>\n",
       "    </tr>\n",
       "    <tr>\n",
       "      <th>mean</th>\n",
       "      <td>1.938202</td>\n",
       "      <td>13.000618</td>\n",
       "      <td>2.336348</td>\n",
       "      <td>2.366517</td>\n",
       "      <td>19.494944</td>\n",
       "      <td>99.741573</td>\n",
       "      <td>2.295112</td>\n",
       "      <td>2.029270</td>\n",
       "      <td>0.361854</td>\n",
       "      <td>1.590899</td>\n",
       "      <td>5.058090</td>\n",
       "      <td>0.957449</td>\n",
       "      <td>2.611685</td>\n",
       "      <td>746.893258</td>\n",
       "    </tr>\n",
       "    <tr>\n",
       "      <th>std</th>\n",
       "      <td>0.775035</td>\n",
       "      <td>0.811827</td>\n",
       "      <td>1.117146</td>\n",
       "      <td>0.274344</td>\n",
       "      <td>3.339564</td>\n",
       "      <td>14.282484</td>\n",
       "      <td>0.625851</td>\n",
       "      <td>0.998859</td>\n",
       "      <td>0.124453</td>\n",
       "      <td>0.572359</td>\n",
       "      <td>2.318286</td>\n",
       "      <td>0.228572</td>\n",
       "      <td>0.709990</td>\n",
       "      <td>314.907474</td>\n",
       "    </tr>\n",
       "    <tr>\n",
       "      <th>min</th>\n",
       "      <td>1.000000</td>\n",
       "      <td>11.030000</td>\n",
       "      <td>0.740000</td>\n",
       "      <td>1.360000</td>\n",
       "      <td>10.600000</td>\n",
       "      <td>70.000000</td>\n",
       "      <td>0.980000</td>\n",
       "      <td>0.340000</td>\n",
       "      <td>0.130000</td>\n",
       "      <td>0.410000</td>\n",
       "      <td>1.280000</td>\n",
       "      <td>0.480000</td>\n",
       "      <td>1.270000</td>\n",
       "      <td>278.000000</td>\n",
       "    </tr>\n",
       "    <tr>\n",
       "      <th>25%</th>\n",
       "      <td>1.000000</td>\n",
       "      <td>12.362500</td>\n",
       "      <td>1.602500</td>\n",
       "      <td>2.210000</td>\n",
       "      <td>17.200000</td>\n",
       "      <td>88.000000</td>\n",
       "      <td>1.742500</td>\n",
       "      <td>1.205000</td>\n",
       "      <td>0.270000</td>\n",
       "      <td>1.250000</td>\n",
       "      <td>3.220000</td>\n",
       "      <td>0.782500</td>\n",
       "      <td>1.937500</td>\n",
       "      <td>500.500000</td>\n",
       "    </tr>\n",
       "    <tr>\n",
       "      <th>50%</th>\n",
       "      <td>2.000000</td>\n",
       "      <td>13.050000</td>\n",
       "      <td>1.865000</td>\n",
       "      <td>2.360000</td>\n",
       "      <td>19.500000</td>\n",
       "      <td>98.000000</td>\n",
       "      <td>2.355000</td>\n",
       "      <td>2.135000</td>\n",
       "      <td>0.340000</td>\n",
       "      <td>1.555000</td>\n",
       "      <td>4.690000</td>\n",
       "      <td>0.965000</td>\n",
       "      <td>2.780000</td>\n",
       "      <td>673.500000</td>\n",
       "    </tr>\n",
       "    <tr>\n",
       "      <th>75%</th>\n",
       "      <td>3.000000</td>\n",
       "      <td>13.677500</td>\n",
       "      <td>3.082500</td>\n",
       "      <td>2.557500</td>\n",
       "      <td>21.500000</td>\n",
       "      <td>107.000000</td>\n",
       "      <td>2.800000</td>\n",
       "      <td>2.875000</td>\n",
       "      <td>0.437500</td>\n",
       "      <td>1.950000</td>\n",
       "      <td>6.200000</td>\n",
       "      <td>1.120000</td>\n",
       "      <td>3.170000</td>\n",
       "      <td>985.000000</td>\n",
       "    </tr>\n",
       "    <tr>\n",
       "      <th>max</th>\n",
       "      <td>3.000000</td>\n",
       "      <td>14.830000</td>\n",
       "      <td>5.800000</td>\n",
       "      <td>3.230000</td>\n",
       "      <td>30.000000</td>\n",
       "      <td>162.000000</td>\n",
       "      <td>3.880000</td>\n",
       "      <td>5.080000</td>\n",
       "      <td>0.660000</td>\n",
       "      <td>3.580000</td>\n",
       "      <td>13.000000</td>\n",
       "      <td>1.710000</td>\n",
       "      <td>4.000000</td>\n",
       "      <td>1680.000000</td>\n",
       "    </tr>\n",
       "  </tbody>\n",
       "</table>\n",
       "</div>"
      ],
      "text/plain": [
       "             Type     Alcohol       Malic         Ash  Alcalinity   Magnesium  \\\n",
       "count  178.000000  178.000000  178.000000  178.000000  178.000000  178.000000   \n",
       "mean     1.938202   13.000618    2.336348    2.366517   19.494944   99.741573   \n",
       "std      0.775035    0.811827    1.117146    0.274344    3.339564   14.282484   \n",
       "min      1.000000   11.030000    0.740000    1.360000   10.600000   70.000000   \n",
       "25%      1.000000   12.362500    1.602500    2.210000   17.200000   88.000000   \n",
       "50%      2.000000   13.050000    1.865000    2.360000   19.500000   98.000000   \n",
       "75%      3.000000   13.677500    3.082500    2.557500   21.500000  107.000000   \n",
       "max      3.000000   14.830000    5.800000    3.230000   30.000000  162.000000   \n",
       "\n",
       "          Phenols  Flavanoids  Nonflavanoids  Proanthocyanins       Color  \\\n",
       "count  178.000000  178.000000     178.000000       178.000000  178.000000   \n",
       "mean     2.295112    2.029270       0.361854         1.590899    5.058090   \n",
       "std      0.625851    0.998859       0.124453         0.572359    2.318286   \n",
       "min      0.980000    0.340000       0.130000         0.410000    1.280000   \n",
       "25%      1.742500    1.205000       0.270000         1.250000    3.220000   \n",
       "50%      2.355000    2.135000       0.340000         1.555000    4.690000   \n",
       "75%      2.800000    2.875000       0.437500         1.950000    6.200000   \n",
       "max      3.880000    5.080000       0.660000         3.580000   13.000000   \n",
       "\n",
       "              Hue    Dilution      Proline  \n",
       "count  178.000000  178.000000   178.000000  \n",
       "mean     0.957449    2.611685   746.893258  \n",
       "std      0.228572    0.709990   314.907474  \n",
       "min      0.480000    1.270000   278.000000  \n",
       "25%      0.782500    1.937500   500.500000  \n",
       "50%      0.965000    2.780000   673.500000  \n",
       "75%      1.120000    3.170000   985.000000  \n",
       "max      1.710000    4.000000  1680.000000  "
      ]
     },
     "execution_count": 5,
     "metadata": {},
     "output_type": "execute_result"
    }
   ],
   "source": [
    "df.describe()"
   ]
  },
  {
   "cell_type": "code",
   "execution_count": 6,
   "id": "47c69270",
   "metadata": {},
   "outputs": [],
   "source": [
    "from sklearn.decomposition import PCA\n",
    "pca = PCA()"
   ]
  },
  {
   "cell_type": "code",
   "execution_count": 7,
   "id": "ce39a1f5",
   "metadata": {},
   "outputs": [],
   "source": [
    "pc= pca.fit_transform(df)"
   ]
  },
  {
   "cell_type": "code",
   "execution_count": 8,
   "id": "9b7bba13",
   "metadata": {},
   "outputs": [
    {
     "data": {
      "text/plain": [
       "array([[ 3.18564055e+02,  2.14907729e+01,  3.16461306e+00, ...,\n",
       "         1.68878924e-01, -1.64297340e-02,  8.93553535e-02],\n",
       "       [ 3.03098514e+02, -5.36608268e+00,  6.81699246e+00, ...,\n",
       "         8.89334239e-02, -4.48448723e-02,  1.78962892e-02],\n",
       "       [ 4.38062063e+02, -6.53798613e+00, -1.06671672e+00, ...,\n",
       "         1.80875713e-01, -5.03578282e-02, -3.94205943e-02],\n",
       "       ...,\n",
       "       [ 8.84563102e+01,  1.87796442e+01, -2.42312742e+00, ...,\n",
       "        -2.09746486e-01,  8.53365516e-02,  3.43716469e-02],\n",
       "       [ 9.34544723e+01,  1.86741801e+01, -1.95877509e+00, ...,\n",
       "        -3.22197611e-04, -4.65644908e-02,  1.36469328e-01],\n",
       "       [-1.86944619e+02, -2.11062888e-01, -5.73392038e+00, ...,\n",
       "         3.92954136e-02,  1.60191386e-02,  1.97873108e-02]])"
      ]
     },
     "execution_count": 8,
     "metadata": {},
     "output_type": "execute_result"
    }
   ],
   "source": [
    "pc"
   ]
  },
  {
   "cell_type": "code",
   "execution_count": 10,
   "id": "f731ed17",
   "metadata": {},
   "outputs": [
    {
     "data": {
      "text/html": [
       "<div>\n",
       "<style scoped>\n",
       "    .dataframe tbody tr th:only-of-type {\n",
       "        vertical-align: middle;\n",
       "    }\n",
       "\n",
       "    .dataframe tbody tr th {\n",
       "        vertical-align: top;\n",
       "    }\n",
       "\n",
       "    .dataframe thead th {\n",
       "        text-align: right;\n",
       "    }\n",
       "</style>\n",
       "<table border=\"1\" class=\"dataframe\">\n",
       "  <thead>\n",
       "    <tr style=\"text-align: right;\">\n",
       "      <th></th>\n",
       "      <th>Type</th>\n",
       "      <th>Alcohol</th>\n",
       "      <th>Malic</th>\n",
       "      <th>Ash</th>\n",
       "      <th>Alcalinity</th>\n",
       "      <th>Magnesium</th>\n",
       "      <th>Phenols</th>\n",
       "      <th>Flavanoids</th>\n",
       "      <th>Nonflavanoids</th>\n",
       "      <th>Proanthocyanins</th>\n",
       "      <th>Color</th>\n",
       "      <th>Hue</th>\n",
       "      <th>Dilution</th>\n",
       "      <th>Proline</th>\n",
       "    </tr>\n",
       "  </thead>\n",
       "  <tbody>\n",
       "    <tr>\n",
       "      <th>0</th>\n",
       "      <td>318.564055</td>\n",
       "      <td>21.490773</td>\n",
       "      <td>3.164613</td>\n",
       "      <td>-0.260166</td>\n",
       "      <td>0.752092</td>\n",
       "      <td>0.520109</td>\n",
       "      <td>-0.590537</td>\n",
       "      <td>-0.212167</td>\n",
       "      <td>-0.676304</td>\n",
       "      <td>0.112542</td>\n",
       "      <td>0.140469</td>\n",
       "      <td>0.168879</td>\n",
       "      <td>-0.016430</td>\n",
       "      <td>0.089355</td>\n",
       "    </tr>\n",
       "    <tr>\n",
       "      <th>1</th>\n",
       "      <td>303.098514</td>\n",
       "      <td>-5.366083</td>\n",
       "      <td>6.816992</td>\n",
       "      <td>-1.004978</td>\n",
       "      <td>-0.501045</td>\n",
       "      <td>0.052439</td>\n",
       "      <td>0.082171</td>\n",
       "      <td>0.614829</td>\n",
       "      <td>-0.238538</td>\n",
       "      <td>0.091296</td>\n",
       "      <td>0.087360</td>\n",
       "      <td>0.088933</td>\n",
       "      <td>-0.044845</td>\n",
       "      <td>0.017896</td>\n",
       "    </tr>\n",
       "    <tr>\n",
       "      <th>2</th>\n",
       "      <td>438.062063</td>\n",
       "      <td>-6.537986</td>\n",
       "      <td>-1.066717</td>\n",
       "      <td>0.977727</td>\n",
       "      <td>0.453208</td>\n",
       "      <td>0.634322</td>\n",
       "      <td>0.793768</td>\n",
       "      <td>-0.427185</td>\n",
       "      <td>-0.120496</td>\n",
       "      <td>-0.337593</td>\n",
       "      <td>-0.135517</td>\n",
       "      <td>0.180876</td>\n",
       "      <td>-0.050358</td>\n",
       "      <td>-0.039421</td>\n",
       "    </tr>\n",
       "    <tr>\n",
       "      <th>3</th>\n",
       "      <td>733.240711</td>\n",
       "      <td>0.193320</td>\n",
       "      <td>-0.938312</td>\n",
       "      <td>-0.525349</td>\n",
       "      <td>0.879918</td>\n",
       "      <td>0.480810</td>\n",
       "      <td>0.100237</td>\n",
       "      <td>0.088945</td>\n",
       "      <td>0.071970</td>\n",
       "      <td>0.646950</td>\n",
       "      <td>-0.003737</td>\n",
       "      <td>-0.056476</td>\n",
       "      <td>-0.157085</td>\n",
       "      <td>0.021160</td>\n",
       "    </tr>\n",
       "    <tr>\n",
       "      <th>4</th>\n",
       "      <td>-11.569952</td>\n",
       "      <td>18.487255</td>\n",
       "      <td>-0.424917</td>\n",
       "      <td>1.518823</td>\n",
       "      <td>0.506733</td>\n",
       "      <td>0.862531</td>\n",
       "      <td>-0.405248</td>\n",
       "      <td>0.204093</td>\n",
       "      <td>0.111987</td>\n",
       "      <td>-0.280533</td>\n",
       "      <td>-0.552207</td>\n",
       "      <td>0.045926</td>\n",
       "      <td>-0.056540</td>\n",
       "      <td>-0.011405</td>\n",
       "    </tr>\n",
       "    <tr>\n",
       "      <th>...</th>\n",
       "      <td>...</td>\n",
       "      <td>...</td>\n",
       "      <td>...</td>\n",
       "      <td>...</td>\n",
       "      <td>...</td>\n",
       "      <td>...</td>\n",
       "      <td>...</td>\n",
       "      <td>...</td>\n",
       "      <td>...</td>\n",
       "      <td>...</td>\n",
       "      <td>...</td>\n",
       "      <td>...</td>\n",
       "      <td>...</td>\n",
       "      <td>...</td>\n",
       "    </tr>\n",
       "    <tr>\n",
       "      <th>173</th>\n",
       "      <td>-6.981858</td>\n",
       "      <td>-4.538116</td>\n",
       "      <td>-2.625187</td>\n",
       "      <td>-3.214097</td>\n",
       "      <td>-2.204812</td>\n",
       "      <td>1.644655</td>\n",
       "      <td>-0.007924</td>\n",
       "      <td>0.016205</td>\n",
       "      <td>-0.006596</td>\n",
       "      <td>0.148824</td>\n",
       "      <td>0.032053</td>\n",
       "      <td>0.042729</td>\n",
       "      <td>0.109068</td>\n",
       "      <td>0.034495</td>\n",
       "    </tr>\n",
       "    <tr>\n",
       "      <th>174</th>\n",
       "      <td>3.129945</td>\n",
       "      <td>2.338236</td>\n",
       "      <td>-4.423240</td>\n",
       "      <td>-1.576971</td>\n",
       "      <td>-1.184902</td>\n",
       "      <td>0.206914</td>\n",
       "      <td>0.035870</td>\n",
       "      <td>-0.339823</td>\n",
       "      <td>0.171434</td>\n",
       "      <td>0.139584</td>\n",
       "      <td>-0.001735</td>\n",
       "      <td>-0.037202</td>\n",
       "      <td>0.016845</td>\n",
       "      <td>-0.039199</td>\n",
       "    </tr>\n",
       "    <tr>\n",
       "      <th>175</th>\n",
       "      <td>88.456310</td>\n",
       "      <td>18.779644</td>\n",
       "      <td>-2.423127</td>\n",
       "      <td>-4.874280</td>\n",
       "      <td>-1.002718</td>\n",
       "      <td>0.319367</td>\n",
       "      <td>0.621932</td>\n",
       "      <td>0.124380</td>\n",
       "      <td>-0.289628</td>\n",
       "      <td>-0.027412</td>\n",
       "      <td>0.094686</td>\n",
       "      <td>-0.209746</td>\n",
       "      <td>0.085337</td>\n",
       "      <td>0.034372</td>\n",
       "    </tr>\n",
       "    <tr>\n",
       "      <th>176</th>\n",
       "      <td>93.454472</td>\n",
       "      <td>18.674180</td>\n",
       "      <td>-1.958775</td>\n",
       "      <td>-3.789964</td>\n",
       "      <td>-0.399558</td>\n",
       "      <td>-1.011081</td>\n",
       "      <td>0.415895</td>\n",
       "      <td>-0.128919</td>\n",
       "      <td>-0.250348</td>\n",
       "      <td>0.104226</td>\n",
       "      <td>0.044378</td>\n",
       "      <td>-0.000322</td>\n",
       "      <td>-0.046564</td>\n",
       "      <td>0.136469</td>\n",
       "    </tr>\n",
       "    <tr>\n",
       "      <th>177</th>\n",
       "      <td>-186.944619</td>\n",
       "      <td>-0.211063</td>\n",
       "      <td>-5.733920</td>\n",
       "      <td>-3.366462</td>\n",
       "      <td>0.186523</td>\n",
       "      <td>0.769307</td>\n",
       "      <td>-0.691678</td>\n",
       "      <td>-0.273443</td>\n",
       "      <td>0.128688</td>\n",
       "      <td>0.166117</td>\n",
       "      <td>-0.298025</td>\n",
       "      <td>0.039295</td>\n",
       "      <td>0.016019</td>\n",
       "      <td>0.019787</td>\n",
       "    </tr>\n",
       "  </tbody>\n",
       "</table>\n",
       "<p>178 rows × 14 columns</p>\n",
       "</div>"
      ],
      "text/plain": [
       "           Type    Alcohol     Malic       Ash  Alcalinity  Magnesium  \\\n",
       "0    318.564055  21.490773  3.164613 -0.260166    0.752092   0.520109   \n",
       "1    303.098514  -5.366083  6.816992 -1.004978   -0.501045   0.052439   \n",
       "2    438.062063  -6.537986 -1.066717  0.977727    0.453208   0.634322   \n",
       "3    733.240711   0.193320 -0.938312 -0.525349    0.879918   0.480810   \n",
       "4    -11.569952  18.487255 -0.424917  1.518823    0.506733   0.862531   \n",
       "..          ...        ...       ...       ...         ...        ...   \n",
       "173   -6.981858  -4.538116 -2.625187 -3.214097   -2.204812   1.644655   \n",
       "174    3.129945   2.338236 -4.423240 -1.576971   -1.184902   0.206914   \n",
       "175   88.456310  18.779644 -2.423127 -4.874280   -1.002718   0.319367   \n",
       "176   93.454472  18.674180 -1.958775 -3.789964   -0.399558  -1.011081   \n",
       "177 -186.944619  -0.211063 -5.733920 -3.366462    0.186523   0.769307   \n",
       "\n",
       "      Phenols  Flavanoids  Nonflavanoids  Proanthocyanins     Color       Hue  \\\n",
       "0   -0.590537   -0.212167      -0.676304         0.112542  0.140469  0.168879   \n",
       "1    0.082171    0.614829      -0.238538         0.091296  0.087360  0.088933   \n",
       "2    0.793768   -0.427185      -0.120496        -0.337593 -0.135517  0.180876   \n",
       "3    0.100237    0.088945       0.071970         0.646950 -0.003737 -0.056476   \n",
       "4   -0.405248    0.204093       0.111987        -0.280533 -0.552207  0.045926   \n",
       "..        ...         ...            ...              ...       ...       ...   \n",
       "173 -0.007924    0.016205      -0.006596         0.148824  0.032053  0.042729   \n",
       "174  0.035870   -0.339823       0.171434         0.139584 -0.001735 -0.037202   \n",
       "175  0.621932    0.124380      -0.289628        -0.027412  0.094686 -0.209746   \n",
       "176  0.415895   -0.128919      -0.250348         0.104226  0.044378 -0.000322   \n",
       "177 -0.691678   -0.273443       0.128688         0.166117 -0.298025  0.039295   \n",
       "\n",
       "     Dilution   Proline  \n",
       "0   -0.016430  0.089355  \n",
       "1   -0.044845  0.017896  \n",
       "2   -0.050358 -0.039421  \n",
       "3   -0.157085  0.021160  \n",
       "4   -0.056540 -0.011405  \n",
       "..        ...       ...  \n",
       "173  0.109068  0.034495  \n",
       "174  0.016845 -0.039199  \n",
       "175  0.085337  0.034372  \n",
       "176 -0.046564  0.136469  \n",
       "177  0.016019  0.019787  \n",
       "\n",
       "[178 rows x 14 columns]"
      ]
     },
     "execution_count": 10,
     "metadata": {},
     "output_type": "execute_result"
    }
   ],
   "source": [
    "pc1 = pd.DataFrame(pc)\n",
    "pc1.columns=list(df)\n",
    "pc1"
   ]
  },
  {
   "cell_type": "code",
   "execution_count": 11,
   "id": "f260f4bf",
   "metadata": {},
   "outputs": [],
   "source": [
    "t1 = pca.explained_variance_ratio_"
   ]
  },
  {
   "cell_type": "code",
   "execution_count": 12,
   "id": "19603a22",
   "metadata": {},
   "outputs": [
    {
     "data": {
      "text/plain": [
       "0.9980876253882408"
      ]
     },
     "execution_count": 12,
     "metadata": {},
     "output_type": "execute_result"
    }
   ],
   "source": [
    "t1[0]"
   ]
  },
  {
   "cell_type": "code",
   "execution_count": 13,
   "id": "5219c818",
   "metadata": {},
   "outputs": [
    {
     "data": {
      "text/plain": [
       "0.0017359185077007906"
      ]
     },
     "execution_count": 13,
     "metadata": {},
     "output_type": "execute_result"
    }
   ],
   "source": [
    "t1[1]"
   ]
  },
  {
   "cell_type": "code",
   "execution_count": 14,
   "id": "f5433341",
   "metadata": {},
   "outputs": [
    {
     "data": {
      "text/plain": [
       "9.589489976158475e-05"
      ]
     },
     "execution_count": 14,
     "metadata": {},
     "output_type": "execute_result"
    }
   ],
   "source": [
    "t1[2]"
   ]
  },
  {
   "cell_type": "code",
   "execution_count": 32,
   "id": "ca2a64c1",
   "metadata": {},
   "outputs": [],
   "source": [
    "pc2 = pc1.iloc[:,0:3]"
   ]
  },
  {
   "cell_type": "code",
   "execution_count": 33,
   "id": "bb870308",
   "metadata": {},
   "outputs": [
    {
     "data": {
      "text/html": [
       "<div>\n",
       "<style scoped>\n",
       "    .dataframe tbody tr th:only-of-type {\n",
       "        vertical-align: middle;\n",
       "    }\n",
       "\n",
       "    .dataframe tbody tr th {\n",
       "        vertical-align: top;\n",
       "    }\n",
       "\n",
       "    .dataframe thead th {\n",
       "        text-align: right;\n",
       "    }\n",
       "</style>\n",
       "<table border=\"1\" class=\"dataframe\">\n",
       "  <thead>\n",
       "    <tr style=\"text-align: right;\">\n",
       "      <th></th>\n",
       "      <th>Type</th>\n",
       "      <th>Alcohol</th>\n",
       "      <th>Malic</th>\n",
       "    </tr>\n",
       "  </thead>\n",
       "  <tbody>\n",
       "    <tr>\n",
       "      <th>0</th>\n",
       "      <td>318.564055</td>\n",
       "      <td>21.490773</td>\n",
       "      <td>3.164613</td>\n",
       "    </tr>\n",
       "    <tr>\n",
       "      <th>1</th>\n",
       "      <td>303.098514</td>\n",
       "      <td>-5.366083</td>\n",
       "      <td>6.816992</td>\n",
       "    </tr>\n",
       "    <tr>\n",
       "      <th>2</th>\n",
       "      <td>438.062063</td>\n",
       "      <td>-6.537986</td>\n",
       "      <td>-1.066717</td>\n",
       "    </tr>\n",
       "    <tr>\n",
       "      <th>3</th>\n",
       "      <td>733.240711</td>\n",
       "      <td>0.193320</td>\n",
       "      <td>-0.938312</td>\n",
       "    </tr>\n",
       "    <tr>\n",
       "      <th>4</th>\n",
       "      <td>-11.569952</td>\n",
       "      <td>18.487255</td>\n",
       "      <td>-0.424917</td>\n",
       "    </tr>\n",
       "    <tr>\n",
       "      <th>...</th>\n",
       "      <td>...</td>\n",
       "      <td>...</td>\n",
       "      <td>...</td>\n",
       "    </tr>\n",
       "    <tr>\n",
       "      <th>173</th>\n",
       "      <td>-6.981858</td>\n",
       "      <td>-4.538116</td>\n",
       "      <td>-2.625187</td>\n",
       "    </tr>\n",
       "    <tr>\n",
       "      <th>174</th>\n",
       "      <td>3.129945</td>\n",
       "      <td>2.338236</td>\n",
       "      <td>-4.423240</td>\n",
       "    </tr>\n",
       "    <tr>\n",
       "      <th>175</th>\n",
       "      <td>88.456310</td>\n",
       "      <td>18.779644</td>\n",
       "      <td>-2.423127</td>\n",
       "    </tr>\n",
       "    <tr>\n",
       "      <th>176</th>\n",
       "      <td>93.454472</td>\n",
       "      <td>18.674180</td>\n",
       "      <td>-1.958775</td>\n",
       "    </tr>\n",
       "    <tr>\n",
       "      <th>177</th>\n",
       "      <td>-186.944619</td>\n",
       "      <td>-0.211063</td>\n",
       "      <td>-5.733920</td>\n",
       "    </tr>\n",
       "  </tbody>\n",
       "</table>\n",
       "<p>178 rows × 3 columns</p>\n",
       "</div>"
      ],
      "text/plain": [
       "           Type    Alcohol     Malic\n",
       "0    318.564055  21.490773  3.164613\n",
       "1    303.098514  -5.366083  6.816992\n",
       "2    438.062063  -6.537986 -1.066717\n",
       "3    733.240711   0.193320 -0.938312\n",
       "4    -11.569952  18.487255 -0.424917\n",
       "..          ...        ...       ...\n",
       "173   -6.981858  -4.538116 -2.625187\n",
       "174    3.129945   2.338236 -4.423240\n",
       "175   88.456310  18.779644 -2.423127\n",
       "176   93.454472  18.674180 -1.958775\n",
       "177 -186.944619  -0.211063 -5.733920\n",
       "\n",
       "[178 rows x 3 columns]"
      ]
     },
     "execution_count": 33,
     "metadata": {},
     "output_type": "execute_result"
    }
   ],
   "source": [
    "pc2"
   ]
  },
  {
   "cell_type": "code",
   "execution_count": 34,
   "id": "11338f27",
   "metadata": {},
   "outputs": [],
   "source": [
    "x=pc2.iloc[:,:].values"
   ]
  },
  {
   "cell_type": "code",
   "execution_count": 35,
   "id": "b911a97d",
   "metadata": {},
   "outputs": [],
   "source": [
    "%matplotlib qt"
   ]
  },
  {
   "cell_type": "code",
   "execution_count": 36,
   "id": "1c9d1ba5",
   "metadata": {},
   "outputs": [],
   "source": [
    "import matplotlib.pyplot as plt\n",
    "plt.rcParams['figure.figsize'] = (16,9)"
   ]
  },
  {
   "cell_type": "code",
   "execution_count": 37,
   "id": "2f8201c8",
   "metadata": {},
   "outputs": [],
   "source": [
    "from mpl_toolkits.mplot3d import Axes3D\n",
    "import warnings\n",
    "warnings.filterwarnings('ignore')"
   ]
  },
  {
   "cell_type": "code",
   "execution_count": 39,
   "id": "012a2894",
   "metadata": {},
   "outputs": [],
   "source": [
    "fig = plt.figure()\n",
    "ax = Axes3D(fig)\n",
    "ax.scatter(x[:,0],x[:,1],x[:,2])\n",
    "plt.show()"
   ]
  },
  {
   "cell_type": "code",
   "execution_count": 40,
   "id": "239aabd3",
   "metadata": {},
   "outputs": [],
   "source": [
    "from sklearn.cluster import AgglomerativeClustering"
   ]
  },
  {
   "cell_type": "code",
   "execution_count": 41,
   "id": "7c956dce",
   "metadata": {},
   "outputs": [
    {
     "data": {
      "text/plain": [
       "AgglomerativeClustering(linkage='single', n_clusters=5)"
      ]
     },
     "execution_count": 41,
     "metadata": {},
     "output_type": "execute_result"
    }
   ],
   "source": [
    "hc = AgglomerativeClustering(n_clusters = 5, affinity='euclidean', linkage='single')\n",
    "hc.fit(pc2)"
   ]
  },
  {
   "cell_type": "code",
   "execution_count": 47,
   "id": "64d1ddd7",
   "metadata": {
    "scrolled": true
   },
   "outputs": [
    {
     "data": {
      "text/html": [
       "<div>\n",
       "<style scoped>\n",
       "    .dataframe tbody tr th:only-of-type {\n",
       "        vertical-align: middle;\n",
       "    }\n",
       "\n",
       "    .dataframe tbody tr th {\n",
       "        vertical-align: top;\n",
       "    }\n",
       "\n",
       "    .dataframe thead th {\n",
       "        text-align: right;\n",
       "    }\n",
       "</style>\n",
       "<table border=\"1\" class=\"dataframe\">\n",
       "  <thead>\n",
       "    <tr style=\"text-align: right;\">\n",
       "      <th></th>\n",
       "      <th>0</th>\n",
       "    </tr>\n",
       "  </thead>\n",
       "  <tbody>\n",
       "    <tr>\n",
       "      <th>0</th>\n",
       "      <td>0</td>\n",
       "    </tr>\n",
       "    <tr>\n",
       "      <th>1</th>\n",
       "      <td>0</td>\n",
       "    </tr>\n",
       "    <tr>\n",
       "      <th>2</th>\n",
       "      <td>0</td>\n",
       "    </tr>\n",
       "    <tr>\n",
       "      <th>3</th>\n",
       "      <td>2</td>\n",
       "    </tr>\n",
       "    <tr>\n",
       "      <th>4</th>\n",
       "      <td>0</td>\n",
       "    </tr>\n",
       "    <tr>\n",
       "      <th>...</th>\n",
       "      <td>...</td>\n",
       "    </tr>\n",
       "    <tr>\n",
       "      <th>173</th>\n",
       "      <td>0</td>\n",
       "    </tr>\n",
       "    <tr>\n",
       "      <th>174</th>\n",
       "      <td>0</td>\n",
       "    </tr>\n",
       "    <tr>\n",
       "      <th>175</th>\n",
       "      <td>0</td>\n",
       "    </tr>\n",
       "    <tr>\n",
       "      <th>176</th>\n",
       "      <td>0</td>\n",
       "    </tr>\n",
       "    <tr>\n",
       "      <th>177</th>\n",
       "      <td>0</td>\n",
       "    </tr>\n",
       "  </tbody>\n",
       "</table>\n",
       "<p>178 rows × 1 columns</p>\n",
       "</div>"
      ],
      "text/plain": [
       "     0\n",
       "0    0\n",
       "1    0\n",
       "2    0\n",
       "3    2\n",
       "4    0\n",
       "..  ..\n",
       "173  0\n",
       "174  0\n",
       "175  0\n",
       "176  0\n",
       "177  0\n",
       "\n",
       "[178 rows x 1 columns]"
      ]
     },
     "execution_count": 47,
     "metadata": {},
     "output_type": "execute_result"
    }
   ],
   "source": [
    "y=hc.fit_predict(pc2)\n",
    "ynew = pd.DataFrame(y)\n",
    "ynew"
   ]
  },
  {
   "cell_type": "code",
   "execution_count": 49,
   "id": "a7233ec0",
   "metadata": {},
   "outputs": [
    {
     "data": {
      "text/plain": [
       "0    170\n",
       "2      5\n",
       "1      1\n",
       "3      1\n",
       "4      1\n",
       "dtype: int64"
      ]
     },
     "execution_count": 49,
     "metadata": {},
     "output_type": "execute_result"
    }
   ],
   "source": [
    "ynew.value_counts()"
   ]
  },
  {
   "cell_type": "code",
   "execution_count": 54,
   "id": "0ec90f81",
   "metadata": {},
   "outputs": [
    {
     "data": {
      "text/plain": [
       "<matplotlib.collections.PathCollection at 0x2d20cc04b50>"
      ]
     },
     "execution_count": 54,
     "metadata": {},
     "output_type": "execute_result"
    }
   ],
   "source": [
    "plt.figure(figsize=(10,6))\n",
    "plt.scatter(x[:,1],x[:,2],c=hc.labels_,cmap = 'rainbow')"
   ]
  },
  {
   "cell_type": "code",
   "execution_count": 57,
   "id": "da2f4240",
   "metadata": {},
   "outputs": [
    {
     "data": {
      "text/plain": [
       "<matplotlib.collections.PathCollection at 0x2d20d2bf400>"
      ]
     },
     "execution_count": 57,
     "metadata": {},
     "output_type": "execute_result"
    }
   ],
   "source": [
    "plt.figure(figsize=(10,6))\n",
    "plt.scatter(x[:,0],x[:,2],c=hc.labels_,cmap = 'rainbow')"
   ]
  },
  {
   "cell_type": "code",
   "execution_count": 58,
   "id": "5a20a49c",
   "metadata": {},
   "outputs": [
    {
     "data": {
      "text/plain": [
       "<matplotlib.collections.PathCollection at 0x2d20b9546d0>"
      ]
     },
     "execution_count": 58,
     "metadata": {},
     "output_type": "execute_result"
    }
   ],
   "source": [
    "plt.figure(figsize=(10,6))\n",
    "plt.scatter(x[:,0],x[:,1],c=hc.labels_,cmap = 'rainbow')"
   ]
  },
  {
   "cell_type": "code",
   "execution_count": 59,
   "id": "f3ac3f95",
   "metadata": {},
   "outputs": [
    {
     "data": {
      "text/plain": [
       "3    55\n",
       "2    52\n",
       "0    37\n",
       "4    28\n",
       "1     6\n",
       "dtype: int64"
      ]
     },
     "execution_count": 59,
     "metadata": {},
     "output_type": "execute_result"
    }
   ],
   "source": [
    "hc1 = AgglomerativeClustering(n_clusters = 5, affinity = 'euclidean', linkage = 'complete')\n",
    "y=hc1.fit_predict(pc2)\n",
    "ynew=pd.DataFrame(y)\n",
    "ynew.value_counts()"
   ]
  },
  {
   "cell_type": "code",
   "execution_count": 60,
   "id": "d410fe36",
   "metadata": {},
   "outputs": [
    {
     "data": {
      "text/plain": [
       "<matplotlib.collections.PathCollection at 0x2d20e519190>"
      ]
     },
     "execution_count": 60,
     "metadata": {},
     "output_type": "execute_result"
    }
   ],
   "source": [
    "plt.figure(figsize = (10,6))\n",
    "plt.scatter(x[:,1],x[:,2],c=hc1.labels_,cmap = 'rainbow')"
   ]
  },
  {
   "cell_type": "code",
   "execution_count": 61,
   "id": "4bc92e43",
   "metadata": {},
   "outputs": [
    {
     "data": {
      "text/plain": [
       "<matplotlib.collections.PathCollection at 0x2d20c685d00>"
      ]
     },
     "execution_count": 61,
     "metadata": {},
     "output_type": "execute_result"
    }
   ],
   "source": [
    "plt.figure(figsize = (10,6))\n",
    "plt.scatter(x[:,0],x[:,1],c=hc1.labels_,cmap ='rainbow')"
   ]
  },
  {
   "cell_type": "code",
   "execution_count": 62,
   "id": "8b56b5fd",
   "metadata": {},
   "outputs": [
    {
     "data": {
      "text/plain": [
       "<matplotlib.collections.PathCollection at 0x2d20c6ef6a0>"
      ]
     },
     "execution_count": 62,
     "metadata": {},
     "output_type": "execute_result"
    }
   ],
   "source": [
    "plt.figure(figsize=(10,6))\n",
    "plt.scatter(x[:,0],x[:,2],c=hc1.labels_,cmap = 'rainbow')"
   ]
  },
  {
   "cell_type": "code",
   "execution_count": 64,
   "id": "f25d0999",
   "metadata": {},
   "outputs": [
    {
     "data": {
      "text/plain": [
       "1    83\n",
       "3    47\n",
       "4    23\n",
       "2    19\n",
       "0     6\n",
       "dtype: int64"
      ]
     },
     "execution_count": 64,
     "metadata": {},
     "output_type": "execute_result"
    }
   ],
   "source": [
    "hc2 = AgglomerativeClustering(n_clusters = 5, affinity = 'euclidean',linkage='average')\n",
    "y=hc2.fit_predict(pc2)\n",
    "ynew = pd.DataFrame(y)\n",
    "ynew.value_counts()"
   ]
  },
  {
   "cell_type": "code",
   "execution_count": 65,
   "id": "34d9bf99",
   "metadata": {},
   "outputs": [
    {
     "data": {
      "text/plain": [
       "<matplotlib.collections.PathCollection at 0x2d20c762220>"
      ]
     },
     "execution_count": 65,
     "metadata": {},
     "output_type": "execute_result"
    }
   ],
   "source": [
    "plt.figure(figsize=(10,6))\n",
    "plt.scatter(x[:,0],x[:,1],c=hc2.labels_,cmap='rainbow')"
   ]
  },
  {
   "cell_type": "code",
   "execution_count": 66,
   "id": "44501a7c",
   "metadata": {},
   "outputs": [
    {
     "data": {
      "text/plain": [
       "<matplotlib.collections.PathCollection at 0x2d20d12bdf0>"
      ]
     },
     "execution_count": 66,
     "metadata": {},
     "output_type": "execute_result"
    }
   ],
   "source": [
    "plt.figure(figsize=(10,6))\n",
    "plt.scatter(x[:,0],x[:,2],c=hc2.labels_,cmap='rainbow')"
   ]
  },
  {
   "cell_type": "code",
   "execution_count": 67,
   "id": "37860709",
   "metadata": {},
   "outputs": [
    {
     "data": {
      "text/plain": [
       "<matplotlib.collections.PathCollection at 0x2d20d199940>"
      ]
     },
     "execution_count": 67,
     "metadata": {},
     "output_type": "execute_result"
    }
   ],
   "source": [
    "plt.figure(figsize=(10,6))\n",
    "plt.scatter(x[:,1],x[:,2],c=hc2.labels_,cmap='rainbow')"
   ]
  },
  {
   "cell_type": "code",
   "execution_count": 69,
   "id": "386eda1c",
   "metadata": {},
   "outputs": [
    {
     "data": {
      "text/plain": [
       "0    58\n",
       "2    44\n",
       "3    28\n",
       "4    28\n",
       "1    20\n",
       "dtype: int64"
      ]
     },
     "execution_count": 69,
     "metadata": {},
     "output_type": "execute_result"
    }
   ],
   "source": [
    "hc3 = AgglomerativeClustering(n_clusters = 5,affinity = 'euclidean',linkage='ward')\n",
    "y=hc3.fit_predict(pc2)\n",
    "ynew = pd.DataFrame(y)\n",
    "ynew.value_counts()"
   ]
  },
  {
   "cell_type": "code",
   "execution_count": 70,
   "id": "4aae3a1c",
   "metadata": {},
   "outputs": [
    {
     "data": {
      "text/plain": [
       "<matplotlib.collections.PathCollection at 0x2d20d801790>"
      ]
     },
     "execution_count": 70,
     "metadata": {},
     "output_type": "execute_result"
    }
   ],
   "source": [
    "plt.figure(figsize=(10,6))\n",
    "plt.scatter(x[:,0],x[:,1],c=hc2.labels_,cmap='rainbow')"
   ]
  },
  {
   "cell_type": "code",
   "execution_count": 71,
   "id": "7e5d6042",
   "metadata": {},
   "outputs": [
    {
     "data": {
      "text/plain": [
       "<matplotlib.collections.PathCollection at 0x2d20d86f2b0>"
      ]
     },
     "execution_count": 71,
     "metadata": {},
     "output_type": "execute_result"
    }
   ],
   "source": [
    "plt.figure(figsize=(10,6))\n",
    "plt.scatter(x[:,0],x[:,2],c=hc2.labels_,cmap='rainbow')"
   ]
  },
  {
   "cell_type": "code",
   "execution_count": 72,
   "id": "a60a5178",
   "metadata": {},
   "outputs": [
    {
     "data": {
      "text/plain": [
       "<matplotlib.collections.PathCollection at 0x2d20de93e50>"
      ]
     },
     "execution_count": 72,
     "metadata": {},
     "output_type": "execute_result"
    }
   ],
   "source": [
    "plt.figure(figsize=(10,6))\n",
    "plt.scatter(x[:,1],x[:,2],c=hc2.labels_,cmap='rainbow')"
   ]
  },
  {
   "cell_type": "code",
   "execution_count": 74,
   "id": "ae6f69f3",
   "metadata": {},
   "outputs": [
    {
     "data": {
      "text/plain": [
       "KMeans(n_clusters=5)"
      ]
     },
     "execution_count": 74,
     "metadata": {},
     "output_type": "execute_result"
    }
   ],
   "source": [
    "from sklearn.cluster import KMeans\n",
    "km =KMeans(n_clusters = 5)\n",
    "km.fit(pc2)"
   ]
  },
  {
   "cell_type": "code",
   "execution_count": 75,
   "id": "5cf32413",
   "metadata": {},
   "outputs": [],
   "source": [
    "labels = km.labels_"
   ]
  },
  {
   "cell_type": "code",
   "execution_count": 76,
   "id": "ca39037d",
   "metadata": {},
   "outputs": [],
   "source": [
    "y=pd.DataFrame(labels)"
   ]
  },
  {
   "cell_type": "code",
   "execution_count": 78,
   "id": "738a04df",
   "metadata": {},
   "outputs": [
    {
     "data": {
      "text/plain": [
       "3    57\n",
       "1    48\n",
       "2    27\n",
       "4    26\n",
       "0    20\n",
       "dtype: int64"
      ]
     },
     "execution_count": 78,
     "metadata": {},
     "output_type": "execute_result"
    }
   ],
   "source": [
    "y.value_counts()"
   ]
  },
  {
   "cell_type": "code",
   "execution_count": 91,
   "id": "64df4071",
   "metadata": {},
   "outputs": [],
   "source": [
    "li=[]\n",
    "for i in range(1,15):\n",
    "    km=KMeans(n_clusters = i)\n",
    "    km.fit(pc2)\n",
    "    li.append(km.inertia_)"
   ]
  },
  {
   "cell_type": "code",
   "execution_count": 92,
   "id": "01497dea",
   "metadata": {},
   "outputs": [
    {
     "data": {
      "text/plain": [
       "[17590985.4385849,\n",
       " 4542407.173626605,\n",
       " 2369374.444994549,\n",
       " 1330616.174343616,\n",
       " 915073.0680780619,\n",
       " 646023.1870212579,\n",
       " 411042.4038224548,\n",
       " 328400.81477573904,\n",
       " 269766.29685611854,\n",
       " 216658.99902797877,\n",
       " 185119.00853368765,\n",
       " 161501.882898451,\n",
       " 140990.56003815072,\n",
       " 123700.21276515383]"
      ]
     },
     "execution_count": 92,
     "metadata": {},
     "output_type": "execute_result"
    }
   ],
   "source": [
    "li"
   ]
  },
  {
   "cell_type": "code",
   "execution_count": 93,
   "id": "4d67feed",
   "metadata": {},
   "outputs": [
    {
     "data": {
      "text/plain": [
       "2087975.6903833374"
      ]
     },
     "execution_count": 93,
     "metadata": {},
     "output_type": "execute_result"
    }
   ],
   "source": [
    "import numpy as np\n",
    "np.mean(li)"
   ]
  },
  {
   "cell_type": "code",
   "execution_count": 96,
   "id": "9870cb73",
   "metadata": {},
   "outputs": [],
   "source": [
    "import matplotlib.pyplot as plt\n",
    "plt.scatter(range(1,15),li)\n",
    "plt.plot(range(1,15),li,color='red')\n",
    "plt.show()"
   ]
  },
  {
   "cell_type": "code",
   "execution_count": 100,
   "id": "349672a6",
   "metadata": {},
   "outputs": [],
   "source": [
    "from sklearn.preprocessing import StandardScaler\n",
    "SS_X = pd.DataFrame(StandardScaler().fit_transform(pc2))\n",
    "SS_X.columns=list(pc2)"
   ]
  },
  {
   "cell_type": "code",
   "execution_count": 101,
   "id": "2915195e",
   "metadata": {},
   "outputs": [],
   "source": [
    "from sklearn.cluster import DBSCAN"
   ]
  },
  {
   "cell_type": "code",
   "execution_count": 112,
   "id": "ac9dd8e4",
   "metadata": {},
   "outputs": [
    {
     "data": {
      "text/plain": [
       "DBSCAN(eps=1, min_samples=3)"
      ]
     },
     "execution_count": 112,
     "metadata": {},
     "output_type": "execute_result"
    }
   ],
   "source": [
    "db = DBSCAN(eps=1,min_samples = 3)\n",
    "db.fit(SS_X)"
   ]
  },
  {
   "cell_type": "code",
   "execution_count": 113,
   "id": "4077248f",
   "metadata": {},
   "outputs": [],
   "source": [
    " y = db.labels_"
   ]
  },
  {
   "cell_type": "code",
   "execution_count": 114,
   "id": "8d4e201d",
   "metadata": {},
   "outputs": [
    {
     "data": {
      "text/plain": [
       " 0    172\n",
       "-1      6\n",
       "dtype: int64"
      ]
     },
     "execution_count": 114,
     "metadata": {},
     "output_type": "execute_result"
    }
   ],
   "source": [
    "ynew= pd.DataFrame(y)\n",
    "ynew.value_counts()"
   ]
  },
  {
   "cell_type": "code",
   "execution_count": 115,
   "id": "328a2e91",
   "metadata": {},
   "outputs": [
    {
     "data": {
      "text/plain": [
       "<matplotlib.collections.PathCollection at 0x2d21851ff40>"
      ]
     },
     "execution_count": 115,
     "metadata": {},
     "output_type": "execute_result"
    }
   ],
   "source": [
    "plt.figure(figsize=(10,6))\n",
    "plt.scatter(x[:,0],x[:,1], c= db.labels_,cmap='rainbow')"
   ]
  },
  {
   "cell_type": "code",
   "execution_count": 108,
   "id": "d68315c4",
   "metadata": {},
   "outputs": [
    {
     "data": {
      "text/plain": [
       "<matplotlib.collections.PathCollection at 0x2d217d17610>"
      ]
     },
     "execution_count": 108,
     "metadata": {},
     "output_type": "execute_result"
    }
   ],
   "source": [
    "plt.figure(figsize=(10,6))\n",
    "plt.scatter(x[:,0],x[:,2], c= db.labels_,cmap='rainbow')"
   ]
  },
  {
   "cell_type": "code",
   "execution_count": 116,
   "id": "17a744fe",
   "metadata": {},
   "outputs": [
    {
     "data": {
      "text/plain": [
       "<matplotlib.collections.PathCollection at 0x2d218ce3f40>"
      ]
     },
     "execution_count": 116,
     "metadata": {},
     "output_type": "execute_result"
    }
   ],
   "source": [
    "plt.figure(figsize=(10,6))\n",
    "plt.scatter(x[:,1],x[:,2], c= db.labels_,cmap='rainbow')"
   ]
  },
  {
   "cell_type": "code",
   "execution_count": 117,
   "id": "b2caf6db",
   "metadata": {},
   "outputs": [
    {
     "data": {
      "text/plain": [
       " 3    88\n",
       "-1    56\n",
       " 0    18\n",
       " 1     6\n",
       " 4     6\n",
       " 2     4\n",
       "dtype: int64"
      ]
     },
     "execution_count": 117,
     "metadata": {},
     "output_type": "execute_result"
    }
   ],
   "source": [
    "db = DBSCAN(eps=0.5,min_samples = 3)\n",
    "db.fit(SS_X)\n",
    "y = db.labels_\n",
    "ynew= pd.DataFrame(y)\n",
    "ynew.value_counts()"
   ]
  },
  {
   "cell_type": "code",
   "execution_count": 118,
   "id": "3717d231",
   "metadata": {},
   "outputs": [
    {
     "data": {
      "text/plain": [
       "<matplotlib.collections.PathCollection at 0x2d219220be0>"
      ]
     },
     "execution_count": 118,
     "metadata": {},
     "output_type": "execute_result"
    }
   ],
   "source": [
    "plt.figure(figsize=(10,6))\n",
    "plt.scatter(x[:,0],x[:,1], c= db.labels_,cmap='rainbow')"
   ]
  },
  {
   "cell_type": "code",
   "execution_count": 119,
   "id": "3f04d9cb",
   "metadata": {},
   "outputs": [
    {
     "data": {
      "text/plain": [
       "<matplotlib.collections.PathCollection at 0x2d2194eb6a0>"
      ]
     },
     "execution_count": 119,
     "metadata": {},
     "output_type": "execute_result"
    }
   ],
   "source": [
    "plt.figure(figsize=(10,6))\n",
    "plt.scatter(x[:,0],x[:,2], c= db.labels_,cmap='rainbow')"
   ]
  },
  {
   "cell_type": "code",
   "execution_count": 120,
   "id": "5d6e93bc",
   "metadata": {},
   "outputs": [
    {
     "data": {
      "text/plain": [
       "<matplotlib.collections.PathCollection at 0x2d219cc2220>"
      ]
     },
     "execution_count": 120,
     "metadata": {},
     "output_type": "execute_result"
    }
   ],
   "source": [
    "plt.figure(figsize=(10,6))\n",
    "plt.scatter(x[:,1],x[:,2], c= db.labels_,cmap='rainbow')"
   ]
  },
  {
   "cell_type": "code",
   "execution_count": null,
   "id": "85aa1508",
   "metadata": {},
   "outputs": [],
   "source": []
  }
 ],
 "metadata": {
  "kernelspec": {
   "display_name": "Python 3 (ipykernel)",
   "language": "python",
   "name": "python3"
  },
  "language_info": {
   "codemirror_mode": {
    "name": "ipython",
    "version": 3
   },
   "file_extension": ".py",
   "mimetype": "text/x-python",
   "name": "python",
   "nbconvert_exporter": "python",
   "pygments_lexer": "ipython3",
   "version": "3.9.13"
  }
 },
 "nbformat": 4,
 "nbformat_minor": 5
}
