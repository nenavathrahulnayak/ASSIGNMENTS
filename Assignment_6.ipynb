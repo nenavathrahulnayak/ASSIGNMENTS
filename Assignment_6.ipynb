{
 "cells": [
  {
   "cell_type": "markdown",
   "id": "5eadd3ce",
   "metadata": {},
   "source": [
    "Prepare a prediction model for profit of 50_startups data.\n",
    "Do transformations for getting better predictions of profit and\n",
    "make a table containing R^2 value for each prepared model.\n",
    "\n",
    "-R&D Spend --> Research and devolop spend in the past few years\n",
    "\n",
    "-Administration --> spend on administration in the past few years\n",
    "\n",
    "-Marketing Spend --> spend on Marketing in the past few years\n",
    "\n",
    "-State --> states from which data is collected\n",
    "\n",
    "-Profit  --> profit of each state in the past few years"
   ]
  },
  {
   "cell_type": "code",
   "execution_count": 19,
   "id": "501229b0",
   "metadata": {},
   "outputs": [
    {
     "data": {
      "text/html": [
       "<div>\n",
       "<style scoped>\n",
       "    .dataframe tbody tr th:only-of-type {\n",
       "        vertical-align: middle;\n",
       "    }\n",
       "\n",
       "    .dataframe tbody tr th {\n",
       "        vertical-align: top;\n",
       "    }\n",
       "\n",
       "    .dataframe thead th {\n",
       "        text-align: right;\n",
       "    }\n",
       "</style>\n",
       "<table border=\"1\" class=\"dataframe\">\n",
       "  <thead>\n",
       "    <tr style=\"text-align: right;\">\n",
       "      <th></th>\n",
       "      <th>R&amp;D Spend</th>\n",
       "      <th>Administration</th>\n",
       "      <th>Marketing Spend</th>\n",
       "      <th>State</th>\n",
       "      <th>Profit</th>\n",
       "    </tr>\n",
       "  </thead>\n",
       "  <tbody>\n",
       "    <tr>\n",
       "      <th>0</th>\n",
       "      <td>165349.20</td>\n",
       "      <td>136897.80</td>\n",
       "      <td>471784.10</td>\n",
       "      <td>New York</td>\n",
       "      <td>192261.83</td>\n",
       "    </tr>\n",
       "    <tr>\n",
       "      <th>1</th>\n",
       "      <td>162597.70</td>\n",
       "      <td>151377.59</td>\n",
       "      <td>443898.53</td>\n",
       "      <td>California</td>\n",
       "      <td>191792.06</td>\n",
       "    </tr>\n",
       "    <tr>\n",
       "      <th>2</th>\n",
       "      <td>153441.51</td>\n",
       "      <td>101145.55</td>\n",
       "      <td>407934.54</td>\n",
       "      <td>Florida</td>\n",
       "      <td>191050.39</td>\n",
       "    </tr>\n",
       "    <tr>\n",
       "      <th>3</th>\n",
       "      <td>144372.41</td>\n",
       "      <td>118671.85</td>\n",
       "      <td>383199.62</td>\n",
       "      <td>New York</td>\n",
       "      <td>182901.99</td>\n",
       "    </tr>\n",
       "    <tr>\n",
       "      <th>4</th>\n",
       "      <td>142107.34</td>\n",
       "      <td>91391.77</td>\n",
       "      <td>366168.42</td>\n",
       "      <td>Florida</td>\n",
       "      <td>166187.94</td>\n",
       "    </tr>\n",
       "    <tr>\n",
       "      <th>5</th>\n",
       "      <td>131876.90</td>\n",
       "      <td>99814.71</td>\n",
       "      <td>362861.36</td>\n",
       "      <td>New York</td>\n",
       "      <td>156991.12</td>\n",
       "    </tr>\n",
       "    <tr>\n",
       "      <th>6</th>\n",
       "      <td>134615.46</td>\n",
       "      <td>147198.87</td>\n",
       "      <td>127716.82</td>\n",
       "      <td>California</td>\n",
       "      <td>156122.51</td>\n",
       "    </tr>\n",
       "    <tr>\n",
       "      <th>7</th>\n",
       "      <td>130298.13</td>\n",
       "      <td>145530.06</td>\n",
       "      <td>323876.68</td>\n",
       "      <td>Florida</td>\n",
       "      <td>155752.60</td>\n",
       "    </tr>\n",
       "    <tr>\n",
       "      <th>8</th>\n",
       "      <td>120542.52</td>\n",
       "      <td>148718.95</td>\n",
       "      <td>311613.29</td>\n",
       "      <td>New York</td>\n",
       "      <td>152211.77</td>\n",
       "    </tr>\n",
       "    <tr>\n",
       "      <th>9</th>\n",
       "      <td>123334.88</td>\n",
       "      <td>108679.17</td>\n",
       "      <td>304981.62</td>\n",
       "      <td>California</td>\n",
       "      <td>149759.96</td>\n",
       "    </tr>\n",
       "    <tr>\n",
       "      <th>10</th>\n",
       "      <td>101913.08</td>\n",
       "      <td>110594.11</td>\n",
       "      <td>229160.95</td>\n",
       "      <td>Florida</td>\n",
       "      <td>146121.95</td>\n",
       "    </tr>\n",
       "    <tr>\n",
       "      <th>11</th>\n",
       "      <td>100671.96</td>\n",
       "      <td>91790.61</td>\n",
       "      <td>249744.55</td>\n",
       "      <td>California</td>\n",
       "      <td>144259.40</td>\n",
       "    </tr>\n",
       "    <tr>\n",
       "      <th>12</th>\n",
       "      <td>93863.75</td>\n",
       "      <td>127320.38</td>\n",
       "      <td>249839.44</td>\n",
       "      <td>Florida</td>\n",
       "      <td>141585.52</td>\n",
       "    </tr>\n",
       "    <tr>\n",
       "      <th>13</th>\n",
       "      <td>91992.39</td>\n",
       "      <td>135495.07</td>\n",
       "      <td>252664.93</td>\n",
       "      <td>California</td>\n",
       "      <td>134307.35</td>\n",
       "    </tr>\n",
       "    <tr>\n",
       "      <th>14</th>\n",
       "      <td>119943.24</td>\n",
       "      <td>156547.42</td>\n",
       "      <td>256512.92</td>\n",
       "      <td>Florida</td>\n",
       "      <td>132602.65</td>\n",
       "    </tr>\n",
       "    <tr>\n",
       "      <th>15</th>\n",
       "      <td>114523.61</td>\n",
       "      <td>122616.84</td>\n",
       "      <td>261776.23</td>\n",
       "      <td>New York</td>\n",
       "      <td>129917.04</td>\n",
       "    </tr>\n",
       "    <tr>\n",
       "      <th>16</th>\n",
       "      <td>78013.11</td>\n",
       "      <td>121597.55</td>\n",
       "      <td>264346.06</td>\n",
       "      <td>California</td>\n",
       "      <td>126992.93</td>\n",
       "    </tr>\n",
       "    <tr>\n",
       "      <th>17</th>\n",
       "      <td>94657.16</td>\n",
       "      <td>145077.58</td>\n",
       "      <td>282574.31</td>\n",
       "      <td>New York</td>\n",
       "      <td>125370.37</td>\n",
       "    </tr>\n",
       "    <tr>\n",
       "      <th>18</th>\n",
       "      <td>91749.16</td>\n",
       "      <td>114175.79</td>\n",
       "      <td>294919.57</td>\n",
       "      <td>Florida</td>\n",
       "      <td>124266.90</td>\n",
       "    </tr>\n",
       "    <tr>\n",
       "      <th>19</th>\n",
       "      <td>86419.70</td>\n",
       "      <td>153514.11</td>\n",
       "      <td>0.00</td>\n",
       "      <td>New York</td>\n",
       "      <td>122776.86</td>\n",
       "    </tr>\n",
       "    <tr>\n",
       "      <th>20</th>\n",
       "      <td>76253.86</td>\n",
       "      <td>113867.30</td>\n",
       "      <td>298664.47</td>\n",
       "      <td>California</td>\n",
       "      <td>118474.03</td>\n",
       "    </tr>\n",
       "    <tr>\n",
       "      <th>21</th>\n",
       "      <td>78389.47</td>\n",
       "      <td>153773.43</td>\n",
       "      <td>299737.29</td>\n",
       "      <td>New York</td>\n",
       "      <td>111313.02</td>\n",
       "    </tr>\n",
       "    <tr>\n",
       "      <th>22</th>\n",
       "      <td>73994.56</td>\n",
       "      <td>122782.75</td>\n",
       "      <td>303319.26</td>\n",
       "      <td>Florida</td>\n",
       "      <td>110352.25</td>\n",
       "    </tr>\n",
       "    <tr>\n",
       "      <th>23</th>\n",
       "      <td>67532.53</td>\n",
       "      <td>105751.03</td>\n",
       "      <td>304768.73</td>\n",
       "      <td>Florida</td>\n",
       "      <td>108733.99</td>\n",
       "    </tr>\n",
       "    <tr>\n",
       "      <th>24</th>\n",
       "      <td>77044.01</td>\n",
       "      <td>99281.34</td>\n",
       "      <td>140574.81</td>\n",
       "      <td>New York</td>\n",
       "      <td>108552.04</td>\n",
       "    </tr>\n",
       "    <tr>\n",
       "      <th>25</th>\n",
       "      <td>64664.71</td>\n",
       "      <td>139553.16</td>\n",
       "      <td>137962.62</td>\n",
       "      <td>California</td>\n",
       "      <td>107404.34</td>\n",
       "    </tr>\n",
       "    <tr>\n",
       "      <th>26</th>\n",
       "      <td>75328.87</td>\n",
       "      <td>144135.98</td>\n",
       "      <td>134050.07</td>\n",
       "      <td>Florida</td>\n",
       "      <td>105733.54</td>\n",
       "    </tr>\n",
       "    <tr>\n",
       "      <th>27</th>\n",
       "      <td>72107.60</td>\n",
       "      <td>127864.55</td>\n",
       "      <td>353183.81</td>\n",
       "      <td>New York</td>\n",
       "      <td>105008.31</td>\n",
       "    </tr>\n",
       "    <tr>\n",
       "      <th>28</th>\n",
       "      <td>66051.52</td>\n",
       "      <td>182645.56</td>\n",
       "      <td>118148.20</td>\n",
       "      <td>Florida</td>\n",
       "      <td>103282.38</td>\n",
       "    </tr>\n",
       "    <tr>\n",
       "      <th>29</th>\n",
       "      <td>65605.48</td>\n",
       "      <td>153032.06</td>\n",
       "      <td>107138.38</td>\n",
       "      <td>New York</td>\n",
       "      <td>101004.64</td>\n",
       "    </tr>\n",
       "    <tr>\n",
       "      <th>30</th>\n",
       "      <td>61994.48</td>\n",
       "      <td>115641.28</td>\n",
       "      <td>91131.24</td>\n",
       "      <td>Florida</td>\n",
       "      <td>99937.59</td>\n",
       "    </tr>\n",
       "    <tr>\n",
       "      <th>31</th>\n",
       "      <td>61136.38</td>\n",
       "      <td>152701.92</td>\n",
       "      <td>88218.23</td>\n",
       "      <td>New York</td>\n",
       "      <td>97483.56</td>\n",
       "    </tr>\n",
       "    <tr>\n",
       "      <th>32</th>\n",
       "      <td>63408.86</td>\n",
       "      <td>129219.61</td>\n",
       "      <td>46085.25</td>\n",
       "      <td>California</td>\n",
       "      <td>97427.84</td>\n",
       "    </tr>\n",
       "    <tr>\n",
       "      <th>33</th>\n",
       "      <td>55493.95</td>\n",
       "      <td>103057.49</td>\n",
       "      <td>214634.81</td>\n",
       "      <td>Florida</td>\n",
       "      <td>96778.92</td>\n",
       "    </tr>\n",
       "    <tr>\n",
       "      <th>34</th>\n",
       "      <td>46426.07</td>\n",
       "      <td>157693.92</td>\n",
       "      <td>210797.67</td>\n",
       "      <td>California</td>\n",
       "      <td>96712.80</td>\n",
       "    </tr>\n",
       "    <tr>\n",
       "      <th>35</th>\n",
       "      <td>46014.02</td>\n",
       "      <td>85047.44</td>\n",
       "      <td>205517.64</td>\n",
       "      <td>New York</td>\n",
       "      <td>96479.51</td>\n",
       "    </tr>\n",
       "    <tr>\n",
       "      <th>36</th>\n",
       "      <td>28663.76</td>\n",
       "      <td>127056.21</td>\n",
       "      <td>201126.82</td>\n",
       "      <td>Florida</td>\n",
       "      <td>90708.19</td>\n",
       "    </tr>\n",
       "    <tr>\n",
       "      <th>37</th>\n",
       "      <td>44069.95</td>\n",
       "      <td>51283.14</td>\n",
       "      <td>197029.42</td>\n",
       "      <td>California</td>\n",
       "      <td>89949.14</td>\n",
       "    </tr>\n",
       "    <tr>\n",
       "      <th>38</th>\n",
       "      <td>20229.59</td>\n",
       "      <td>65947.93</td>\n",
       "      <td>185265.10</td>\n",
       "      <td>New York</td>\n",
       "      <td>81229.06</td>\n",
       "    </tr>\n",
       "    <tr>\n",
       "      <th>39</th>\n",
       "      <td>38558.51</td>\n",
       "      <td>82982.09</td>\n",
       "      <td>174999.30</td>\n",
       "      <td>California</td>\n",
       "      <td>81005.76</td>\n",
       "    </tr>\n",
       "    <tr>\n",
       "      <th>40</th>\n",
       "      <td>28754.33</td>\n",
       "      <td>118546.05</td>\n",
       "      <td>172795.67</td>\n",
       "      <td>California</td>\n",
       "      <td>78239.91</td>\n",
       "    </tr>\n",
       "    <tr>\n",
       "      <th>41</th>\n",
       "      <td>27892.92</td>\n",
       "      <td>84710.77</td>\n",
       "      <td>164470.71</td>\n",
       "      <td>Florida</td>\n",
       "      <td>77798.83</td>\n",
       "    </tr>\n",
       "    <tr>\n",
       "      <th>42</th>\n",
       "      <td>23640.93</td>\n",
       "      <td>96189.63</td>\n",
       "      <td>148001.11</td>\n",
       "      <td>California</td>\n",
       "      <td>71498.49</td>\n",
       "    </tr>\n",
       "    <tr>\n",
       "      <th>43</th>\n",
       "      <td>15505.73</td>\n",
       "      <td>127382.30</td>\n",
       "      <td>35534.17</td>\n",
       "      <td>New York</td>\n",
       "      <td>69758.98</td>\n",
       "    </tr>\n",
       "    <tr>\n",
       "      <th>44</th>\n",
       "      <td>22177.74</td>\n",
       "      <td>154806.14</td>\n",
       "      <td>28334.72</td>\n",
       "      <td>California</td>\n",
       "      <td>65200.33</td>\n",
       "    </tr>\n",
       "    <tr>\n",
       "      <th>45</th>\n",
       "      <td>1000.23</td>\n",
       "      <td>124153.04</td>\n",
       "      <td>1903.93</td>\n",
       "      <td>New York</td>\n",
       "      <td>64926.08</td>\n",
       "    </tr>\n",
       "    <tr>\n",
       "      <th>46</th>\n",
       "      <td>1315.46</td>\n",
       "      <td>115816.21</td>\n",
       "      <td>297114.46</td>\n",
       "      <td>Florida</td>\n",
       "      <td>49490.75</td>\n",
       "    </tr>\n",
       "    <tr>\n",
       "      <th>47</th>\n",
       "      <td>0.00</td>\n",
       "      <td>135426.92</td>\n",
       "      <td>0.00</td>\n",
       "      <td>California</td>\n",
       "      <td>42559.73</td>\n",
       "    </tr>\n",
       "    <tr>\n",
       "      <th>48</th>\n",
       "      <td>542.05</td>\n",
       "      <td>51743.15</td>\n",
       "      <td>0.00</td>\n",
       "      <td>New York</td>\n",
       "      <td>35673.41</td>\n",
       "    </tr>\n",
       "    <tr>\n",
       "      <th>49</th>\n",
       "      <td>0.00</td>\n",
       "      <td>116983.80</td>\n",
       "      <td>45173.06</td>\n",
       "      <td>California</td>\n",
       "      <td>14681.40</td>\n",
       "    </tr>\n",
       "  </tbody>\n",
       "</table>\n",
       "</div>"
      ],
      "text/plain": [
       "    R&D Spend  Administration  Marketing Spend       State     Profit\n",
       "0   165349.20       136897.80        471784.10    New York  192261.83\n",
       "1   162597.70       151377.59        443898.53  California  191792.06\n",
       "2   153441.51       101145.55        407934.54     Florida  191050.39\n",
       "3   144372.41       118671.85        383199.62    New York  182901.99\n",
       "4   142107.34        91391.77        366168.42     Florida  166187.94\n",
       "5   131876.90        99814.71        362861.36    New York  156991.12\n",
       "6   134615.46       147198.87        127716.82  California  156122.51\n",
       "7   130298.13       145530.06        323876.68     Florida  155752.60\n",
       "8   120542.52       148718.95        311613.29    New York  152211.77\n",
       "9   123334.88       108679.17        304981.62  California  149759.96\n",
       "10  101913.08       110594.11        229160.95     Florida  146121.95\n",
       "11  100671.96        91790.61        249744.55  California  144259.40\n",
       "12   93863.75       127320.38        249839.44     Florida  141585.52\n",
       "13   91992.39       135495.07        252664.93  California  134307.35\n",
       "14  119943.24       156547.42        256512.92     Florida  132602.65\n",
       "15  114523.61       122616.84        261776.23    New York  129917.04\n",
       "16   78013.11       121597.55        264346.06  California  126992.93\n",
       "17   94657.16       145077.58        282574.31    New York  125370.37\n",
       "18   91749.16       114175.79        294919.57     Florida  124266.90\n",
       "19   86419.70       153514.11             0.00    New York  122776.86\n",
       "20   76253.86       113867.30        298664.47  California  118474.03\n",
       "21   78389.47       153773.43        299737.29    New York  111313.02\n",
       "22   73994.56       122782.75        303319.26     Florida  110352.25\n",
       "23   67532.53       105751.03        304768.73     Florida  108733.99\n",
       "24   77044.01        99281.34        140574.81    New York  108552.04\n",
       "25   64664.71       139553.16        137962.62  California  107404.34\n",
       "26   75328.87       144135.98        134050.07     Florida  105733.54\n",
       "27   72107.60       127864.55        353183.81    New York  105008.31\n",
       "28   66051.52       182645.56        118148.20     Florida  103282.38\n",
       "29   65605.48       153032.06        107138.38    New York  101004.64\n",
       "30   61994.48       115641.28         91131.24     Florida   99937.59\n",
       "31   61136.38       152701.92         88218.23    New York   97483.56\n",
       "32   63408.86       129219.61         46085.25  California   97427.84\n",
       "33   55493.95       103057.49        214634.81     Florida   96778.92\n",
       "34   46426.07       157693.92        210797.67  California   96712.80\n",
       "35   46014.02        85047.44        205517.64    New York   96479.51\n",
       "36   28663.76       127056.21        201126.82     Florida   90708.19\n",
       "37   44069.95        51283.14        197029.42  California   89949.14\n",
       "38   20229.59        65947.93        185265.10    New York   81229.06\n",
       "39   38558.51        82982.09        174999.30  California   81005.76\n",
       "40   28754.33       118546.05        172795.67  California   78239.91\n",
       "41   27892.92        84710.77        164470.71     Florida   77798.83\n",
       "42   23640.93        96189.63        148001.11  California   71498.49\n",
       "43   15505.73       127382.30         35534.17    New York   69758.98\n",
       "44   22177.74       154806.14         28334.72  California   65200.33\n",
       "45    1000.23       124153.04          1903.93    New York   64926.08\n",
       "46    1315.46       115816.21        297114.46     Florida   49490.75\n",
       "47       0.00       135426.92             0.00  California   42559.73\n",
       "48     542.05        51743.15             0.00    New York   35673.41\n",
       "49       0.00       116983.80         45173.06  California   14681.40"
      ]
     },
     "execution_count": 19,
     "metadata": {},
     "output_type": "execute_result"
    }
   ],
   "source": [
    "import pandas as pd\n",
    "df=pd.read_csv(\"50_StartUps.csv\")\n",
    "df"
   ]
  },
  {
   "cell_type": "code",
   "execution_count": 63,
   "id": "3db80cee",
   "metadata": {},
   "outputs": [
    {
     "name": "stdout",
     "output_type": "stream",
     "text": [
      "                 R&D Spend  Administration  Marketing Spend    Profit\n",
      "R&D Spend         1.000000        0.241955         0.724248  0.972900\n",
      "Administration    0.241955        1.000000        -0.032154  0.200717\n",
      "Marketing Spend   0.724248       -0.032154         1.000000  0.747766\n",
      "Profit            0.972900        0.200717         0.747766  1.000000\n"
     ]
    }
   ],
   "source": [
    "print(df.corr())\n",
    "y=df[['Profit']]\n",
    "x1=df[['R&D Spend']]\n",
    "x2=df[['R&D Spend', 'Administration']]\n",
    "x3=df[['R&D Spend', 'Administration', 'Marketing Spend']]\n",
    "x4=df[['R&D Spend','Marketing Spend']]\n",
    "x5=pow(x1,2)\n",
    "x6=pow(x1,3)\n",
    "x7=np.cbrt(x1)\n",
    "x8=np.sqrt(x1)\n",
    "x9=pow(x2,2)\n",
    "x10=pow(x2,3)\n",
    "x11=np.cbrt(x2)\n",
    "x12=np.sqrt(x2)\n",
    "x13=pow(x3,2)\n",
    "x14=pow(x3,3)\n",
    "x15=np.cbrt(x3)\n",
    "x16=np.sqrt(x3)\n",
    "x17=pow(x4,2)\n",
    "x18=pow(x4,3)\n",
    "x19=np.cbrt(x4)\n",
    "x20=np.sqrt(x4)"
   ]
  },
  {
   "cell_type": "code",
   "execution_count": 41,
   "id": "8424db1f",
   "metadata": {},
   "outputs": [
    {
     "data": {
      "text/plain": [
       "LinearRegression()"
      ]
     },
     "execution_count": 41,
     "metadata": {},
     "output_type": "execute_result"
    }
   ],
   "source": [
    "from sklearn.linear_model import LinearRegression\n",
    "lr=LinearRegression()\n",
    "lr.fit(x1,y)"
   ]
  },
  {
   "cell_type": "code",
   "execution_count": 42,
   "id": "4744f524",
   "metadata": {},
   "outputs": [
    {
     "name": "stdout",
     "output_type": "stream",
     "text": [
      "Intercept point is s:  [49032.89914125]\n",
      "Co efficent is:  [[0.85429137]]\n"
     ]
    },
    {
     "data": {
      "image/png": "[encoded data removed]",
      "text/plain": [
       "<Figure size 640x480 with 1 Axes>"
      ]
     },
     "metadata": {},
     "output_type": "display_data"
    }
   ],
   "source": [
    "y1_pred=lr.predict(x1)\n",
    "print(\"Intercept point is s: \",lr.intercept_)\n",
    "print(\"Co efficent is: \", lr.coef_)\n",
    "import matplotlib.pyplot as plt\n",
    "plt.scatter(x1,y)\n",
    "plt.scatter(x1,y1_pred, color='red')\n",
    "plt.plot(x1,y1_pred, color='black')\n",
    "plt.show()\n"
   ]
  },
  {
   "cell_type": "code",
   "execution_count": 43,
   "id": "698bd8e3",
   "metadata": {},
   "outputs": [
    {
     "name": "stdout",
     "output_type": "stream",
     "text": [
      "Mean Squared Error is : 85120931.33\n",
      "RMSE is : 9226.1\n",
      "R^2 score value is : 0.95\n"
     ]
    }
   ],
   "source": [
    "import numpy as np\n",
    "from sklearn.metrics import mean_squared_error,r2_score\n",
    "print(\"Mean Squared Error is :\", mean_squared_error(y,y1_pred).round(2))\n",
    "print(\"RMSE is :\", (np.sqrt(mean_squared_error(y,y1_pred))).round(2))\n",
    "print(\"R^2 score value is :\", r2_score(y,y1_pred).round(2))"
   ]
  },
  {
   "cell_type": "code",
   "execution_count": 44,
   "id": "8fa3c37f",
   "metadata": {},
   "outputs": [
    {
     "name": "stdout",
     "output_type": "stream",
     "text": [
      "Intercept point is :  [54886.62062756]\n",
      "Co efficent is:  [[ 0.86211798 -0.05299543]]\n",
      "Mean Squared Error is : 83086833.26\n",
      "RMSE is : 9115.2\n",
      "R^2 score value is : 0.95\n"
     ]
    }
   ],
   "source": [
    "lr.fit(x2,y)\n",
    "y2_pred=lr.predict(x2)\n",
    "print(\"Intercept point is : \",lr.intercept_)\n",
    "print(\"Co efficent is: \", lr.coef_)\n",
    "print(\"Mean Squared Error is :\", mean_squared_error(y,y2_pred).round(2))\n",
    "print(\"RMSE is :\", (np.sqrt(mean_squared_error(y,y2_pred))).round(2))\n",
    "print(\"R^2 score value is :\", r2_score(y,y2_pred).round(2))"
   ]
  },
  {
   "cell_type": "code",
   "execution_count": 45,
   "id": "238c388a",
   "metadata": {},
   "outputs": [
    {
     "name": "stdout",
     "output_type": "stream",
     "text": [
      "Intercept point is :  [50122.19298987]\n",
      "Co efficent is:  [[ 0.80571505 -0.02681597  0.02722806]]\n",
      "Mean Squared Error is : 78417126.02\n",
      "RMSE is : 8855.34\n",
      "R^2 score value is : 0.95\n"
     ]
    }
   ],
   "source": [
    "lr.fit(x3,y)\n",
    "y3_pred=lr.predict(x3)\n",
    "print(\"Intercept point is : \",lr.intercept_)\n",
    "print(\"Co efficent is: \", lr.coef_)\n",
    "print(\"Mean Squared Error is :\", mean_squared_error(y,y3_pred).round(2))\n",
    "print(\"RMSE is :\", (np.sqrt(mean_squared_error(y,y3_pred))).round(2))\n",
    "print(\"R^2 score value is :\", r2_score(y,y3_pred).round(2))"
   ]
  },
  {
   "cell_type": "code",
   "execution_count": 46,
   "id": "04fb003f",
   "metadata": {},
   "outputs": [
    {
     "name": "stdout",
     "output_type": "stream",
     "text": [
      "Intercept point is :  [46975.86422072]\n",
      "Co efficent is:  [[0.79658404 0.02990788]]\n",
      "Mean Squared Error is : 78887897.01\n",
      "RMSE is : 8881.89\n",
      "R^2 score value is : 0.95\n"
     ]
    }
   ],
   "source": [
    "lr.fit(x4,y)\n",
    "y4_pred=lr.predict(x4)\n",
    "print(\"Intercept point is : \",lr.intercept_)\n",
    "print(\"Co efficent is: \", lr.coef_)\n",
    "print(\"Mean Squared Error is :\", mean_squared_error(y,y4_pred).round(2))\n",
    "print(\"RMSE is :\", (np.sqrt(mean_squared_error(y,y4_pred))).round(2))\n",
    "print(\"R^2 score value is :\", r2_score(y,y4_pred).round(2))"
   ]
  },
  {
   "cell_type": "code",
   "execution_count": 47,
   "id": "6f3626fd",
   "metadata": {},
   "outputs": [
    {
     "name": "stdout",
     "output_type": "stream",
     "text": [
      "Intercept point is :  [74547.07537331]\n",
      "Co efficent is:  [[4.99557276e-06]]\n",
      "Mean Squared Error is : 234883750.96\n",
      "RMSE is : 15325.92\n",
      "R^2 score value is : 0.85\n"
     ]
    }
   ],
   "source": [
    "lr.fit(x5,y)\n",
    "y_pred=lr.predict(x5)\n",
    "print(\"Intercept point is : \",lr.intercept_)\n",
    "print(\"Co efficent is: \", lr.coef_)\n",
    "print(\"Mean Squared Error is :\", mean_squared_error(y,y_pred).round(2))\n",
    "print(\"RMSE is :\", (np.sqrt(mean_squared_error(y,y_pred))).round(2))\n",
    "print(\"R^2 score value is :\", r2_score(y,y_pred).round(2))"
   ]
  },
  {
   "cell_type": "code",
   "execution_count": 48,
   "id": "b07d6158",
   "metadata": {},
   "outputs": [
    {
     "name": "stdout",
     "output_type": "stream",
     "text": [
      "Intercept point is :  [85923.73215527]\n",
      "Co efficent is:  [[2.99092516e-11]]\n",
      "Mean Squared Error is : 406937939.24\n",
      "RMSE is : 20172.7\n",
      "R^2 score value is : 0.74\n"
     ]
    }
   ],
   "source": [
    "lr.fit(x6,y)\n",
    "y_pred=lr.predict(x6)\n",
    "print(\"Intercept point is : \",lr.intercept_)\n",
    "print(\"Co efficent is: \", lr.coef_)\n",
    "print(\"Mean Squared Error is :\", mean_squared_error(y,y_pred).round(2))\n",
    "print(\"RMSE is :\", (np.sqrt(mean_squared_error(y,y_pred))).round(2))\n",
    "print(\"R^2 score value is :\", r2_score(y,y_pred).round(2))"
   ]
  },
  {
   "cell_type": "code",
   "execution_count": 49,
   "id": "e99645d5",
   "metadata": {},
   "outputs": [
    {
     "name": "stdout",
     "output_type": "stream",
     "text": [
      "Intercept point is :  [6051.03451259]\n",
      "Co efficent is:  [[2756.94186415]]\n",
      "Mean Squared Error is : 262676184.66\n",
      "RMSE is : 16207.29\n",
      "R^2 score value is : 0.84\n"
     ]
    }
   ],
   "source": [
    "lr.fit(x7,y)\n",
    "y_pred=lr.predict(x7)\n",
    "print(\"Intercept point is : \",lr.intercept_)\n",
    "print(\"Co efficent is: \", lr.coef_)\n",
    "print(\"Mean Squared Error is :\", mean_squared_error(y,y_pred).round(2))\n",
    "print(\"RMSE is :\", (np.sqrt(mean_squared_error(y,y_pred))).round(2))\n",
    "print(\"R^2 score value is :\", r2_score(y,y_pred).round(2))"
   ]
  },
  {
   "cell_type": "code",
   "execution_count": 50,
   "id": "11170fcf",
   "metadata": {},
   "outputs": [
    {
     "name": "stdout",
     "output_type": "stream",
     "text": [
      "Intercept point is :  [21225.16823768]\n",
      "Co efficent is:  [[362.42221747]]\n",
      "Mean Squared Error is : 151137131.83\n",
      "RMSE is : 12293.78\n",
      "R^2 score value is : 0.91\n"
     ]
    }
   ],
   "source": [
    "lr.fit(x8,y)\n",
    "y_pred=lr.predict(x8)\n",
    "print(\"Intercept point is : \",lr.intercept_)\n",
    "print(\"Co efficent is: \", lr.coef_)\n",
    "print(\"Mean Squared Error is :\", mean_squared_error(y,y_pred).round(2))\n",
    "print(\"RMSE is :\", (np.sqrt(mean_squared_error(y,y_pred))).round(2))\n",
    "print(\"R^2 score value is :\", r2_score(y,y_pred).round(2))"
   ]
  },
  {
   "cell_type": "code",
   "execution_count": 65,
   "id": "d7296ccd",
   "metadata": {},
   "outputs": [
    {
     "name": "stdout",
     "output_type": "stream",
     "text": [
      "Intercept point is :  [72552.95023278]\n",
      "Co efficent is:  [[4.97618775e-06 1.38087834e-07]]\n",
      "Mean Squared Error is : 234110320.37\n",
      "RMSE is : 15300.66\n",
      "R^2 score value is : 0.85\n"
     ]
    }
   ],
   "source": [
    "lr.fit(x9,y)\n",
    "y_pred=lr.predict(x9)\n",
    "print(\"Intercept point is : \",lr.intercept_)\n",
    "print(\"Co efficent is: \", lr.coef_)\n",
    "print(\"Mean Squared Error is :\", mean_squared_error(y,y_pred).round(2))\n",
    "print(\"RMSE is :\", (np.sqrt(mean_squared_error(y,y_pred))).round(2))\n",
    "print(\"R^2 score value is :\", r2_score(y,y_pred).round(2))"
   ]
  },
  {
   "cell_type": "code",
   "execution_count": 66,
   "id": "353aa39d",
   "metadata": {},
   "outputs": [
    {
     "name": "stdout",
     "output_type": "stream",
     "text": [
      "Intercept point is :  [82327.18387933]\n",
      "Co efficent is:  [[2.97125065e-11 1.83216408e-12]]\n",
      "Mean Squared Error is : 402052221.38\n",
      "RMSE is : 20051.24\n",
      "R^2 score value is : 0.75\n"
     ]
    }
   ],
   "source": [
    "lr.fit(x10,y)\n",
    "y_pred=lr.predict(x10)\n",
    "print(\"Intercept point is : \",lr.intercept_)\n",
    "print(\"Co efficent is: \", lr.coef_)\n",
    "print(\"Mean Squared Error is :\", mean_squared_error(y,y_pred).round(2))\n",
    "print(\"RMSE is :\", (np.sqrt(mean_squared_error(y,y_pred))).round(2))\n",
    "print(\"R^2 score value is :\", r2_score(y,y_pred).round(2))"
   ]
  },
  {
   "cell_type": "code",
   "execution_count": 67,
   "id": "29acac74",
   "metadata": {},
   "outputs": [
    {
     "name": "stdout",
     "output_type": "stream",
     "text": [
      "Intercept point is :  [7998.91596957]\n",
      "Co efficent is:  [[2760.17006121  -42.13121315]]\n",
      "Mean Squared Error is : 262648260.38\n",
      "RMSE is : 16206.43\n",
      "R^2 score value is : 0.84\n"
     ]
    }
   ],
   "source": [
    "lr.fit(x11,y)\n",
    "y_pred=lr.predict(x11)\n",
    "print(\"Intercept point is : \",lr.intercept_)\n",
    "print(\"Co efficent is: \", lr.coef_)\n",
    "print(\"Mean Squared Error is :\", mean_squared_error(y,y_pred).round(2))\n",
    "print(\"RMSE is :\", (np.sqrt(mean_squared_error(y,y_pred))).round(2))\n",
    "print(\"R^2 score value is :\", r2_score(y,y_pred).round(2))"
   ]
  },
  {
   "cell_type": "code",
   "execution_count": 68,
   "id": "cd9510b7",
   "metadata": {},
   "outputs": [
    {
     "name": "stdout",
     "output_type": "stream",
     "text": [
      "Intercept point is :  [32102.28746334]\n",
      "Co efficent is:  [[366.02848058 -34.06858338]]\n",
      "Mean Squared Error is : 149218983.88\n",
      "RMSE is : 12215.52\n",
      "R^2 score value is : 0.91\n"
     ]
    }
   ],
   "source": [
    "lr.fit(x12,y)\n",
    "y_pred=lr.predict(x12)\n",
    "print(\"Intercept point is : \",lr.intercept_)\n",
    "print(\"Co efficent is: \", lr.coef_)\n",
    "print(\"Mean Squared Error is :\", mean_squared_error(y,y_pred).round(2))\n",
    "print(\"RMSE is :\", (np.sqrt(mean_squared_error(y,y_pred))).round(2))\n",
    "print(\"R^2 score value is :\", r2_score(y,y_pred).round(2))"
   ]
  },
  {
   "cell_type": "code",
   "execution_count": 69,
   "id": "b2c6b27f",
   "metadata": {},
   "outputs": [
    {
     "name": "stdout",
     "output_type": "stream",
     "text": [
      "Intercept point is :  [70978.72972157]\n",
      "Co efficent is:  [[4.70925063e-06 1.97166334e-07 4.49560365e-08]]\n",
      "Mean Squared Error is : 232196425.45\n",
      "RMSE is : 15237.99\n",
      "R^2 score value is : 0.85\n"
     ]
    }
   ],
   "source": [
    "lr.fit(x13,y)\n",
    "y_pred=lr.predict(x13)\n",
    "print(\"Intercept point is : \",lr.intercept_)\n",
    "print(\"Co efficent is: \", lr.coef_)\n",
    "print(\"Mean Squared Error is :\", mean_squared_error(y,y_pred).round(2))\n",
    "print(\"RMSE is :\", (np.sqrt(mean_squared_error(y,y_pred))).round(2))\n",
    "print(\"R^2 score value is :\", r2_score(y,y_pred).round(2))"
   ]
  },
  {
   "cell_type": "code",
   "execution_count": 70,
   "id": "6738bfbd",
   "metadata": {},
   "outputs": [
    {
     "name": "stdout",
     "output_type": "stream",
     "text": [
      "Intercept point is :  [82460.10358188]\n",
      "Co efficent is:  [[ 3.00067419e-11  1.79820490e-12 -1.71938372e-14]]\n",
      "Mean Squared Error is : 402012509.36\n",
      "RMSE is : 20050.25\n",
      "R^2 score value is : 0.75\n"
     ]
    }
   ],
   "source": [
    "lr.fit(x14,y)\n",
    "y_pred=lr.predict(x14)\n",
    "print(\"Intercept point is : \",lr.intercept_)\n",
    "print(\"Co efficent is: \", lr.coef_)\n",
    "print(\"Mean Squared Error is :\", mean_squared_error(y,y_pred).round(2))\n",
    "print(\"RMSE is :\", (np.sqrt(mean_squared_error(y,y_pred))).round(2))\n",
    "print(\"R^2 score value is :\", r2_score(y,y_pred).round(2))"
   ]
  },
  {
   "cell_type": "code",
   "execution_count": 71,
   "id": "821e6a18",
   "metadata": {},
   "outputs": [
    {
     "name": "stdout",
     "output_type": "stream",
     "text": [
      "Intercept point is :  [3551.05691658]\n",
      "Co efficent is:  [[2673.58578783   20.85258426   85.44677717]]\n",
      "Mean Squared Error is : 261317167.29\n",
      "RMSE is : 16165.31\n",
      "R^2 score value is : 0.84\n"
     ]
    }
   ],
   "source": [
    "lr.fit(x15,y)\n",
    "y_pred=lr.predict(x15)\n",
    "print(\"Intercept point is : \",lr.intercept_)\n",
    "print(\"Co efficent is: \", lr.coef_)\n",
    "print(\"Mean Squared Error is :\", mean_squared_error(y,y_pred).round(2))\n",
    "print(\"RMSE is :\", (np.sqrt(mean_squared_error(y,y_pred))).round(2))\n",
    "print(\"R^2 score value is :\", r2_score(y,y_pred).round(2))"
   ]
  },
  {
   "cell_type": "code",
   "execution_count": 72,
   "id": "f683a189",
   "metadata": {},
   "outputs": [
    {
     "name": "stdout",
     "output_type": "stream",
     "text": [
      "Intercept point is :  [26498.06641618]\n",
      "Co efficent is:  [[349.35805336 -22.68634093  13.71126971]]\n",
      "Mean Squared Error is : 146541050.35\n",
      "RMSE is : 12105.41\n",
      "R^2 score value is : 0.91\n"
     ]
    }
   ],
   "source": [
    "lr.fit(x16,y)\n",
    "y_pred=lr.predict(x16)\n",
    "print(\"Intercept point is : \",lr.intercept_)\n",
    "print(\"Co efficent is: \", lr.coef_)\n",
    "print(\"Mean Squared Error is :\", mean_squared_error(y,y_pred).round(2))\n",
    "print(\"RMSE is :\", (np.sqrt(mean_squared_error(y,y_pred))).round(2))\n",
    "print(\"R^2 score value is :\", r2_score(y,y_pred).round(2))"
   ]
  },
  {
   "cell_type": "code",
   "execution_count": 73,
   "id": "92594160",
   "metadata": {},
   "outputs": [
    {
     "name": "stdout",
     "output_type": "stream",
     "text": [
      "Intercept point is :  [73991.7515046]\n",
      "Co efficent is:  [[4.79638090e-06 3.46224563e-08]]\n",
      "Mean Squared Error is : 233664621.95\n",
      "RMSE is : 15286.09\n",
      "R^2 score value is : 0.85\n"
     ]
    }
   ],
   "source": [
    "lr.fit(x17,y)\n",
    "y_pred=lr.predict(x17)\n",
    "print(\"Intercept point is : \",lr.intercept_)\n",
    "print(\"Co efficent is: \", lr.coef_)\n",
    "print(\"Mean Squared Error is :\", mean_squared_error(y,y_pred).round(2))\n",
    "print(\"RMSE is :\", (np.sqrt(mean_squared_error(y,y_pred))).round(2))\n",
    "print(\"R^2 score value is :\", r2_score(y,y_pred).round(2))"
   ]
  },
  {
   "cell_type": "code",
   "execution_count": 74,
   "id": "02c56a5c",
   "metadata": {},
   "outputs": [
    {
     "name": "stdout",
     "output_type": "stream",
     "text": [
      "Intercept point is :  [86132.26572071]\n",
      "Co efficent is:  [[ 3.08238251e-11 -5.41143893e-14]]\n",
      "Mean Squared Error is : 406527942.39\n",
      "RMSE is : 20162.54\n",
      "R^2 score value is : 0.74\n"
     ]
    }
   ],
   "source": [
    "lr.fit(x18,y)\n",
    "y_pred=lr.predict(x18)\n",
    "print(\"Intercept point is : \",lr.intercept_)\n",
    "print(\"Co efficent is: \", lr.coef_)\n",
    "print(\"Mean Squared Error is :\", mean_squared_error(y,y_pred).round(2))\n",
    "print(\"RMSE is :\", (np.sqrt(mean_squared_error(y,y_pred))).round(2))\n",
    "print(\"R^2 score value is :\", r2_score(y,y_pred).round(2))"
   ]
  },
  {
   "cell_type": "code",
   "execution_count": 75,
   "id": "ee627c08",
   "metadata": {},
   "outputs": [
    {
     "name": "stdout",
     "output_type": "stream",
     "text": [
      "Intercept point is :  [4537.92154878]\n",
      "Co efficent is:  [[2676.39580154   84.17985033]]\n",
      "Mean Squared Error is : 261323701.54\n",
      "RMSE is : 16165.51\n",
      "R^2 score value is : 0.84\n"
     ]
    }
   ],
   "source": [
    "lr.fit(x19,y)\n",
    "y_pred=lr.predict(x19)\n",
    "print(\"Intercept point is : \",lr.intercept_)\n",
    "print(\"Co efficent is: \", lr.coef_)\n",
    "print(\"Mean Squared Error is :\", mean_squared_error(y,y_pred).round(2))\n",
    "print(\"RMSE is :\", (np.sqrt(mean_squared_error(y,y_pred))).round(2))\n",
    "print(\"R^2 score value is :\", r2_score(y,y_pred).round(2))"
   ]
  },
  {
   "cell_type": "code",
   "execution_count": 76,
   "id": "38ae7dd5",
   "metadata": {},
   "outputs": [
    {
     "name": "stdout",
     "output_type": "stream",
     "text": [
      "Intercept point is :  [18964.25199321]\n",
      "Co efficent is:  [[344.67456905  15.7344735 ]]\n",
      "Mean Squared Error is : 147328637.05\n",
      "RMSE is : 12137.9\n",
      "R^2 score value is : 0.91\n"
     ]
    }
   ],
   "source": [
    "lr.fit(x20,y)\n",
    "y_pred=lr.predict(x20)\n",
    "print(\"Intercept point is : \",lr.intercept_)\n",
    "print(\"Co efficent is: \", lr.coef_)\n",
    "print(\"Mean Squared Error is :\", mean_squared_error(y,y_pred).round(2))\n",
    "print(\"RMSE is :\", (np.sqrt(mean_squared_error(y,y_pred))).round(2))\n",
    "print(\"R^2 score value is :\", r2_score(y,y_pred).round(2))"
   ]
  },
  {
   "cell_type": "code",
   "execution_count": null,
   "id": "1538d110",
   "metadata": {},
   "outputs": [],
   "source": []
  },
  {
   "cell_type": "markdown",
   "id": "fa35a35f",
   "metadata": {},
   "source": [
    "As we see that only x3 model has lowest RMSE so we prefer x3 model  "
   ]
  },
  {
   "cell_type": "code",
   "execution_count": null,
   "id": "7dd6837e",
   "metadata": {},
   "outputs": [],
   "source": []
  },
  {
   "cell_type": "code",
   "execution_count": 77,
   "id": "3e82bd49",
   "metadata": {},
   "outputs": [
    {
     "data": {
      "text/plain": [
       "<matplotlib.collections.PathCollection at 0x243c687c790>"
      ]
     },
     "execution_count": 77,
     "metadata": {},
     "output_type": "execute_result"
    },
    {
     "data": {
      "image/png": "[encoded data removed]",
      "text/plain": [
       "<Figure size 640x480 with 1 Axes>"
      ]
     },
     "metadata": {},
     "output_type": "display_data"
    }
   ],
   "source": [
    "plt.scatter(df['Administration'],y)"
   ]
  },
  {
   "cell_type": "code",
   "execution_count": 78,
   "id": "7fc02349",
   "metadata": {},
   "outputs": [
    {
     "data": {
      "text/plain": [
       "<matplotlib.collections.PathCollection at 0x243c68f1280>"
      ]
     },
     "execution_count": 78,
     "metadata": {},
     "output_type": "execute_result"
    },
    {
     "data": {
      "image/png": "[encoded data removed]",
      "text/plain": [
       "<Figure size 640x480 with 1 Axes>"
      ]
     },
     "metadata": {},
     "output_type": "display_data"
    }
   ],
   "source": [
    "plt.scatter(df['Marketing Spend'], y)"
   ]
  },
  {
   "cell_type": "markdown",
   "id": "7997243b",
   "metadata": {},
   "source": [
    "Consider only the below columns and prepare a prediction model for predicting Price.\n",
    "\n",
    "Corolla<-Corolla[c(\"Price\",\"Age_08_04\",\"KM\",\"HP\",\"cc\",\"Doors\",\"Gears\",\"Quarterly_Tax\",\"Weight\")]\n",
    "\n",
    "Model -- model of the car\n",
    "\n",
    "Price  -- Offer Price in EUROs\t\n",
    "\n",
    "Age_08_04 -- Age in months as in August 2004\t\n",
    "\n",
    "Mfg_Month -- Manufacturing month (1-12)\t\n",
    "\n",
    "Mfg_Year\t-- Manufacturing Year\n",
    "\n",
    "KM -- Accumulated Kilometers on odometer\n",
    "\n",
    "Fuel_Type\t -- Fuel Type (Petrol, Diesel, CNG)\n",
    "\n",
    "HP -- Horse Power\n",
    "\n",
    "Met_Color\t -- Metallic Color?  (Yes=1, No=0)\n",
    "\n",
    "Color -- Color (Blue, Red, Grey, Silver, Black, etc.)\n",
    "\n",
    "Automatic\t-- Automatic ( (Yes=1, No=0)\n",
    "\n",
    "cc -- Cylinder Volume in cubic centimeters\n",
    "\n",
    "Doors -- Number of doors\n",
    "\n",
    "Cylinders\t-- Number of cylinders\n",
    "\n",
    "Gears -- Number of gear positions\n",
    "\n",
    "Quarterly_Tax -- Quarterly road tax in EUROs\n",
    "\n",
    "Weight -- Weight in Kilograms\n",
    "\n",
    "Mfr_Guarantee -- Within Manufacturer's Guarantee period  (Yes=1, No=0)\n",
    "\n",
    "BOVAG_Guarantee -- BOVAG (Dutch dealer network) Guarantee  (Yes=1, No=0)\n",
    "\n",
    "Guarantee_Period -- \tGuarantee period in months\n",
    "\n",
    "ABS -- Anti-Lock Brake System (Yes=1, No=0)\n",
    "\n",
    "Airbag_1 -- Driver_Airbag  (Yes=1, No=0)\n",
    "\n",
    "Airbag_2 -- Passenger Airbag  (Yes=1, No=0)\n",
    "\n",
    "Airco -- Airconditioning  (Yes=1, No=0)\n",
    "\n",
    "Automatic_airco -- Automatic Airconditioning  (Yes=1, No=0)\n",
    "\n",
    "Boardcomputer -- Boardcomputer  (Yes=1, No=0)\n",
    "\n",
    "CD_Player -- CD Player  (Yes=1, No=0)\n",
    "\n",
    "Central_Lock -- Central Lock  (Yes=1, No=0)\n",
    "\n",
    "Powered_Windows -- Powered Windows  (Yes=1, No=0)\n",
    "\n",
    "Power_Steering -- Power Steering  (Yes=1, No=0)\n",
    "\n",
    "Radio -- Radio  (Yes=1, No=0)\n",
    "\n",
    "Mistlamps\t-- Mistlamps  (Yes=1, No=0)\n",
    "\n",
    "Sport_Model -- Sport Model  (Yes=1, No=0)\n",
    "\n",
    "Backseat_Divider -- Backseat Divider  (Yes=1, No=0)\n",
    "\n",
    "Metallic_Rim --Metallic Rim  (Yes=1, No=0)\n",
    "\n",
    "Radio_cassette -- Radio Cassette  (Yes=1, No=0)\n",
    "\n",
    "Tow_Bar -- Tow Bar  (Yes=1, No=0)\n",
    "\n",
    "\n"
   ]
  },
  {
   "cell_type": "code",
   "execution_count": 79,
   "id": "d0eaccdb",
   "metadata": {},
   "outputs": [],
   "source": [
    "import pandas as pd\n",
    "df=pd.read_csv(\"ToyotaCorolla.csv\",encoding='latin1')"
   ]
  },
  {
   "cell_type": "code",
   "execution_count": 80,
   "id": "4a1c9805",
   "metadata": {},
   "outputs": [
    {
     "data": {
      "text/html": [
       "<div>\n",
       "<style scoped>\n",
       "    .dataframe tbody tr th:only-of-type {\n",
       "        vertical-align: middle;\n",
       "    }\n",
       "\n",
       "    .dataframe tbody tr th {\n",
       "        vertical-align: top;\n",
       "    }\n",
       "\n",
       "    .dataframe thead th {\n",
       "        text-align: right;\n",
       "    }\n",
       "</style>\n",
       "<table border=\"1\" class=\"dataframe\">\n",
       "  <thead>\n",
       "    <tr style=\"text-align: right;\">\n",
       "      <th></th>\n",
       "      <th>Id</th>\n",
       "      <th>Model</th>\n",
       "      <th>Price</th>\n",
       "      <th>Age_08_04</th>\n",
       "      <th>Mfg_Month</th>\n",
       "      <th>Mfg_Year</th>\n",
       "      <th>KM</th>\n",
       "      <th>Fuel_Type</th>\n",
       "      <th>HP</th>\n",
       "      <th>Met_Color</th>\n",
       "      <th>...</th>\n",
       "      <th>Central_Lock</th>\n",
       "      <th>Powered_Windows</th>\n",
       "      <th>Power_Steering</th>\n",
       "      <th>Radio</th>\n",
       "      <th>Mistlamps</th>\n",
       "      <th>Sport_Model</th>\n",
       "      <th>Backseat_Divider</th>\n",
       "      <th>Metallic_Rim</th>\n",
       "      <th>Radio_cassette</th>\n",
       "      <th>Tow_Bar</th>\n",
       "    </tr>\n",
       "  </thead>\n",
       "  <tbody>\n",
       "    <tr>\n",
       "      <th>0</th>\n",
       "      <td>1</td>\n",
       "      <td>TOYOTA Corolla 2.0 D4D HATCHB TERRA 2/3-Doors</td>\n",
       "      <td>13500</td>\n",
       "      <td>23</td>\n",
       "      <td>10</td>\n",
       "      <td>2002</td>\n",
       "      <td>46986</td>\n",
       "      <td>Diesel</td>\n",
       "      <td>90</td>\n",
       "      <td>1</td>\n",
       "      <td>...</td>\n",
       "      <td>1</td>\n",
       "      <td>1</td>\n",
       "      <td>1</td>\n",
       "      <td>0</td>\n",
       "      <td>0</td>\n",
       "      <td>0</td>\n",
       "      <td>1</td>\n",
       "      <td>0</td>\n",
       "      <td>0</td>\n",
       "      <td>0</td>\n",
       "    </tr>\n",
       "    <tr>\n",
       "      <th>1</th>\n",
       "      <td>2</td>\n",
       "      <td>TOYOTA Corolla 2.0 D4D HATCHB TERRA 2/3-Doors</td>\n",
       "      <td>13750</td>\n",
       "      <td>23</td>\n",
       "      <td>10</td>\n",
       "      <td>2002</td>\n",
       "      <td>72937</td>\n",
       "      <td>Diesel</td>\n",
       "      <td>90</td>\n",
       "      <td>1</td>\n",
       "      <td>...</td>\n",
       "      <td>1</td>\n",
       "      <td>0</td>\n",
       "      <td>1</td>\n",
       "      <td>0</td>\n",
       "      <td>0</td>\n",
       "      <td>0</td>\n",
       "      <td>1</td>\n",
       "      <td>0</td>\n",
       "      <td>0</td>\n",
       "      <td>0</td>\n",
       "    </tr>\n",
       "    <tr>\n",
       "      <th>2</th>\n",
       "      <td>3</td>\n",
       "      <td>TOYOTA Corolla 2.0 D4D HATCHB TERRA 2/3-Doors</td>\n",
       "      <td>13950</td>\n",
       "      <td>24</td>\n",
       "      <td>9</td>\n",
       "      <td>2002</td>\n",
       "      <td>41711</td>\n",
       "      <td>Diesel</td>\n",
       "      <td>90</td>\n",
       "      <td>1</td>\n",
       "      <td>...</td>\n",
       "      <td>0</td>\n",
       "      <td>0</td>\n",
       "      <td>1</td>\n",
       "      <td>0</td>\n",
       "      <td>0</td>\n",
       "      <td>0</td>\n",
       "      <td>1</td>\n",
       "      <td>0</td>\n",
       "      <td>0</td>\n",
       "      <td>0</td>\n",
       "    </tr>\n",
       "    <tr>\n",
       "      <th>3</th>\n",
       "      <td>4</td>\n",
       "      <td>TOYOTA Corolla 2.0 D4D HATCHB TERRA 2/3-Doors</td>\n",
       "      <td>14950</td>\n",
       "      <td>26</td>\n",
       "      <td>7</td>\n",
       "      <td>2002</td>\n",
       "      <td>48000</td>\n",
       "      <td>Diesel</td>\n",
       "      <td>90</td>\n",
       "      <td>0</td>\n",
       "      <td>...</td>\n",
       "      <td>0</td>\n",
       "      <td>0</td>\n",
       "      <td>1</td>\n",
       "      <td>0</td>\n",
       "      <td>0</td>\n",
       "      <td>0</td>\n",
       "      <td>1</td>\n",
       "      <td>0</td>\n",
       "      <td>0</td>\n",
       "      <td>0</td>\n",
       "    </tr>\n",
       "    <tr>\n",
       "      <th>4</th>\n",
       "      <td>5</td>\n",
       "      <td>TOYOTA Corolla 2.0 D4D HATCHB SOL 2/3-Doors</td>\n",
       "      <td>13750</td>\n",
       "      <td>30</td>\n",
       "      <td>3</td>\n",
       "      <td>2002</td>\n",
       "      <td>38500</td>\n",
       "      <td>Diesel</td>\n",
       "      <td>90</td>\n",
       "      <td>0</td>\n",
       "      <td>...</td>\n",
       "      <td>1</td>\n",
       "      <td>1</td>\n",
       "      <td>1</td>\n",
       "      <td>0</td>\n",
       "      <td>1</td>\n",
       "      <td>0</td>\n",
       "      <td>1</td>\n",
       "      <td>0</td>\n",
       "      <td>0</td>\n",
       "      <td>0</td>\n",
       "    </tr>\n",
       "    <tr>\n",
       "      <th>...</th>\n",
       "      <td>...</td>\n",
       "      <td>...</td>\n",
       "      <td>...</td>\n",
       "      <td>...</td>\n",
       "      <td>...</td>\n",
       "      <td>...</td>\n",
       "      <td>...</td>\n",
       "      <td>...</td>\n",
       "      <td>...</td>\n",
       "      <td>...</td>\n",
       "      <td>...</td>\n",
       "      <td>...</td>\n",
       "      <td>...</td>\n",
       "      <td>...</td>\n",
       "      <td>...</td>\n",
       "      <td>...</td>\n",
       "      <td>...</td>\n",
       "      <td>...</td>\n",
       "      <td>...</td>\n",
       "      <td>...</td>\n",
       "      <td>...</td>\n",
       "    </tr>\n",
       "    <tr>\n",
       "      <th>1431</th>\n",
       "      <td>1438</td>\n",
       "      <td>TOYOTA Corolla 1.3 16V HATCHB G6 2/3-Doors</td>\n",
       "      <td>7500</td>\n",
       "      <td>69</td>\n",
       "      <td>12</td>\n",
       "      <td>1998</td>\n",
       "      <td>20544</td>\n",
       "      <td>Petrol</td>\n",
       "      <td>86</td>\n",
       "      <td>1</td>\n",
       "      <td>...</td>\n",
       "      <td>1</td>\n",
       "      <td>1</td>\n",
       "      <td>1</td>\n",
       "      <td>0</td>\n",
       "      <td>1</td>\n",
       "      <td>1</td>\n",
       "      <td>1</td>\n",
       "      <td>0</td>\n",
       "      <td>0</td>\n",
       "      <td>0</td>\n",
       "    </tr>\n",
       "    <tr>\n",
       "      <th>1432</th>\n",
       "      <td>1439</td>\n",
       "      <td>TOYOTA Corolla 1.3 16V HATCHB LINEA TERRA 2/3-...</td>\n",
       "      <td>10845</td>\n",
       "      <td>72</td>\n",
       "      <td>9</td>\n",
       "      <td>1998</td>\n",
       "      <td>19000</td>\n",
       "      <td>Petrol</td>\n",
       "      <td>86</td>\n",
       "      <td>0</td>\n",
       "      <td>...</td>\n",
       "      <td>0</td>\n",
       "      <td>0</td>\n",
       "      <td>1</td>\n",
       "      <td>0</td>\n",
       "      <td>0</td>\n",
       "      <td>1</td>\n",
       "      <td>1</td>\n",
       "      <td>0</td>\n",
       "      <td>0</td>\n",
       "      <td>0</td>\n",
       "    </tr>\n",
       "    <tr>\n",
       "      <th>1433</th>\n",
       "      <td>1440</td>\n",
       "      <td>TOYOTA Corolla 1.3 16V HATCHB LINEA TERRA 2/3-...</td>\n",
       "      <td>8500</td>\n",
       "      <td>71</td>\n",
       "      <td>10</td>\n",
       "      <td>1998</td>\n",
       "      <td>17016</td>\n",
       "      <td>Petrol</td>\n",
       "      <td>86</td>\n",
       "      <td>0</td>\n",
       "      <td>...</td>\n",
       "      <td>0</td>\n",
       "      <td>0</td>\n",
       "      <td>1</td>\n",
       "      <td>0</td>\n",
       "      <td>0</td>\n",
       "      <td>0</td>\n",
       "      <td>1</td>\n",
       "      <td>0</td>\n",
       "      <td>0</td>\n",
       "      <td>0</td>\n",
       "    </tr>\n",
       "    <tr>\n",
       "      <th>1434</th>\n",
       "      <td>1441</td>\n",
       "      <td>TOYOTA Corolla 1.3 16V HATCHB LINEA TERRA 2/3-...</td>\n",
       "      <td>7250</td>\n",
       "      <td>70</td>\n",
       "      <td>11</td>\n",
       "      <td>1998</td>\n",
       "      <td>16916</td>\n",
       "      <td>Petrol</td>\n",
       "      <td>86</td>\n",
       "      <td>1</td>\n",
       "      <td>...</td>\n",
       "      <td>0</td>\n",
       "      <td>0</td>\n",
       "      <td>0</td>\n",
       "      <td>0</td>\n",
       "      <td>0</td>\n",
       "      <td>0</td>\n",
       "      <td>1</td>\n",
       "      <td>0</td>\n",
       "      <td>0</td>\n",
       "      <td>0</td>\n",
       "    </tr>\n",
       "    <tr>\n",
       "      <th>1435</th>\n",
       "      <td>1442</td>\n",
       "      <td>TOYOTA Corolla 1.6 LB LINEA TERRA 4/5-Doors</td>\n",
       "      <td>6950</td>\n",
       "      <td>76</td>\n",
       "      <td>5</td>\n",
       "      <td>1998</td>\n",
       "      <td>1</td>\n",
       "      <td>Petrol</td>\n",
       "      <td>110</td>\n",
       "      <td>0</td>\n",
       "      <td>...</td>\n",
       "      <td>0</td>\n",
       "      <td>0</td>\n",
       "      <td>1</td>\n",
       "      <td>0</td>\n",
       "      <td>0</td>\n",
       "      <td>0</td>\n",
       "      <td>0</td>\n",
       "      <td>0</td>\n",
       "      <td>0</td>\n",
       "      <td>0</td>\n",
       "    </tr>\n",
       "  </tbody>\n",
       "</table>\n",
       "<p>1436 rows × 38 columns</p>\n",
       "</div>"
      ],
      "text/plain": [
       "        Id                                              Model  Price  \\\n",
       "0        1      TOYOTA Corolla 2.0 D4D HATCHB TERRA 2/3-Doors  13500   \n",
       "1        2      TOYOTA Corolla 2.0 D4D HATCHB TERRA 2/3-Doors  13750   \n",
       "2        3      TOYOTA Corolla 2.0 D4D HATCHB TERRA 2/3-Doors  13950   \n",
       "3        4      TOYOTA Corolla 2.0 D4D HATCHB TERRA 2/3-Doors  14950   \n",
       "4        5        TOYOTA Corolla 2.0 D4D HATCHB SOL 2/3-Doors  13750   \n",
       "...    ...                                                ...    ...   \n",
       "1431  1438         TOYOTA Corolla 1.3 16V HATCHB G6 2/3-Doors   7500   \n",
       "1432  1439  TOYOTA Corolla 1.3 16V HATCHB LINEA TERRA 2/3-...  10845   \n",
       "1433  1440  TOYOTA Corolla 1.3 16V HATCHB LINEA TERRA 2/3-...   8500   \n",
       "1434  1441  TOYOTA Corolla 1.3 16V HATCHB LINEA TERRA 2/3-...   7250   \n",
       "1435  1442        TOYOTA Corolla 1.6 LB LINEA TERRA 4/5-Doors   6950   \n",
       "\n",
       "      Age_08_04  Mfg_Month  Mfg_Year     KM Fuel_Type   HP  Met_Color  ...  \\\n",
       "0            23         10      2002  46986    Diesel   90          1  ...   \n",
       "1            23         10      2002  72937    Diesel   90          1  ...   \n",
       "2            24          9      2002  41711    Diesel   90          1  ...   \n",
       "3            26          7      2002  48000    Diesel   90          0  ...   \n",
       "4            30          3      2002  38500    Diesel   90          0  ...   \n",
       "...         ...        ...       ...    ...       ...  ...        ...  ...   \n",
       "1431         69         12      1998  20544    Petrol   86          1  ...   \n",
       "1432         72          9      1998  19000    Petrol   86          0  ...   \n",
       "1433         71         10      1998  17016    Petrol   86          0  ...   \n",
       "1434         70         11      1998  16916    Petrol   86          1  ...   \n",
       "1435         76          5      1998      1    Petrol  110          0  ...   \n",
       "\n",
       "     Central_Lock  Powered_Windows  Power_Steering  Radio  Mistlamps  \\\n",
       "0               1                1               1      0          0   \n",
       "1               1                0               1      0          0   \n",
       "2               0                0               1      0          0   \n",
       "3               0                0               1      0          0   \n",
       "4               1                1               1      0          1   \n",
       "...           ...              ...             ...    ...        ...   \n",
       "1431            1                1               1      0          1   \n",
       "1432            0                0               1      0          0   \n",
       "1433            0                0               1      0          0   \n",
       "1434            0                0               0      0          0   \n",
       "1435            0                0               1      0          0   \n",
       "\n",
       "      Sport_Model  Backseat_Divider  Metallic_Rim  Radio_cassette  Tow_Bar  \n",
       "0               0                 1             0               0        0  \n",
       "1               0                 1             0               0        0  \n",
       "2               0                 1             0               0        0  \n",
       "3               0                 1             0               0        0  \n",
       "4               0                 1             0               0        0  \n",
       "...           ...               ...           ...             ...      ...  \n",
       "1431            1                 1             0               0        0  \n",
       "1432            1                 1             0               0        0  \n",
       "1433            0                 1             0               0        0  \n",
       "1434            0                 1             0               0        0  \n",
       "1435            0                 0             0               0        0  \n",
       "\n",
       "[1436 rows x 38 columns]"
      ]
     },
     "execution_count": 80,
     "metadata": {},
     "output_type": "execute_result"
    }
   ],
   "source": [
    "df"
   ]
  },
  {
   "cell_type": "code",
   "execution_count": 81,
   "id": "2029416d",
   "metadata": {},
   "outputs": [
    {
     "data": {
      "text/html": [
       "<div>\n",
       "<style scoped>\n",
       "    .dataframe tbody tr th:only-of-type {\n",
       "        vertical-align: middle;\n",
       "    }\n",
       "\n",
       "    .dataframe tbody tr th {\n",
       "        vertical-align: top;\n",
       "    }\n",
       "\n",
       "    .dataframe thead th {\n",
       "        text-align: right;\n",
       "    }\n",
       "</style>\n",
       "<table border=\"1\" class=\"dataframe\">\n",
       "  <thead>\n",
       "    <tr style=\"text-align: right;\">\n",
       "      <th></th>\n",
       "      <th>Price</th>\n",
       "      <th>Age_08_04</th>\n",
       "      <th>KM</th>\n",
       "      <th>HP</th>\n",
       "      <th>cc</th>\n",
       "      <th>Doors</th>\n",
       "      <th>Gears</th>\n",
       "      <th>Quarterly_Tax</th>\n",
       "      <th>Weight</th>\n",
       "    </tr>\n",
       "  </thead>\n",
       "  <tbody>\n",
       "    <tr>\n",
       "      <th>0</th>\n",
       "      <td>13500</td>\n",
       "      <td>23</td>\n",
       "      <td>46986</td>\n",
       "      <td>90</td>\n",
       "      <td>2000</td>\n",
       "      <td>3</td>\n",
       "      <td>5</td>\n",
       "      <td>210</td>\n",
       "      <td>1165</td>\n",
       "    </tr>\n",
       "    <tr>\n",
       "      <th>1</th>\n",
       "      <td>13750</td>\n",
       "      <td>23</td>\n",
       "      <td>72937</td>\n",
       "      <td>90</td>\n",
       "      <td>2000</td>\n",
       "      <td>3</td>\n",
       "      <td>5</td>\n",
       "      <td>210</td>\n",
       "      <td>1165</td>\n",
       "    </tr>\n",
       "    <tr>\n",
       "      <th>2</th>\n",
       "      <td>13950</td>\n",
       "      <td>24</td>\n",
       "      <td>41711</td>\n",
       "      <td>90</td>\n",
       "      <td>2000</td>\n",
       "      <td>3</td>\n",
       "      <td>5</td>\n",
       "      <td>210</td>\n",
       "      <td>1165</td>\n",
       "    </tr>\n",
       "    <tr>\n",
       "      <th>3</th>\n",
       "      <td>14950</td>\n",
       "      <td>26</td>\n",
       "      <td>48000</td>\n",
       "      <td>90</td>\n",
       "      <td>2000</td>\n",
       "      <td>3</td>\n",
       "      <td>5</td>\n",
       "      <td>210</td>\n",
       "      <td>1165</td>\n",
       "    </tr>\n",
       "    <tr>\n",
       "      <th>4</th>\n",
       "      <td>13750</td>\n",
       "      <td>30</td>\n",
       "      <td>38500</td>\n",
       "      <td>90</td>\n",
       "      <td>2000</td>\n",
       "      <td>3</td>\n",
       "      <td>5</td>\n",
       "      <td>210</td>\n",
       "      <td>1170</td>\n",
       "    </tr>\n",
       "    <tr>\n",
       "      <th>...</th>\n",
       "      <td>...</td>\n",
       "      <td>...</td>\n",
       "      <td>...</td>\n",
       "      <td>...</td>\n",
       "      <td>...</td>\n",
       "      <td>...</td>\n",
       "      <td>...</td>\n",
       "      <td>...</td>\n",
       "      <td>...</td>\n",
       "    </tr>\n",
       "    <tr>\n",
       "      <th>1431</th>\n",
       "      <td>7500</td>\n",
       "      <td>69</td>\n",
       "      <td>20544</td>\n",
       "      <td>86</td>\n",
       "      <td>1300</td>\n",
       "      <td>3</td>\n",
       "      <td>5</td>\n",
       "      <td>69</td>\n",
       "      <td>1025</td>\n",
       "    </tr>\n",
       "    <tr>\n",
       "      <th>1432</th>\n",
       "      <td>10845</td>\n",
       "      <td>72</td>\n",
       "      <td>19000</td>\n",
       "      <td>86</td>\n",
       "      <td>1300</td>\n",
       "      <td>3</td>\n",
       "      <td>5</td>\n",
       "      <td>69</td>\n",
       "      <td>1015</td>\n",
       "    </tr>\n",
       "    <tr>\n",
       "      <th>1433</th>\n",
       "      <td>8500</td>\n",
       "      <td>71</td>\n",
       "      <td>17016</td>\n",
       "      <td>86</td>\n",
       "      <td>1300</td>\n",
       "      <td>3</td>\n",
       "      <td>5</td>\n",
       "      <td>69</td>\n",
       "      <td>1015</td>\n",
       "    </tr>\n",
       "    <tr>\n",
       "      <th>1434</th>\n",
       "      <td>7250</td>\n",
       "      <td>70</td>\n",
       "      <td>16916</td>\n",
       "      <td>86</td>\n",
       "      <td>1300</td>\n",
       "      <td>3</td>\n",
       "      <td>5</td>\n",
       "      <td>69</td>\n",
       "      <td>1015</td>\n",
       "    </tr>\n",
       "    <tr>\n",
       "      <th>1435</th>\n",
       "      <td>6950</td>\n",
       "      <td>76</td>\n",
       "      <td>1</td>\n",
       "      <td>110</td>\n",
       "      <td>1600</td>\n",
       "      <td>5</td>\n",
       "      <td>5</td>\n",
       "      <td>19</td>\n",
       "      <td>1114</td>\n",
       "    </tr>\n",
       "  </tbody>\n",
       "</table>\n",
       "<p>1436 rows × 9 columns</p>\n",
       "</div>"
      ],
      "text/plain": [
       "      Price  Age_08_04     KM   HP    cc  Doors  Gears  Quarterly_Tax  Weight\n",
       "0     13500         23  46986   90  2000      3      5            210    1165\n",
       "1     13750         23  72937   90  2000      3      5            210    1165\n",
       "2     13950         24  41711   90  2000      3      5            210    1165\n",
       "3     14950         26  48000   90  2000      3      5            210    1165\n",
       "4     13750         30  38500   90  2000      3      5            210    1170\n",
       "...     ...        ...    ...  ...   ...    ...    ...            ...     ...\n",
       "1431   7500         69  20544   86  1300      3      5             69    1025\n",
       "1432  10845         72  19000   86  1300      3      5             69    1015\n",
       "1433   8500         71  17016   86  1300      3      5             69    1015\n",
       "1434   7250         70  16916   86  1300      3      5             69    1015\n",
       "1435   6950         76      1  110  1600      5      5             19    1114\n",
       "\n",
       "[1436 rows x 9 columns]"
      ]
     },
     "execution_count": 81,
     "metadata": {},
     "output_type": "execute_result"
    }
   ],
   "source": [
    "df=df[[\"Price\",\"Age_08_04\",\"KM\",\"HP\",\"cc\",\"Doors\",\"Gears\",\"Quarterly_Tax\",\"Weight\"]]\n",
    "df"
   ]
  },
  {
   "cell_type": "code",
   "execution_count": 130,
   "id": "2eb6fda1",
   "metadata": {},
   "outputs": [
    {
     "data": {
      "text/plain": [
       "<matplotlib.collections.PathCollection at 0x243c7d09fd0>"
      ]
     },
     "execution_count": 130,
     "metadata": {},
     "output_type": "execute_result"
    },
    {
     "data": {
      "image/png": "[encoded data removed]",
      "text/plain": [
       "<Figure size 640x480 with 1 Axes>"
      ]
     },
     "metadata": {},
     "output_type": "display_data"
    }
   ],
   "source": [
    "y=df[['Price']]\n",
    "x=df[[\"Age_08_04\",\"KM\",\"HP\",\"cc\",\"Doors\",\"Gears\",\"Quarterly_Tax\",\"Weight\"]]\n",
    "plt.scatter(y,x[\"Age_08_04\"])"
   ]
  },
  {
   "cell_type": "code",
   "execution_count": 131,
   "id": "7132e650",
   "metadata": {},
   "outputs": [
    {
     "data": {
      "text/plain": [
       "<matplotlib.collections.PathCollection at 0x243c7d285b0>"
      ]
     },
     "execution_count": 131,
     "metadata": {},
     "output_type": "execute_result"
    },
    {
     "data": {
      "image/png": "[encoded data removed]",
      "text/plain": [
       "<Figure size 640x480 with 1 Axes>"
      ]
     },
     "metadata": {},
     "output_type": "display_data"
    }
   ],
   "source": [
    "plt.scatter(y,x[\"KM\"])"
   ]
  },
  {
   "cell_type": "code",
   "execution_count": 133,
   "id": "ed3e46d0",
   "metadata": {},
   "outputs": [
    {
     "data": {
      "text/plain": [
       "<matplotlib.collections.PathCollection at 0x243c7c6dbb0>"
      ]
     },
     "execution_count": 133,
     "metadata": {},
     "output_type": "execute_result"
    },
    {
     "data": {
      "image/png": "[encoded data removed]",
      "text/plain": [
       "<Figure size 640x480 with 1 Axes>"
      ]
     },
     "metadata": {},
     "output_type": "display_data"
    }
   ],
   "source": [
    "plt.scatter(y,x[[\"HP\"]])"
   ]
  },
  {
   "cell_type": "code",
   "execution_count": 134,
   "id": "caf5cb24",
   "metadata": {},
   "outputs": [
    {
     "data": {
      "text/plain": [
       "<matplotlib.collections.PathCollection at 0x243c7b9ba30>"
      ]
     },
     "execution_count": 134,
     "metadata": {},
     "output_type": "execute_result"
    },
    {
     "data": {
      "image/png": "[encoded data removed]",
      "text/plain": [
       "<Figure size 640x480 with 1 Axes>"
      ]
     },
     "metadata": {},
     "output_type": "display_data"
    }
   ],
   "source": [
    "plt.scatter(y,x[\"cc\"])"
   ]
  },
  {
   "cell_type": "code",
   "execution_count": 135,
   "id": "f22a3c42",
   "metadata": {},
   "outputs": [
    {
     "data": {
      "text/plain": [
       "<matplotlib.collections.PathCollection at 0x243c672c0d0>"
      ]
     },
     "execution_count": 135,
     "metadata": {},
     "output_type": "execute_result"
    },
    {
     "data": {
      "image/png": "[encoded data removed]",
      "text/plain": [
       "<Figure size 640x480 with 1 Axes>"
      ]
     },
     "metadata": {},
     "output_type": "display_data"
    }
   ],
   "source": [
    "plt.scatter(y,x[\"Doors\"])"
   ]
  },
  {
   "cell_type": "code",
   "execution_count": 136,
   "id": "25e359d7",
   "metadata": {},
   "outputs": [
    {
     "data": {
      "text/plain": [
       "<matplotlib.collections.PathCollection at 0x243c66b3040>"
      ]
     },
     "execution_count": 136,
     "metadata": {},
     "output_type": "execute_result"
    },
    {
     "data": {
      "image/png": "[encoded data removed]",
      "text/plain": [
       "<Figure size 640x480 with 1 Axes>"
      ]
     },
     "metadata": {},
     "output_type": "display_data"
    }
   ],
   "source": [
    "plt.scatter(y,x[\"Gears\"])"
   ]
  },
  {
   "cell_type": "code",
   "execution_count": 137,
   "id": "7806cbf6",
   "metadata": {},
   "outputs": [
    {
     "data": {
      "text/plain": [
       "<matplotlib.collections.PathCollection at 0x243c6838910>"
      ]
     },
     "execution_count": 137,
     "metadata": {},
     "output_type": "execute_result"
    },
    {
     "data": {
      "image/png": "[encoded data removed]",
      "text/plain": [
       "<Figure size 640x480 with 1 Axes>"
      ]
     },
     "metadata": {},
     "output_type": "display_data"
    }
   ],
   "source": [
    "plt.scatter(y,x[\"Quarterly_Tax\"])"
   ]
  },
  {
   "cell_type": "code",
   "execution_count": 138,
   "id": "082928a0",
   "metadata": {},
   "outputs": [
    {
     "data": {
      "text/plain": [
       "<matplotlib.collections.PathCollection at 0x243c65a0370>"
      ]
     },
     "execution_count": 138,
     "metadata": {},
     "output_type": "execute_result"
    },
    {
     "data": {
      "image/png": "[encoded data removed]",
      "text/plain": [
       "<Figure size 640x480 with 1 Axes>"
      ]
     },
     "metadata": {},
     "output_type": "display_data"
    }
   ],
   "source": [
    "plt.scatter(y,x[\"Weight\"])"
   ]
  },
  {
   "cell_type": "code",
   "execution_count": 83,
   "id": "9b7fac16",
   "metadata": {},
   "outputs": [
    {
     "data": {
      "text/html": [
       "<div>\n",
       "<style scoped>\n",
       "    .dataframe tbody tr th:only-of-type {\n",
       "        vertical-align: middle;\n",
       "    }\n",
       "\n",
       "    .dataframe tbody tr th {\n",
       "        vertical-align: top;\n",
       "    }\n",
       "\n",
       "    .dataframe thead th {\n",
       "        text-align: right;\n",
       "    }\n",
       "</style>\n",
       "<table border=\"1\" class=\"dataframe\">\n",
       "  <thead>\n",
       "    <tr style=\"text-align: right;\">\n",
       "      <th></th>\n",
       "      <th>Price</th>\n",
       "      <th>Age_08_04</th>\n",
       "      <th>KM</th>\n",
       "      <th>HP</th>\n",
       "      <th>cc</th>\n",
       "      <th>Doors</th>\n",
       "      <th>Gears</th>\n",
       "      <th>Quarterly_Tax</th>\n",
       "      <th>Weight</th>\n",
       "    </tr>\n",
       "  </thead>\n",
       "  <tbody>\n",
       "    <tr>\n",
       "      <th>Price</th>\n",
       "      <td>1.000000</td>\n",
       "      <td>-0.876590</td>\n",
       "      <td>-0.569960</td>\n",
       "      <td>0.314990</td>\n",
       "      <td>0.126389</td>\n",
       "      <td>0.185326</td>\n",
       "      <td>0.063104</td>\n",
       "      <td>0.219197</td>\n",
       "      <td>0.581198</td>\n",
       "    </tr>\n",
       "    <tr>\n",
       "      <th>Age_08_04</th>\n",
       "      <td>-0.876590</td>\n",
       "      <td>1.000000</td>\n",
       "      <td>0.505672</td>\n",
       "      <td>-0.156622</td>\n",
       "      <td>-0.098084</td>\n",
       "      <td>-0.148359</td>\n",
       "      <td>-0.005364</td>\n",
       "      <td>-0.198431</td>\n",
       "      <td>-0.470253</td>\n",
       "    </tr>\n",
       "    <tr>\n",
       "      <th>KM</th>\n",
       "      <td>-0.569960</td>\n",
       "      <td>0.505672</td>\n",
       "      <td>1.000000</td>\n",
       "      <td>-0.333538</td>\n",
       "      <td>0.102683</td>\n",
       "      <td>-0.036197</td>\n",
       "      <td>0.015023</td>\n",
       "      <td>0.278165</td>\n",
       "      <td>-0.028598</td>\n",
       "    </tr>\n",
       "    <tr>\n",
       "      <th>HP</th>\n",
       "      <td>0.314990</td>\n",
       "      <td>-0.156622</td>\n",
       "      <td>-0.333538</td>\n",
       "      <td>1.000000</td>\n",
       "      <td>0.035856</td>\n",
       "      <td>0.092424</td>\n",
       "      <td>0.209477</td>\n",
       "      <td>-0.298432</td>\n",
       "      <td>0.089614</td>\n",
       "    </tr>\n",
       "    <tr>\n",
       "      <th>cc</th>\n",
       "      <td>0.126389</td>\n",
       "      <td>-0.098084</td>\n",
       "      <td>0.102683</td>\n",
       "      <td>0.035856</td>\n",
       "      <td>1.000000</td>\n",
       "      <td>0.079903</td>\n",
       "      <td>0.014629</td>\n",
       "      <td>0.306996</td>\n",
       "      <td>0.335637</td>\n",
       "    </tr>\n",
       "    <tr>\n",
       "      <th>Doors</th>\n",
       "      <td>0.185326</td>\n",
       "      <td>-0.148359</td>\n",
       "      <td>-0.036197</td>\n",
       "      <td>0.092424</td>\n",
       "      <td>0.079903</td>\n",
       "      <td>1.000000</td>\n",
       "      <td>-0.160141</td>\n",
       "      <td>0.109363</td>\n",
       "      <td>0.302618</td>\n",
       "    </tr>\n",
       "    <tr>\n",
       "      <th>Gears</th>\n",
       "      <td>0.063104</td>\n",
       "      <td>-0.005364</td>\n",
       "      <td>0.015023</td>\n",
       "      <td>0.209477</td>\n",
       "      <td>0.014629</td>\n",
       "      <td>-0.160141</td>\n",
       "      <td>1.000000</td>\n",
       "      <td>-0.005452</td>\n",
       "      <td>0.020613</td>\n",
       "    </tr>\n",
       "    <tr>\n",
       "      <th>Quarterly_Tax</th>\n",
       "      <td>0.219197</td>\n",
       "      <td>-0.198431</td>\n",
       "      <td>0.278165</td>\n",
       "      <td>-0.298432</td>\n",
       "      <td>0.306996</td>\n",
       "      <td>0.109363</td>\n",
       "      <td>-0.005452</td>\n",
       "      <td>1.000000</td>\n",
       "      <td>0.626134</td>\n",
       "    </tr>\n",
       "    <tr>\n",
       "      <th>Weight</th>\n",
       "      <td>0.581198</td>\n",
       "      <td>-0.470253</td>\n",
       "      <td>-0.028598</td>\n",
       "      <td>0.089614</td>\n",
       "      <td>0.335637</td>\n",
       "      <td>0.302618</td>\n",
       "      <td>0.020613</td>\n",
       "      <td>0.626134</td>\n",
       "      <td>1.000000</td>\n",
       "    </tr>\n",
       "  </tbody>\n",
       "</table>\n",
       "</div>"
      ],
      "text/plain": [
       "                  Price  Age_08_04        KM        HP        cc     Doors  \\\n",
       "Price          1.000000  -0.876590 -0.569960  0.314990  0.126389  0.185326   \n",
       "Age_08_04     -0.876590   1.000000  0.505672 -0.156622 -0.098084 -0.148359   \n",
       "KM            -0.569960   0.505672  1.000000 -0.333538  0.102683 -0.036197   \n",
       "HP             0.314990  -0.156622 -0.333538  1.000000  0.035856  0.092424   \n",
       "cc             0.126389  -0.098084  0.102683  0.035856  1.000000  0.079903   \n",
       "Doors          0.185326  -0.148359 -0.036197  0.092424  0.079903  1.000000   \n",
       "Gears          0.063104  -0.005364  0.015023  0.209477  0.014629 -0.160141   \n",
       "Quarterly_Tax  0.219197  -0.198431  0.278165 -0.298432  0.306996  0.109363   \n",
       "Weight         0.581198  -0.470253 -0.028598  0.089614  0.335637  0.302618   \n",
       "\n",
       "                  Gears  Quarterly_Tax    Weight  \n",
       "Price          0.063104       0.219197  0.581198  \n",
       "Age_08_04     -0.005364      -0.198431 -0.470253  \n",
       "KM             0.015023       0.278165 -0.028598  \n",
       "HP             0.209477      -0.298432  0.089614  \n",
       "cc             0.014629       0.306996  0.335637  \n",
       "Doors         -0.160141       0.109363  0.302618  \n",
       "Gears          1.000000      -0.005452  0.020613  \n",
       "Quarterly_Tax -0.005452       1.000000  0.626134  \n",
       "Weight         0.020613       0.626134  1.000000  "
      ]
     },
     "execution_count": 83,
     "metadata": {},
     "output_type": "execute_result"
    }
   ],
   "source": [
    "df.corr()"
   ]
  },
  {
   "cell_type": "code",
   "execution_count": 84,
   "id": "df56b24f",
   "metadata": {},
   "outputs": [],
   "source": [
    "x1=x[[\"Age_08_04\"]]\n",
    "x2=x[[\"Age_08_04\",\"KM\"]]\n",
    "x3=x[[\"Age_08_04\",\"KM\",\"HP\"]]\n",
    "x4=x[[\"Age_08_04\",\"KM\",\"HP\",\"cc\"]]\n",
    "x5=x[[\"Age_08_04\",\"KM\",\"HP\",\"cc\",\"Doors\"]]\n",
    "x6=x[[\"Age_08_04\",\"KM\",\"HP\",\"cc\",\"Doors\",\"Gears\",]]\n",
    "x7=x[[\"Age_08_04\",\"KM\",\"HP\",\"cc\",\"Doors\",\"Gears\",\"Quarterly_Tax\"]]\n",
    "x8=x[[\"Age_08_04\",\"KM\",\"HP\",\"cc\",\"Doors\",\"Gears\",\"Quarterly_Tax\",\"Weight\"]]\n",
    "x9=pow(x1,2)\n",
    "x10=pow(x1,3)\n",
    "x11=np.cbrt(x1)\n",
    "x12=np.sqrt(x1)\n",
    "x13=pow(x2,2)\n",
    "x14=pow(x2,3)\n",
    "x15=np.cbrt(x2)\n",
    "x16=np.sqrt(x2)\n",
    "x17=pow(x3,2)\n",
    "x18=pow(x3,3)\n",
    "x19=np.cbrt(x3)\n",
    "x20=np.sqrt(x3)\n",
    "x21=pow(x4,2)\n",
    "x22=pow(x4,3)\n",
    "x23=np.cbrt(x4)\n",
    "x24=np.sqrt(x4)\n",
    "x25=pow(x5,2)\n",
    "x26=pow(x5,3)\n",
    "x27=np.cbrt(x5)\n",
    "x28=np.sqrt(x5)\n",
    "x29=pow(x6,2)\n",
    "x30=pow(x6,3)\n",
    "x31=np.cbrt(x6)\n",
    "x32=np.sqrt(x6)\n",
    "x33=pow(x7,2)\n",
    "x34=pow(x7,3)\n",
    "x35=np.cbrt(x7)\n",
    "x36=np.sqrt(x7)\n",
    "x37=pow(x8,2)\n",
    "x38=pow(x8,3)\n",
    "x39=np.cbrt(x8)\n",
    "x40=np.sqrt(x8)"
   ]
  },
  {
   "cell_type": "code",
   "execution_count": 85,
   "id": "cdaebaa9",
   "metadata": {},
   "outputs": [
    {
     "name": "stdout",
     "output_type": "stream",
     "text": [
      "Intercept point is : 20294.058648905047\n",
      "Co efficient is : [-170.93358501]\n",
      "Mean Square Error is :  3044403.46\n",
      "RMSE is :  1744.82\n",
      "R^2 Score is : 0.77\n"
     ]
    }
   ],
   "source": [
    "import numpy as np\n",
    "from sklearn.metrics import mean_squared_error,r2_score\n",
    "from sklearn.linear_model import LinearRegression\n",
    "lr=LinearRegression()\n",
    "lr.fit(x1,y)\n",
    "print(\"Intercept point is :\",lr.intercept_)\n",
    "print(\"Co efficient is :\", lr.coef_)\n",
    "y_pred1=lr.predict(x1)\n",
    "mse=(mean_squared_error(y,y_pred1))\n",
    "print(\"Mean Square Error is : \",mse.round(2))\n",
    "print(\"RMSE is : \", (np.sqrt(mse)).round(2))\n",
    "print(\"R^2 Score is :\", r2_score(y,y_pred1).round(2))"
   ]
  },
  {
   "cell_type": "code",
   "execution_count": 86,
   "id": "b15f7346",
   "metadata": {},
   "outputs": [
    {
     "name": "stdout",
     "output_type": "stream",
     "text": [
      "Intercept point is : 20483.11353360555\n",
      "Co efficient is : [-1.54149180e+02 -1.64605221e-02]\n",
      "Mean Square Error is :  2760910.65\n",
      "RMSE is :  1661.6\n",
      "R^2 Score is : 0.79\n"
     ]
    }
   ],
   "source": [
    "lr.fit(x2,y)\n",
    "print(\"Intercept point is :\",lr.intercept_)\n",
    "print(\"Co efficient is :\", lr.coef_)\n",
    "y_pred2=lr.predict(x2)\n",
    "mse=(mean_squared_error(y,y_pred2))\n",
    "print(\"Mean Square Error is : \",mse.round(2))\n",
    "print(\"RMSE is : \", (np.sqrt(mse)).round(2))\n",
    "print(\"R^2 Score is :\", r2_score(y,y_pred2).round(2))"
   ]
  },
  {
   "cell_type": "code",
   "execution_count": 87,
   "id": "b3fd2750",
   "metadata": {},
   "outputs": [
    {
     "name": "stdout",
     "output_type": "stream",
     "text": [
      "Intercept point is : 16450.188784180522\n",
      "Co efficient is : [-1.54626264e+02 -1.14621494e-02  3.66205409e+01]\n",
      "Mean Square Error is :  2493659.96\n",
      "RMSE is :  1579.13\n",
      "R^2 Score is : 0.81\n"
     ]
    }
   ],
   "source": [
    "lr.fit(x3,y)\n",
    "print(\"Intercept point is :\",lr.intercept_)\n",
    "print(\"Co efficient is :\", lr.coef_)\n",
    "y_pred3=lr.predict(x3)\n",
    "mse=(mean_squared_error(y,y_pred3))\n",
    "print(\"Mean Square Error is : \",mse.round(2))\n",
    "print(\"RMSE is : \", (np.sqrt(mse)).round(2))\n",
    "print(\"R^2 Score is :\", r2_score(y,y_pred3).round(2))"
   ]
  },
  {
   "cell_type": "code",
   "execution_count": 88,
   "id": "1775cff9",
   "metadata": {},
   "outputs": [
    {
     "name": "stdout",
     "output_type": "stream",
     "text": [
      "Intercept point is : 15745.033507374668\n",
      "Co efficient is : [-1.52329063e+02 -1.27677446e-02  3.54729114e+01  4.96302230e-01]\n",
      "Mean Square Error is :  2451398.51\n",
      "RMSE is :  1565.69\n",
      "R^2 Score is : 0.81\n"
     ]
    }
   ],
   "source": [
    "lr.fit(x4,y)\n",
    "print(\"Intercept point is :\",lr.intercept_)\n",
    "print(\"Co efficient is :\", lr.coef_)\n",
    "y_pred4=lr.predict(x4)\n",
    "mse=(mean_squared_error(y,y_pred4))\n",
    "print(\"Mean Square Error is : \",mse.round(2))\n",
    "print(\"RMSE is : \", (np.sqrt(mse)).round(2))\n",
    "print(\"R^2 Score is :\", r2_score(y,y_pred4).round(2))"
   ]
  },
  {
   "cell_type": "code",
   "execution_count": 89,
   "id": "51a480ca",
   "metadata": {},
   "outputs": [
    {
     "name": "stdout",
     "output_type": "stream",
     "text": [
      "Intercept point is : 15081.089900289513\n",
      "Co efficient is : [-1.50776456e+02 -1.31005438e-02  3.44423125e+01  4.74438571e-01\n",
      "  1.83211829e+02]\n",
      "Mean Square Error is :  2422001.63\n",
      "RMSE is :  1556.28\n",
      "R^2 Score is : 0.82\n"
     ]
    }
   ],
   "source": [
    "lr.fit(x5,y)\n",
    "print(\"Intercept point is :\",lr.intercept_)\n",
    "print(\"Co efficient is :\", lr.coef_)\n",
    "y_pred1=lr.predict(x5)\n",
    "mse=(mean_squared_error(y,y_pred1))\n",
    "print(\"Mean Square Error is : \",mse.round(2))\n",
    "print(\"RMSE is : \", (np.sqrt(mse)).round(2))\n",
    "print(\"R^2 Score is :\", r2_score(y,y_pred1).round(2))"
   ]
  },
  {
   "cell_type": "code",
   "execution_count": 90,
   "id": "1f78e1d0",
   "metadata": {},
   "outputs": [
    {
     "name": "stdout",
     "output_type": "stream",
     "text": [
      "Intercept point is : 11204.723591407279\n",
      "Co efficient is : [-1.50338232e+02 -1.35905763e-02  3.18297162e+01  4.73515369e-01\n",
      "  2.13030210e+02  8.02115225e+02]\n",
      "Mean Square Error is :  2401129.41\n",
      "RMSE is :  1549.56\n",
      "R^2 Score is : 0.82\n"
     ]
    }
   ],
   "source": [
    "lr.fit(x6,y)\n",
    "print(\"Intercept point is :\",lr.intercept_)\n",
    "print(\"Co efficient is :\", lr.coef_)\n",
    "y_pred1=lr.predict(x6)\n",
    "mse=(mean_squared_error(y,y_pred1))\n",
    "print(\"Mean Square Error is : \",mse.round(2))\n",
    "print(\"RMSE is : \", (np.sqrt(mse)).round(2))\n",
    "print(\"R^2 Score is :\", r2_score(y,y_pred1).round(2))"
   ]
  },
  {
   "cell_type": "code",
   "execution_count": 91,
   "id": "a40a67bc",
   "metadata": {},
   "outputs": [
    {
     "name": "stdout",
     "output_type": "stream",
     "text": [
      "Intercept point is : 9980.658681713685\n",
      "Co efficient is : [-1.36385511e+02 -2.00763524e-02  4.35742800e+01  1.06625996e-01\n",
      "  1.57948288e+02  6.20143248e+02  1.61981045e+01]\n",
      "Mean Square Error is :  2107415.58\n",
      "RMSE is :  1451.69\n",
      "R^2 Score is : 0.84\n"
     ]
    }
   ],
   "source": [
    "lr.fit(x7,y)\n",
    "print(\"Intercept point is :\",lr.intercept_)\n",
    "print(\"Co efficient is :\", lr.coef_)\n",
    "y_pred1=lr.predict(x7)\n",
    "mse=(mean_squared_error(y,y_pred1))\n",
    "print(\"Mean Square Error is : \",mse.round(2))\n",
    "print(\"RMSE is : \", (np.sqrt(mse)).round(2))\n",
    "print(\"R^2 Score is :\", r2_score(y,y_pred1).round(2))"
   ]
  },
  {
   "cell_type": "code",
   "execution_count": 92,
   "id": "12848322",
   "metadata": {},
   "outputs": [
    {
     "name": "stdout",
     "output_type": "stream",
     "text": [
      "Intercept point is :  16304.98758203338\n",
      "Co efficent is:  [-1.60370933]\n",
      "Mean Squared Error is : 4478675.13\n",
      "RMSE is : 2116.29\n",
      "R^2 score value is : 0.66\n"
     ]
    }
   ],
   "source": [
    "lr.fit(x9,y)\n",
    "y_pred=lr.predict(x9)\n",
    "print(\"Intercept point is : \",lr.intercept_)\n",
    "print(\"Co efficent is: \", lr.coef_)\n",
    "print(\"Mean Squared Error is :\", mean_squared_error(y,y_pred).round(2))\n",
    "print(\"RMSE is :\", (np.sqrt(mean_squared_error(y,y_pred))).round(2))\n",
    "print(\"R^2 score value is :\", r2_score(y,y_pred).round(2))"
   ]
  },
  {
   "cell_type": "code",
   "execution_count": 93,
   "id": "04bec168",
   "metadata": {},
   "outputs": [
    {
     "name": "stdout",
     "output_type": "stream",
     "text": [
      "Intercept point is :  14714.464092900935\n",
      "Co efficent is:  [-0.01748469]\n",
      "Mean Squared Error is : 5790681.83\n",
      "RMSE is : 2406.38\n",
      "R^2 score value is : 0.56\n"
     ]
    }
   ],
   "source": [
    "lr.fit(x10,y)\n",
    "y_pred=lr.predict(x10)\n",
    "print(\"Intercept point is : \",lr.intercept_)\n",
    "print(\"Co efficent is: \", lr.coef_)\n",
    "print(\"Mean Squared Error is :\", mean_squared_error(y,y_pred).round(2))\n",
    "print(\"RMSE is :\", (np.sqrt(mean_squared_error(y,y_pred))).round(2))\n",
    "print(\"R^2 score value is :\", r2_score(y,y_pred).round(2))"
   ]
  },
  {
   "cell_type": "code",
   "execution_count": 94,
   "id": "e617b26b",
   "metadata": {},
   "outputs": [
    {
     "name": "stdout",
     "output_type": "stream",
     "text": [
      "Intercept point is :  33666.08997325113\n",
      "Co efficent is:  [-6105.67894955]\n",
      "Mean Squared Error is : 2582246.03\n",
      "RMSE is : 1606.94\n",
      "R^2 score value is : 0.8\n"
     ]
    }
   ],
   "source": [
    "lr.fit(x11,y)\n",
    "y_pred=lr.predict(x11)\n",
    "print(\"Intercept point is : \",lr.intercept_)\n",
    "print(\"Co efficent is: \", lr.coef_)\n",
    "print(\"Mean Squared Error is :\", mean_squared_error(y,y_pred).round(2))\n",
    "print(\"RMSE is :\", (np.sqrt(mean_squared_error(y,y_pred))).round(2))\n",
    "print(\"R^2 score value is :\", r2_score(y,y_pred).round(2))"
   ]
  },
  {
   "cell_type": "code",
   "execution_count": 98,
   "id": "9c1868c1",
   "metadata": {},
   "outputs": [
    {
     "name": "stdout",
     "output_type": "stream",
     "text": [
      "Intercept point is :  27176.570857777395\n",
      "Co efficent is:  [-2241.19358852]\n",
      "Mean Squared Error is : 2588995.42\n",
      "RMSE is : 1609.04\n",
      "R^2 score value is : 0.8\n"
     ]
    }
   ],
   "source": [
    "lr.fit(x12,y)\n",
    "y_pred=lr.predict(x12)\n",
    "print(\"Intercept point is : \",lr.intercept_)\n",
    "print(\"Co efficent is: \", lr.coef_)\n",
    "print(\"Mean Squared Error is :\", mean_squared_error(y,y_pred).round(2))\n",
    "print(\"RMSE is :\", (np.sqrt(mean_squared_error(y,y_pred))).round(2))\n",
    "print(\"R^2 score value is :\", r2_score(y,y_pred).round(2))"
   ]
  },
  {
   "cell_type": "code",
   "execution_count": 99,
   "id": "4eabb705",
   "metadata": {},
   "outputs": [
    {
     "name": "stdout",
     "output_type": "stream",
     "text": [
      "Intercept point is :  16440.85564300794\n",
      "Co efficent is:  [-1.48363684e+00 -9.06529590e-08]\n",
      "Mean Squared Error is : 4130039.32\n",
      "RMSE is : 2032.25\n",
      "R^2 score value is : 0.69\n"
     ]
    }
   ],
   "source": [
    "lr.fit(x13,y)\n",
    "y_pred=lr.predict(x13)\n",
    "print(\"Intercept point is : \",lr.intercept_)\n",
    "print(\"Co efficent is: \", lr.coef_)\n",
    "print(\"Mean Squared Error is :\", mean_squared_error(y,y_pred).round(2))\n",
    "print(\"RMSE is :\", (np.sqrt(mean_squared_error(y,y_pred))).round(2))\n",
    "print(\"R^2 score value is :\", r2_score(y,y_pred).round(2))"
   ]
  },
  {
   "cell_type": "code",
   "execution_count": 100,
   "id": "4ae5f4f6",
   "metadata": {},
   "outputs": [
    {
     "name": "stdout",
     "output_type": "stream",
     "text": [
      "Intercept point is :  14815.961777077704\n",
      "Co efficent is:  [-1.65625807e-02 -4.68977378e-13]\n",
      "Mean Squared Error is : 5453818.69\n",
      "RMSE is : 2335.34\n",
      "R^2 score value is : 0.59\n"
     ]
    }
   ],
   "source": [
    "lr.fit(x14,y)\n",
    "y_pred=lr.predict(x14)\n",
    "print(\"Intercept point is : \",lr.intercept_)\n",
    "print(\"Co efficent is: \", lr.coef_)\n",
    "print(\"Mean Squared Error is :\", mean_squared_error(y,y_pred).round(2))\n",
    "print(\"RMSE is :\", (np.sqrt(mean_squared_error(y,y_pred))).round(2))\n",
    "print(\"R^2 score value is :\", r2_score(y,y_pred).round(2))"
   ]
  },
  {
   "cell_type": "code",
   "execution_count": 101,
   "id": "90983cb0",
   "metadata": {},
   "outputs": [
    {
     "name": "stdout",
     "output_type": "stream",
     "text": [
      "Intercept point is :  33791.02574280577\n",
      "Co efficent is:  [-5549.7626121    -56.22976615]\n",
      "Mean Squared Error is : 2455292.04\n",
      "RMSE is : 1566.94\n",
      "R^2 score value is : 0.81\n"
     ]
    }
   ],
   "source": [
    "lr.fit(x15,y)\n",
    "y_pred=lr.predict(x15)\n",
    "print(\"Intercept point is : \",lr.intercept_)\n",
    "print(\"Co efficent is: \", lr.coef_)\n",
    "print(\"Mean Squared Error is :\", mean_squared_error(y,y_pred).round(2))\n",
    "print(\"RMSE is :\", (np.sqrt(mean_squared_error(y,y_pred))).round(2))\n",
    "print(\"R^2 score value is :\", r2_score(y,y_pred).round(2))"
   ]
  },
  {
   "cell_type": "code",
   "execution_count": 102,
   "id": "d9a60a60",
   "metadata": {},
   "outputs": [
    {
     "name": "stdout",
     "output_type": "stream",
     "text": [
      "Intercept point is :  27372.986880771037\n",
      "Co efficent is:  [-2012.79398401    -7.45333603]\n",
      "Mean Squared Error is : 2397336.2\n",
      "RMSE is : 1548.33\n",
      "R^2 score value is : 0.82\n"
     ]
    }
   ],
   "source": [
    "lr.fit(x16,y)\n",
    "y_pred=lr.predict(x16)\n",
    "print(\"Intercept point is : \",lr.intercept_)\n",
    "print(\"Co efficent is: \", lr.coef_)\n",
    "print(\"Mean Squared Error is :\", mean_squared_error(y,y_pred).round(2))\n",
    "print(\"RMSE is :\", (np.sqrt(mean_squared_error(y,y_pred))).round(2))\n",
    "print(\"R^2 score value is :\", r2_score(y,y_pred).round(2))"
   ]
  },
  {
   "cell_type": "code",
   "execution_count": 103,
   "id": "96e3822d",
   "metadata": {},
   "outputs": [
    {
     "name": "stdout",
     "output_type": "stream",
     "text": [
      "Intercept point is :  14152.756056357211\n",
      "Co efficent is:  [-1.46484176e+00 -6.42399642e-08  1.95838750e-01]\n",
      "Mean Squared Error is : 3744127.08\n",
      "RMSE is : 1934.97\n",
      "R^2 score value is : 0.72\n"
     ]
    }
   ],
   "source": [
    "lr.fit(x17,y)\n",
    "y_pred=lr.predict(x17)\n",
    "print(\"Intercept point is : \",lr.intercept_)\n",
    "print(\"Co efficent is: \", lr.coef_)\n",
    "print(\"Mean Squared Error is :\", mean_squared_error(y,y_pred).round(2))\n",
    "print(\"RMSE is :\", (np.sqrt(mean_squared_error(y,y_pred))).round(2))\n",
    "print(\"R^2 score value is :\", r2_score(y,y_pred).round(2))"
   ]
  },
  {
   "cell_type": "code",
   "execution_count": 104,
   "id": "97cf2d64",
   "metadata": {},
   "outputs": [
    {
     "name": "stdout",
     "output_type": "stream",
     "text": [
      "Intercept point is :  13290.433958143567\n",
      "Co efficent is:  [-1.61300517e-02 -3.51173396e-13  1.20717929e-03]\n",
      "Mean Squared Error is : 4913671.13\n",
      "RMSE is : 2216.68\n",
      "R^2 score value is : 0.63\n"
     ]
    }
   ],
   "source": [
    "lr.fit(x18,y)\n",
    "y_pred=lr.predict(x18)\n",
    "print(\"Intercept point is : \",lr.intercept_)\n",
    "print(\"Co efficent is: \", lr.coef_)\n",
    "print(\"Mean Squared Error is :\", mean_squared_error(y,y_pred).round(2))\n",
    "print(\"RMSE is :\", (np.sqrt(mean_squared_error(y,y_pred))).round(2))\n",
    "print(\"R^2 score value is :\", r2_score(y,y_pred).round(2))"
   ]
  },
  {
   "cell_type": "code",
   "execution_count": 105,
   "id": "ba1be091",
   "metadata": {},
   "outputs": [
    {
     "name": "stdout",
     "output_type": "stream",
     "text": [
      "Intercept point is :  21698.042503350785\n",
      "Co efficent is:  [-5615.6062193    -33.46669368  2459.27064638]\n",
      "Mean Squared Error is : 2168510.72\n",
      "RMSE is : 1472.59\n",
      "R^2 score value is : 0.84\n"
     ]
    }
   ],
   "source": [
    "lr.fit(x19,y)\n",
    "y_pred=lr.predict(x19)\n",
    "print(\"Intercept point is : \",lr.intercept_)\n",
    "print(\"Co efficent is: \", lr.coef_)\n",
    "print(\"Mean Squared Error is :\", mean_squared_error(y,y_pred).round(2))\n",
    "print(\"RMSE is :\", (np.sqrt(mean_squared_error(y,y_pred))).round(2))\n",
    "print(\"R^2 score value is :\", r2_score(y,y_pred).round(2))"
   ]
  },
  {
   "cell_type": "code",
   "execution_count": 106,
   "id": "393843ea",
   "metadata": {},
   "outputs": [
    {
     "name": "stdout",
     "output_type": "stream",
     "text": [
      "Intercept point is :  19523.386521426\n",
      "Co efficent is:  [-2033.57071864    -4.90804738   732.76242939]\n",
      "Mean Squared Error is : 2134441.29\n",
      "RMSE is : 1460.97\n",
      "R^2 score value is : 0.84\n"
     ]
    }
   ],
   "source": [
    "lr.fit(x20,y)\n",
    "y_pred=lr.predict(x20)\n",
    "print(\"Intercept point is : \",lr.intercept_)\n",
    "print(\"Co efficent is: \", lr.coef_)\n",
    "print(\"Mean Squared Error is :\", mean_squared_error(y,y_pred).round(2))\n",
    "print(\"RMSE is :\", (np.sqrt(mean_squared_error(y,y_pred))).round(2))\n",
    "print(\"R^2 score value is :\", r2_score(y,y_pred).round(2))"
   ]
  },
  {
   "cell_type": "code",
   "execution_count": 107,
   "id": "dd8af155",
   "metadata": {},
   "outputs": [
    {
     "name": "stdout",
     "output_type": "stream",
     "text": [
      "Intercept point is :  14100.60280440429\n",
      "Co efficent is:  [-1.46058653e+00 -6.49604529e-08  1.95124926e-01  1.84792893e-05]\n",
      "Mean Squared Error is : 3728790.71\n",
      "RMSE is : 1931.01\n",
      "R^2 score value is : 0.72\n"
     ]
    }
   ],
   "source": [
    "lr.fit(x21,y)\n",
    "y_pred=lr.predict(x21)\n",
    "print(\"Intercept point is : \",lr.intercept_)\n",
    "print(\"Co efficent is: \", lr.coef_)\n",
    "print(\"Mean Squared Error is :\", mean_squared_error(y,y_pred).round(2))\n",
    "print(\"RMSE is :\", (np.sqrt(mean_squared_error(y,y_pred))).round(2))\n",
    "print(\"R^2 score value is :\", r2_score(y,y_pred).round(2))"
   ]
  },
  {
   "cell_type": "code",
   "execution_count": 108,
   "id": "7332f078",
   "metadata": {},
   "outputs": [
    {
     "name": "stdout",
     "output_type": "stream",
     "text": [
      "Intercept point is :  13277.429474949931\n",
      "Co efficent is:  [-1.61011514e-02 -3.51367810e-13  1.20622122e-03  1.10998160e-09]\n",
      "Mean Squared Error is : 4899332.62\n",
      "RMSE is : 2213.44\n",
      "R^2 score value is : 0.63\n"
     ]
    }
   ],
   "source": [
    "lr.fit(x22,y)\n",
    "y_pred=lr.predict(x22)\n",
    "print(\"Intercept point is : \",lr.intercept_)\n",
    "print(\"Co efficent is: \", lr.coef_)\n",
    "print(\"Mean Squared Error is :\", mean_squared_error(y,y_pred).round(2))\n",
    "print(\"RMSE is :\", (np.sqrt(mean_squared_error(y,y_pred))).round(2))\n",
    "print(\"R^2 score value is :\", r2_score(y,y_pred).round(2))"
   ]
  },
  {
   "cell_type": "code",
   "execution_count": 109,
   "id": "eee95447",
   "metadata": {},
   "outputs": [
    {
     "name": "stdout",
     "output_type": "stream",
     "text": [
      "Intercept point is :  16945.213783788702\n",
      "Co efficent is:  [-5433.05139034   -46.3210833   2326.01371194   447.44914875]\n",
      "Mean Squared Error is : 2108579.42\n",
      "RMSE is : 1452.09\n",
      "R^2 score value is : 0.84\n"
     ]
    }
   ],
   "source": [
    "lr.fit(x23,y)\n",
    "y_pred=lr.predict(x23)\n",
    "print(\"Intercept point is : \",lr.intercept_)\n",
    "print(\"Co efficent is: \", lr.coef_)\n",
    "print(\"Mean Squared Error is :\", mean_squared_error(y,y_pred).round(2))\n",
    "print(\"RMSE is :\", (np.sqrt(mean_squared_error(y,y_pred))).round(2))\n",
    "print(\"R^2 score value is :\", r2_score(y,y_pred).round(2))"
   ]
  },
  {
   "cell_type": "code",
   "execution_count": 110,
   "id": "bf007a76",
   "metadata": {},
   "outputs": [
    {
     "name": "stdout",
     "output_type": "stream",
     "text": [
      "Intercept point is :  16632.309113122006\n",
      "Co efficent is:  [-1971.73119624    -6.2784439    690.62584062    80.98536538]\n",
      "Mean Squared Error is : 2071282.83\n",
      "RMSE is : 1439.2\n",
      "R^2 score value is : 0.84\n"
     ]
    }
   ],
   "source": [
    "lr.fit(x24,y)\n",
    "y_pred=lr.predict(x24)\n",
    "print(\"Intercept point is : \",lr.intercept_)\n",
    "print(\"Co efficent is: \", lr.coef_)\n",
    "print(\"Mean Squared Error is :\", mean_squared_error(y,y_pred).round(2))\n",
    "print(\"RMSE is :\", (np.sqrt(mean_squared_error(y,y_pred))).round(2))\n",
    "print(\"R^2 score value is :\", r2_score(y,y_pred).round(2))"
   ]
  },
  {
   "cell_type": "code",
   "execution_count": 111,
   "id": "7c841fbc",
   "metadata": {},
   "outputs": [
    {
     "name": "stdout",
     "output_type": "stream",
     "text": [
      "Intercept point is :  13508.765866877688\n",
      "Co efficent is:  [-1.44006861e+00 -6.69143834e-08  1.90023581e-01  1.73820993e-05\n",
      "  3.42972545e+01]\n",
      "Mean Squared Error is : 3662172.09\n",
      "RMSE is : 1913.68\n",
      "R^2 score value is : 0.72\n"
     ]
    }
   ],
   "source": [
    "lr.fit(x25,y)\n",
    "y_pred=lr.predict(x25)\n",
    "print(\"Intercept point is : \",lr.intercept_)\n",
    "print(\"Co efficent is: \", lr.coef_)\n",
    "print(\"Mean Squared Error is :\", mean_squared_error(y,y_pred).round(2))\n",
    "print(\"RMSE is :\", (np.sqrt(mean_squared_error(y,y_pred))).round(2))\n",
    "print(\"R^2 score value is :\", r2_score(y,y_pred).round(2))"
   ]
  },
  {
   "cell_type": "code",
   "execution_count": 112,
   "id": "da5a6b32",
   "metadata": {},
   "outputs": [
    {
     "name": "stdout",
     "output_type": "stream",
     "text": [
      "Intercept point is :  12680.566196786613\n",
      "Co efficent is:  [-1.58234485e-02 -3.58115108e-13  1.18864875e-03  1.03433977e-09\n",
      "  7.29456836e+00]\n",
      "Mean Squared Error is : 4785019.56\n",
      "RMSE is : 2187.47\n",
      "R^2 score value is : 0.64\n"
     ]
    }
   ],
   "source": [
    "lr.fit(x26,y)\n",
    "y_pred=lr.predict(x26)\n",
    "print(\"Intercept point is : \",lr.intercept_)\n",
    "print(\"Co efficent is: \", lr.coef_)\n",
    "print(\"Mean Squared Error is :\", mean_squared_error(y,y_pred).round(2))\n",
    "print(\"RMSE is :\", (np.sqrt(mean_squared_error(y,y_pred))).round(2))\n",
    "print(\"R^2 score value is :\", r2_score(y,y_pred).round(2))"
   ]
  },
  {
   "cell_type": "code",
   "execution_count": 113,
   "id": "dcfe2cd1",
   "metadata": {},
   "outputs": [
    {
     "name": "stdout",
     "output_type": "stream",
     "text": [
      "Intercept point is :  15836.568483798215\n",
      "Co efficent is:  [-5397.48192679   -47.11687855  2282.22470951   430.25243252\n",
      "   891.32060216]\n",
      "Mean Squared Error is : 2096173.55\n",
      "RMSE is : 1447.82\n",
      "R^2 score value is : 0.84\n"
     ]
    }
   ],
   "source": [
    "lr.fit(x27,y)\n",
    "y_pred=lr.predict(x27)\n",
    "print(\"Intercept point is : \",lr.intercept_)\n",
    "print(\"Co efficent is: \", lr.coef_)\n",
    "print(\"Mean Squared Error is :\", mean_squared_error(y,y_pred).round(2))\n",
    "print(\"RMSE is :\", (np.sqrt(mean_squared_error(y,y_pred))).round(2))\n",
    "print(\"R^2 score value is :\", r2_score(y,y_pred).round(2))"
   ]
  },
  {
   "cell_type": "code",
   "execution_count": 114,
   "id": "f7c1e9a2",
   "metadata": {},
   "outputs": [
    {
     "name": "stdout",
     "output_type": "stream",
     "text": [
      "Intercept point is :  15768.03421231532\n",
      "Co efficent is:  [-1956.9688655     -6.38770522   675.20025938    77.91685337\n",
      "   531.52772474]\n",
      "Mean Squared Error is : 2055633.67\n",
      "RMSE is : 1433.75\n",
      "R^2 score value is : 0.84\n"
     ]
    }
   ],
   "source": [
    "lr.fit(x28,y)\n",
    "y_pred=lr.predict(x28)\n",
    "print(\"Intercept point is : \",lr.intercept_)\n",
    "print(\"Co efficent is: \", lr.coef_)\n",
    "print(\"Mean Squared Error is :\", mean_squared_error(y,y_pred).round(2))\n",
    "print(\"RMSE is :\", (np.sqrt(mean_squared_error(y,y_pred))).round(2))\n",
    "print(\"R^2 score value is :\", r2_score(y,y_pred).round(2))"
   ]
  },
  {
   "cell_type": "code",
   "execution_count": 115,
   "id": "7c3bbcb0",
   "metadata": {},
   "outputs": [
    {
     "name": "stdout",
     "output_type": "stream",
     "text": [
      "Intercept point is :  12627.977894855681\n",
      "Co efficent is:  [-1.43877983e+00 -6.79475836e-08  1.83518123e-01  1.73990393e-05\n",
      "  3.60747133e+01  3.63830811e+01]\n",
      "Mean Squared Error is : 3657521.72\n",
      "RMSE is : 1912.46\n",
      "R^2 score value is : 0.72\n"
     ]
    }
   ],
   "source": [
    "lr.fit(x29,y)\n",
    "y_pred=lr.predict(x29)\n",
    "print(\"Intercept point is : \",lr.intercept_)\n",
    "print(\"Co efficent is: \", lr.coef_)\n",
    "print(\"Mean Squared Error is :\", mean_squared_error(y,y_pred).round(2))\n",
    "print(\"RMSE is :\", (np.sqrt(mean_squared_error(y,y_pred))).round(2))\n",
    "print(\"R^2 score value is :\", r2_score(y,y_pred).round(2))"
   ]
  },
  {
   "cell_type": "code",
   "execution_count": 116,
   "id": "d68ca2aa",
   "metadata": {},
   "outputs": [
    {
     "name": "stdout",
     "output_type": "stream",
     "text": [
      "Intercept point is :  12748.498903597689\n",
      "Co efficent is:  [-1.58248244e-02 -3.57664227e-13  1.19313829e-03  1.03417282e-09\n",
      "  7.26051807e+00 -5.51391894e-01]\n",
      "Mean Squared Error is : 4784951.05\n",
      "RMSE is : 2187.45\n",
      "R^2 score value is : 0.64\n"
     ]
    }
   ],
   "source": [
    "lr.fit(x30,y)\n",
    "y_pred=lr.predict(x30)\n",
    "print(\"Intercept point is : \",lr.intercept_)\n",
    "print(\"Co efficent is: \", lr.coef_)\n",
    "print(\"Mean Squared Error is :\", mean_squared_error(y,y_pred).round(2))\n",
    "print(\"RMSE is :\", (np.sqrt(mean_squared_error(y,y_pred))).round(2))\n",
    "print(\"R^2 score value is :\", r2_score(y,y_pred).round(2))"
   ]
  },
  {
   "cell_type": "code",
   "execution_count": 117,
   "id": "c400cac4",
   "metadata": {},
   "outputs": [
    {
     "name": "stdout",
     "output_type": "stream",
     "text": [
      "Intercept point is :  2258.158872186892\n",
      "Co efficent is:  [-5376.88805556   -49.50875306  2119.7841799    424.96334929\n",
      "  1138.22358938  8186.95086707]\n",
      "Mean Squared Error is : 2068298.25\n",
      "RMSE is : 1438.16\n",
      "R^2 score value is : 0.84\n"
     ]
    }
   ],
   "source": [
    "lr.fit(x31,y)\n",
    "y_pred=lr.predict(x31)\n",
    "print(\"Intercept point is : \",lr.intercept_)\n",
    "print(\"Co efficent is: \", lr.coef_)\n",
    "print(\"Mean Squared Error is :\", mean_squared_error(y,y_pred).round(2))\n",
    "print(\"RMSE is :\", (np.sqrt(mean_squared_error(y,y_pred))).round(2))\n",
    "print(\"R^2 score value is :\", r2_score(y,y_pred).round(2))"
   ]
  },
  {
   "cell_type": "code",
   "execution_count": 118,
   "id": "27890fd4",
   "metadata": {},
   "outputs": [
    {
     "name": "stdout",
     "output_type": "stream",
     "text": [
      "Intercept point is :  6746.180760367471\n",
      "Co efficent is:  [-1949.42523201    -6.66896023   621.87307954    77.28525221\n",
      "   664.10144902  4163.83826449]\n",
      "Mean Squared Error is : 2027899.86\n",
      "RMSE is : 1424.04\n",
      "R^2 score value is : 0.85\n"
     ]
    }
   ],
   "source": [
    "lr.fit(x32,y)\n",
    "y_pred=lr.predict(x32)\n",
    "print(\"Intercept point is : \",lr.intercept_)\n",
    "print(\"Co efficent is: \", lr.coef_)\n",
    "print(\"Mean Squared Error is :\", mean_squared_error(y,y_pred).round(2))\n",
    "print(\"RMSE is :\", (np.sqrt(mean_squared_error(y,y_pred))).round(2))\n",
    "print(\"R^2 score value is :\", r2_score(y,y_pred).round(2))"
   ]
  },
  {
   "cell_type": "code",
   "execution_count": 119,
   "id": "1ebe3148",
   "metadata": {},
   "outputs": [
    {
     "name": "stdout",
     "output_type": "stream",
     "text": [
      "Intercept point is :  11535.399774794174\n",
      "Co efficent is:  [-1.27442297e+00 -1.17126794e-07  2.37104607e-01  1.14623429e-05\n",
      "  2.88286914e+01  2.25293459e+01  8.06100129e-02]\n",
      "Mean Squared Error is : 3088577.02\n",
      "RMSE is : 1757.43\n",
      "R^2 score value is : 0.77\n"
     ]
    }
   ],
   "source": [
    "lr.fit(x33,y)\n",
    "y_pred=lr.predict(x33)\n",
    "print(\"Intercept point is : \",lr.intercept_)\n",
    "print(\"Co efficent is: \", lr.coef_)\n",
    "print(\"Mean Squared Error is :\", mean_squared_error(y,y_pred).round(2))\n",
    "print(\"RMSE is :\", (np.sqrt(mean_squared_error(y,y_pred))).round(2))\n",
    "print(\"R^2 score value is :\", r2_score(y,y_pred).round(2))"
   ]
  },
  {
   "cell_type": "code",
   "execution_count": 120,
   "id": "8517104e",
   "metadata": {},
   "outputs": [
    {
     "name": "stdout",
     "output_type": "stream",
     "text": [
      "Intercept point is :  11960.602235642804\n",
      "Co efficent is:  [-1.41740266e-02 -6.11677753e-13  1.42359413e-03  1.03007891e-09\n",
      "  6.25887287e+00 -1.17528645e+00  3.86083309e-04]\n",
      "Mean Squared Error is : 4017371.54\n",
      "RMSE is : 2004.34\n",
      "R^2 score value is : 0.69\n"
     ]
    }
   ],
   "source": [
    "lr.fit(x34,y)\n",
    "y_pred=lr.predict(x34)\n",
    "print(\"Intercept point is : \",lr.intercept_)\n",
    "print(\"Co efficent is: \", lr.coef_)\n",
    "print(\"Mean Squared Error is :\", mean_squared_error(y,y_pred).round(2))\n",
    "print(\"RMSE is :\", (np.sqrt(mean_squared_error(y,y_pred))).round(2))\n",
    "print(\"R^2 score value is :\", r2_score(y,y_pred).round(2))"
   ]
  },
  {
   "cell_type": "code",
   "execution_count": 121,
   "id": "a2888195",
   "metadata": {},
   "outputs": [
    {
     "name": "stdout",
     "output_type": "stream",
     "text": [
      "Intercept point is :  2036.9475333043156\n",
      "Co efficent is:  [-5099.18130323   -64.12902322  2747.75212149    85.33398591\n",
      "   859.72771275  6921.96455248   778.59163989]\n",
      "Mean Squared Error is : 1916743.26\n",
      "RMSE is : 1384.46\n",
      "R^2 score value is : 0.85\n"
     ]
    }
   ],
   "source": [
    "lr.fit(x35,y)\n",
    "y_pred=lr.predict(x35)\n",
    "print(\"Intercept point is : \",lr.intercept_)\n",
    "print(\"Co efficent is: \", lr.coef_)\n",
    "print(\"Mean Squared Error is :\", mean_squared_error(y,y_pred).round(2))\n",
    "print(\"RMSE is :\", (np.sqrt(mean_squared_error(y,y_pred))).round(2))\n",
    "print(\"R^2 score value is :\", r2_score(y,y_pred).round(2))"
   ]
  },
  {
   "cell_type": "code",
   "execution_count": 122,
   "id": "fd67d389",
   "metadata": {},
   "outputs": [
    {
     "name": "stdout",
     "output_type": "stream",
     "text": [
      "Intercept point is :  6146.298702911162\n",
      "Co efficent is:  [-1829.8871575     -8.60499398   831.2900231     16.84686307\n",
      "   498.1943621   3457.07275091   264.54822729]\n",
      "Mean Squared Error is : 1853022.96\n",
      "RMSE is : 1361.26\n",
      "R^2 score value is : 0.86\n"
     ]
    }
   ],
   "source": [
    "lr.fit(x36,y)\n",
    "y_pred=lr.predict(x36)\n",
    "print(\"Intercept point is : \",lr.intercept_)\n",
    "print(\"Co efficent is: \", lr.coef_)\n",
    "print(\"Mean Squared Error is :\", mean_squared_error(y,y_pred).round(2))\n",
    "print(\"RMSE is :\", (np.sqrt(mean_squared_error(y,y_pred))).round(2))\n",
    "print(\"R^2 score value is :\", r2_score(y,y_pred).round(2))"
   ]
  },
  {
   "cell_type": "code",
   "execution_count": 123,
   "id": "78a0f05a",
   "metadata": {},
   "outputs": [
    {
     "name": "stdout",
     "output_type": "stream",
     "text": [
      "Intercept point is :  2260.361084475957\n",
      "Co efficent is:  [-1.15056756e+00 -1.14344013e-07  1.49810486e-01  4.14067817e-06\n",
      "  9.20823266e-01  2.22609394e+01  8.65357755e-03  9.47140892e-03]\n",
      "Mean Squared Error is : 2575311.27\n",
      "RMSE is : 1604.78\n",
      "R^2 score value is : 0.8\n"
     ]
    }
   ],
   "source": [
    "lr.fit(x37,y)\n",
    "y_pred=lr.predict(x37)\n",
    "print(\"Intercept point is : \",lr.intercept_)\n",
    "print(\"Co efficent is: \", lr.coef_)\n",
    "print(\"Mean Squared Error is :\", mean_squared_error(y,y_pred).round(2))\n",
    "print(\"RMSE is :\", (np.sqrt(mean_squared_error(y,y_pred))).round(2))\n",
    "print(\"R^2 score value is :\", r2_score(y,y_pred).round(2))"
   ]
  },
  {
   "cell_type": "code",
   "execution_count": 124,
   "id": "bfe7f176",
   "metadata": {},
   "outputs": [
    {
     "name": "stdout",
     "output_type": "stream",
     "text": [
      "Intercept point is :  5883.251892439178\n",
      "Co efficent is:  [-1.29911952e-02 -5.85221788e-13  9.44533679e-04  5.84792907e-10\n",
      "  1.09956822e+00 -1.39573427e+00  4.41666365e-05  5.77372601e-06]\n",
      "Mean Squared Error is : 3403040.25\n",
      "RMSE is : 1844.73\n",
      "R^2 score value is : 0.74\n"
     ]
    }
   ],
   "source": [
    "lr.fit(x38,y)\n",
    "y_pred=lr.predict(x38)\n",
    "print(\"Intercept point is : \",lr.intercept_)\n",
    "print(\"Co efficent is: \", lr.coef_)\n",
    "print(\"Mean Squared Error is :\", mean_squared_error(y,y_pred).round(2))\n",
    "print(\"RMSE is :\", (np.sqrt(mean_squared_error(y,y_pred))).round(2))\n",
    "print(\"R^2 score value is :\", r2_score(y,y_pred).round(2))"
   ]
  },
  {
   "cell_type": "code",
   "execution_count": 125,
   "id": "113d3b3a",
   "metadata": {},
   "outputs": [
    {
     "name": "stdout",
     "output_type": "stream",
     "text": [
      "Intercept point is :  -37397.95132259548\n",
      "Co efficent is:  [-4523.35982358   -68.4805612   2542.55926466  -326.97601353\n",
      "  -144.06863309  6178.08869224   409.20688637  4656.19642365]\n",
      "Mean Squared Error is : 1696215.13\n",
      "RMSE is : 1302.39\n",
      "R^2 score value is : 0.87\n"
     ]
    }
   ],
   "source": [
    "lr.fit(x39,y)\n",
    "y_pred=lr.predict(x39)\n",
    "print(\"Intercept point is : \",lr.intercept_)\n",
    "print(\"Co efficent is: \", lr.coef_)\n",
    "print(\"Mean Squared Error is :\", mean_squared_error(y,y_pred).round(2))\n",
    "print(\"RMSE is :\", (np.sqrt(mean_squared_error(y,y_pred))).round(2))\n",
    "print(\"R^2 score value is :\", r2_score(y,y_pred).round(2))"
   ]
  },
  {
   "cell_type": "code",
   "execution_count": 126,
   "id": "2bb1482a",
   "metadata": {},
   "outputs": [
    {
     "name": "stdout",
     "output_type": "stream",
     "text": [
      "Intercept point is :  -20775.386585998465\n",
      "Co efficent is:  [-1624.76591856    -9.14891379   723.58744816   -41.80307817\n",
      "   -41.30694262  3156.75403738   117.58931149   978.79823087]\n",
      "Mean Squared Error is : 1620443.18\n",
      "RMSE is : 1272.97\n",
      "R^2 score value is : 0.88\n"
     ]
    }
   ],
   "source": [
    "lr.fit(x40,y)\n",
    "y_pred=lr.predict(x40)\n",
    "print(\"Intercept point is : \",lr.intercept_)\n",
    "print(\"Co efficent is: \", lr.coef_)\n",
    "print(\"Mean Squared Error is :\", mean_squared_error(y,y_pred).round(2))\n",
    "print(\"RMSE is :\", (np.sqrt(mean_squared_error(y,y_pred))).round(2))\n",
    "print(\"R^2 score value is :\", r2_score(y,y_pred).round(2))"
   ]
  },
  {
   "cell_type": "code",
   "execution_count": null,
   "id": "69d95b79",
   "metadata": {},
   "outputs": [],
   "source": []
  },
  {
   "cell_type": "markdown",
   "id": "256a21df",
   "metadata": {},
   "source": [
    " As we compare from the above we conclude that x40 model has high R^2 score and less rmse score, so we prefer x7 model nis the best suitable model"
   ]
  },
  {
   "cell_type": "code",
   "execution_count": null,
   "id": "cd55e98f",
   "metadata": {},
   "outputs": [],
   "source": []
  }
 ],
 "metadata": {
  "kernelspec": {
   "display_name": "Python 3 (ipykernel)",
   "language": "python",
   "name": "python3"
  },
  "language_info": {
   "codemirror_mode": {
    "name": "ipython",
    "version": 3
   },
   "file_extension": ".py",
   "mimetype": "text/x-python",
   "name": "python",
   "nbconvert_exporter": "python",
   "pygments_lexer": "ipython3",
   "version": "3.9.13"
  }
 },
 "nbformat": 4,
 "nbformat_minor": 5
}
